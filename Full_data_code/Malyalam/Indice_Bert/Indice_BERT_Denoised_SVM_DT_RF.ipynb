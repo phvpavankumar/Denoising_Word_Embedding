{
 "cells": [
  {
   "cell_type": "code",
   "execution_count": 1,
   "id": "e335d696",
   "metadata": {},
   "outputs": [
    {
     "name": "stdout",
     "output_type": "stream",
     "text": [
      "Fri Oct 22 13:33:05 2021       \n",
      "+-----------------------------------------------------------------------------+\n",
      "| NVIDIA-SMI 496.13       Driver Version: 496.13       CUDA Version: 11.5     |\n",
      "|-------------------------------+----------------------+----------------------+\n",
      "| GPU  Name            TCC/WDDM | Bus-Id        Disp.A | Volatile Uncorr. ECC |\n",
      "| Fan  Temp  Perf  Pwr:Usage/Cap|         Memory-Usage | GPU-Util  Compute M. |\n",
      "|                               |                      |               MIG M. |\n",
      "|===============================+======================+======================|\n",
      "|   0  NVIDIA GeForce ... WDDM  | 00000000:01:00.0 Off |                  N/A |\n",
      "| N/A   53C    P0    N/A /  N/A |    121MiB /  6144MiB |      0%      Default |\n",
      "|                               |                      |                  N/A |\n",
      "+-------------------------------+----------------------+----------------------+\n",
      "                                                                               \n",
      "+-----------------------------------------------------------------------------+\n",
      "| Processes:                                                                  |\n",
      "|  GPU   GI   CI        PID   Type   Process name                  GPU Memory |\n",
      "|        ID   ID                                                   Usage      |\n",
      "|=============================================================================|\n",
      "|  No running processes found                                                 |\n",
      "+-----------------------------------------------------------------------------+\n"
     ]
    }
   ],
   "source": [
    "!nvidia-smi"
   ]
  },
  {
   "cell_type": "code",
   "execution_count": 2,
   "id": "0abc46e6",
   "metadata": {},
   "outputs": [],
   "source": [
    "from WR_LS_Denoising import WR_LS_Denoise\n",
    "import numpy as np"
   ]
  },
  {
   "cell_type": "code",
   "execution_count": 3,
   "id": "61aa4c8a",
   "metadata": {},
   "outputs": [],
   "source": [
    "X_train = np.load('Indice_BERT_X_train.npy')\n",
    "Y_train = np.load('Y_train.npy')\n",
    "X_val = np.load('Indice_BERT_X_val.npy')\n",
    "Y_val = np.load('Y_val.npy')"
   ]
  },
  {
   "cell_type": "code",
   "execution_count": 4,
   "id": "fde6f974",
   "metadata": {},
   "outputs": [],
   "source": [
    "import cupy as cp"
   ]
  },
  {
   "cell_type": "code",
   "execution_count": 5,
   "id": "57d4bea3",
   "metadata": {},
   "outputs": [],
   "source": [
    "X_train = cp.array(X_train)\n",
    "Y_train = cp.array(Y_train)\n",
    "X_val = cp.array(X_val)\n",
    "Y_val = cp.array(Y_val)"
   ]
  },
  {
   "cell_type": "code",
   "execution_count": 6,
   "id": "2e8399c4",
   "metadata": {},
   "outputs": [],
   "source": [
    "import time"
   ]
  },
  {
   "cell_type": "code",
   "execution_count": 7,
   "id": "17b9ee6d",
   "metadata": {},
   "outputs": [
    {
     "name": "stdout",
     "output_type": "stream",
     "text": [
      "Fri Oct 22 13:33:06 2021\n",
      "0 Fri Oct 22 13:33:08 2021\n",
      "1000 Fri Oct 22 13:33:57 2021\n",
      "2000 Fri Oct 22 13:34:46 2021\n",
      "3000 Fri Oct 22 13:35:35 2021\n",
      "4000 Fri Oct 22 13:36:27 2021\n",
      "5000 Fri Oct 22 13:37:17 2021\n",
      "6000 Fri Oct 22 13:38:07 2021\n",
      "7000 Fri Oct 22 13:38:57 2021\n",
      "8000 Fri Oct 22 13:39:47 2021\n",
      "9000 Fri Oct 22 13:40:37 2021\n",
      "10000 Fri Oct 22 13:41:27 2021\n",
      "11000 Fri Oct 22 13:42:20 2021\n",
      "12000 Fri Oct 22 13:43:13 2021\n",
      "13000 Fri Oct 22 13:44:06 2021\n",
      "14000 Fri Oct 22 13:44:59 2021\n",
      "15000 Fri Oct 22 13:45:52 2021\n"
     ]
    }
   ],
   "source": [
    "start = time.ctime(time.time())\n",
    "print(start)\n",
    "for i in range(len(X_train)):\n",
    "    Denoised =  WR_LS_Denoise(X_train[i])\n",
    "    X_train[i] = X_train[i]\n",
    "    if(i%1000 == 0):\n",
    "        print(i, time.ctime(time.time()))"
   ]
  },
  {
   "cell_type": "code",
   "execution_count": 8,
   "id": "76110859",
   "metadata": {},
   "outputs": [
    {
     "name": "stdout",
     "output_type": "stream",
     "text": [
      "Fri Oct 22 13:46:38 2021       \n",
      "+-----------------------------------------------------------------------------+\n",
      "| NVIDIA-SMI 496.13       Driver Version: 496.13       CUDA Version: 11.5     |\n",
      "|-------------------------------+----------------------+----------------------+\n",
      "| GPU  Name            TCC/WDDM | Bus-Id        Disp.A | Volatile Uncorr. ECC |\n",
      "| Fan  Temp  Perf  Pwr:Usage/Cap|         Memory-Usage | GPU-Util  Compute M. |\n",
      "|                               |                      |               MIG M. |\n",
      "|===============================+======================+======================|\n",
      "|   0  NVIDIA GeForce ... WDDM  | 00000000:01:00.0 Off |                  N/A |\n",
      "| N/A   68C    P0    44W /  N/A |    955MiB /  6144MiB |     42%      Default |\n",
      "|                               |                      |                  N/A |\n",
      "+-------------------------------+----------------------+----------------------+\n",
      "                                                                               \n",
      "+-----------------------------------------------------------------------------+\n",
      "| Processes:                                                                  |\n",
      "|  GPU   GI   CI        PID   Type   Process name                  GPU Memory |\n",
      "|        ID   ID                                                   Usage      |\n",
      "|=============================================================================|\n",
      "|    0   N/A  N/A      6840      C   ...da3\\envs\\MuRIL\\python.exe    N/A      |\n",
      "+-----------------------------------------------------------------------------+\n"
     ]
    }
   ],
   "source": [
    "!nvidia-smi"
   ]
  },
  {
   "cell_type": "code",
   "execution_count": 9,
   "id": "ad3c9df3",
   "metadata": {},
   "outputs": [
    {
     "name": "stdout",
     "output_type": "stream",
     "text": [
      "Fri Oct 22 13:46:38 2021\n",
      "0 Fri Oct 22 13:46:38 2021\n",
      "1000 Fri Oct 22 13:47:30 2021\n"
     ]
    }
   ],
   "source": [
    "start = time.ctime(time.time())\n",
    "print(start)\n",
    "for i in range(len(X_val)):\n",
    "    Denoised =  WR_LS_Denoise(X_val[i])\n",
    "    X_val[i] = X_val[i]\n",
    "    if(i%1000 == 0):\n",
    "        print(i, time.ctime(time.time()))"
   ]
  },
  {
   "cell_type": "code",
   "execution_count": 16,
   "id": "ee29de82",
   "metadata": {},
   "outputs": [],
   "source": [
    "WR_LS_Denoised_X_train = cp.save('WR_LS_Denoised_Indice_BERT_X_train.npy',X_train)\n",
    "WR_LS_Denoised_X_val = cp.save('WR_LS_Denoised_Indice_BERT_X_val.npy',X_val)"
   ]
  },
  {
   "cell_type": "code",
   "execution_count": 17,
   "id": "019c08db",
   "metadata": {},
   "outputs": [],
   "source": [
    "import cupy as cp\n",
    "import numpy as np"
   ]
  },
  {
   "cell_type": "code",
   "execution_count": 18,
   "id": "e46ef610",
   "metadata": {},
   "outputs": [
    {
     "name": "stdout",
     "output_type": "stream",
     "text": [
      " Volume in drive C is Acer\n",
      " Volume Serial Number is 3818-7542\n",
      "\n",
      " Directory of C:\\Users\\phvpa\\OneDrive - Amrita Vishwa Vidyapeetham\\Amrita-Mtech-CEN\\ProjectWork\\MTech Thesis\\Denoise in Code mix data\\Experiments\\Malyalam\\Indice_BERT\n",
      "\n",
      "22-10-2021  14:28    <DIR>          .\n",
      "22-10-2021  06:25    <DIR>          ..\n",
      "22-10-2021  06:31    <DIR>          .ipynb_checkpoints\n",
      "22-10-2021  13:31    <DIR>          __pycache__\n",
      "22-10-2021  06:25    <DIR>          Backup\n",
      "22-10-2021  14:27            25,025 Denoised_SVM_DT_RF.ipynb\n",
      "22-10-2021  07:13           187,035 Indice_BERT.ipynb\n",
      "22-10-2021  03:55        48,808,064 Indice_BERT_X_train.npy\n",
      "22-10-2021  03:50         5,425,280 Indice_BERT_X_val.npy\n",
      "22-10-2021  13:31    <DIR>          lamda=0.1\n",
      "23-05-2021  09:42           268,731 Mal_sentiment_full_dev.tsv\n",
      "16-06-2021  04:34           287,576 Mal_sentiment_full_test_withoutlabels.tsv\n",
      "23-05-2021  09:41         2,382,197 Mal_sentiment_full_train.tsv\n",
      "22-10-2021  14:28        48,808,064 WR_LS_Denoised_Indice_BERT_X_train.npy\n",
      "22-10-2021  14:28         5,425,280 WR_LS_Denoised_Indice_BERT_X_val.npy\n",
      "22-10-2021  13:30               360 WR_LS_Denoising.py\n",
      "22-10-2021  03:50           127,232 Y_train.npy\n",
      "22-10-2021  03:50            14,256 Y_val.npy\n",
      "              12 File(s)    111,759,100 bytes\n",
      "               6 Dir(s)  335,569,641,472 bytes free\n"
     ]
    }
   ],
   "source": [
    "ls"
   ]
  },
  {
   "cell_type": "code",
   "execution_count": 19,
   "id": "636e8ec6",
   "metadata": {},
   "outputs": [],
   "source": [
    "X_train = np.load('WR_LS_Denoised_Indice_BERT_X_train.npy')\n",
    "X_val = np.load('WR_LS_Denoised_Indice_BERT_X_val.npy')"
   ]
  },
  {
   "cell_type": "code",
   "execution_count": 20,
   "id": "d3c1f823",
   "metadata": {},
   "outputs": [],
   "source": [
    "Y_train = np.load('Y_train.npy')\n",
    "Y_val = np.load('Y_val.npy')"
   ]
  },
  {
   "cell_type": "code",
   "execution_count": null,
   "id": "734694aa",
   "metadata": {},
   "outputs": [],
   "source": [
    "# X_train = cp.asarray(X_train)\n",
    "# Y_train = cp.asarray(Y_train)\n",
    "# X_val = cp.asarray(X_val)\n",
    "# Y_val = cp.asarray(Y_val)"
   ]
  },
  {
   "cell_type": "code",
   "execution_count": 21,
   "id": "a32873c1",
   "metadata": {},
   "outputs": [
    {
     "data": {
      "text/plain": [
       "numpy.ndarray"
      ]
     },
     "execution_count": 21,
     "metadata": {},
     "output_type": "execute_result"
    }
   ],
   "source": [
    "type(X_train)"
   ]
  },
  {
   "cell_type": "code",
   "execution_count": 22,
   "id": "a7c0e51c",
   "metadata": {},
   "outputs": [
    {
     "data": {
      "text/plain": [
       "(15888, 768)"
      ]
     },
     "execution_count": 22,
     "metadata": {},
     "output_type": "execute_result"
    }
   ],
   "source": [
    "X_train.shape"
   ]
  },
  {
   "cell_type": "code",
   "execution_count": 23,
   "id": "85a91e2c",
   "metadata": {},
   "outputs": [
    {
     "data": {
      "text/plain": [
       "(15888,)"
      ]
     },
     "execution_count": 23,
     "metadata": {},
     "output_type": "execute_result"
    }
   ],
   "source": [
    "Y_train.shape"
   ]
  },
  {
   "cell_type": "code",
   "execution_count": 24,
   "id": "02acf09b",
   "metadata": {},
   "outputs": [
    {
     "data": {
      "text/plain": [
       "numpy.ndarray"
      ]
     },
     "execution_count": 24,
     "metadata": {},
     "output_type": "execute_result"
    }
   ],
   "source": [
    "type(Y_train)"
   ]
  },
  {
   "cell_type": "markdown",
   "id": "d345d9a3",
   "metadata": {},
   "source": [
    "# SVM"
   ]
  },
  {
   "cell_type": "code",
   "execution_count": 25,
   "id": "7e0d4127",
   "metadata": {},
   "outputs": [],
   "source": [
    "from sklearn.svm import SVC\n",
    "from sklearn.metrics import confusion_matrix, classification_report"
   ]
  },
  {
   "cell_type": "code",
   "execution_count": 26,
   "id": "72d87abf",
   "metadata": {},
   "outputs": [
    {
     "data": {
      "text/plain": [
       "SVC(decision_function_shape='ovo')"
      ]
     },
     "execution_count": 26,
     "metadata": {},
     "output_type": "execute_result"
    }
   ],
   "source": [
    "svc = SVC(decision_function_shape='ovo')\n",
    "svc.fit(X_train,Y_train)"
   ]
  },
  {
   "cell_type": "code",
   "execution_count": 27,
   "id": "d5c37e8b",
   "metadata": {},
   "outputs": [],
   "source": [
    "pred_svc = svc.predict(X_val)"
   ]
  },
  {
   "cell_type": "code",
   "execution_count": 28,
   "id": "3aac1faa",
   "metadata": {},
   "outputs": [
    {
     "data": {
      "text/plain": [
       "array([[  0,   0, 102,   0,   0],\n",
       "       [  0,   0, 237,   0,   0],\n",
       "       [  0,   0, 701,   0,   5],\n",
       "       [  0,   0, 141,   0,   0],\n",
       "       [  0,   0, 578,   0,   2]], dtype=int64)"
      ]
     },
     "execution_count": 28,
     "metadata": {},
     "output_type": "execute_result"
    }
   ],
   "source": [
    "confusion_matrix(Y_val,pred_svc)"
   ]
  },
  {
   "cell_type": "code",
   "execution_count": 29,
   "id": "b3ab3232",
   "metadata": {},
   "outputs": [
    {
     "name": "stdout",
     "output_type": "stream",
     "text": [
      "              precision    recall  f1-score   support\n",
      "\n",
      "           0       0.00      0.00      0.00       102\n",
      "           1       0.00      0.00      0.00       237\n",
      "           2       0.40      0.99      0.57       706\n",
      "           3       0.00      0.00      0.00       141\n",
      "           4       0.29      0.00      0.01       580\n",
      "\n",
      "    accuracy                           0.40      1766\n",
      "   macro avg       0.14      0.20      0.12      1766\n",
      "weighted avg       0.25      0.40      0.23      1766\n",
      "\n"
     ]
    },
    {
     "name": "stderr",
     "output_type": "stream",
     "text": [
      "C:\\Users\\phvpa\\anaconda3\\envs\\MuRIL\\lib\\site-packages\\sklearn\\metrics\\_classification.py:1308: UndefinedMetricWarning: Precision and F-score are ill-defined and being set to 0.0 in labels with no predicted samples. Use `zero_division` parameter to control this behavior.\n",
      "  _warn_prf(average, modifier, msg_start, len(result))\n",
      "C:\\Users\\phvpa\\anaconda3\\envs\\MuRIL\\lib\\site-packages\\sklearn\\metrics\\_classification.py:1308: UndefinedMetricWarning: Precision and F-score are ill-defined and being set to 0.0 in labels with no predicted samples. Use `zero_division` parameter to control this behavior.\n",
      "  _warn_prf(average, modifier, msg_start, len(result))\n",
      "C:\\Users\\phvpa\\anaconda3\\envs\\MuRIL\\lib\\site-packages\\sklearn\\metrics\\_classification.py:1308: UndefinedMetricWarning: Precision and F-score are ill-defined and being set to 0.0 in labels with no predicted samples. Use `zero_division` parameter to control this behavior.\n",
      "  _warn_prf(average, modifier, msg_start, len(result))\n"
     ]
    }
   ],
   "source": [
    "print(classification_report(Y_val,pred_svc))"
   ]
  },
  {
   "cell_type": "markdown",
   "id": "1d52c3b4",
   "metadata": {},
   "source": [
    "## DecisionTree"
   ]
  },
  {
   "cell_type": "code",
   "execution_count": 30,
   "id": "22eaebbc",
   "metadata": {},
   "outputs": [],
   "source": [
    "from sklearn.tree import DecisionTreeClassifier"
   ]
  },
  {
   "cell_type": "code",
   "execution_count": 31,
   "id": "6328e7df",
   "metadata": {},
   "outputs": [],
   "source": [
    "Dtree = DecisionTreeClassifier(criterion='entropy', random_state=10)"
   ]
  },
  {
   "cell_type": "code",
   "execution_count": 32,
   "id": "08dd8070",
   "metadata": {},
   "outputs": [
    {
     "data": {
      "text/plain": [
       "DecisionTreeClassifier(criterion='entropy', random_state=10)"
      ]
     },
     "execution_count": 32,
     "metadata": {},
     "output_type": "execute_result"
    }
   ],
   "source": [
    "Dtree.fit(X_train,Y_train)"
   ]
  },
  {
   "cell_type": "code",
   "execution_count": 33,
   "id": "afb71803",
   "metadata": {},
   "outputs": [],
   "source": [
    "pred_Dtree = Dtree.predict(X_val)"
   ]
  },
  {
   "cell_type": "code",
   "execution_count": 34,
   "id": "e67c6e6b",
   "metadata": {},
   "outputs": [
    {
     "data": {
      "text/plain": [
       "array([[  2,  10,  57,   1,  32],\n",
       "       [  7,  42, 139,   1,  48],\n",
       "       [ 22,  89, 370,   2, 223],\n",
       "       [  3,   6,  64,   4,  64],\n",
       "       [ 14,  48, 323,   8, 187]], dtype=int64)"
      ]
     },
     "execution_count": 34,
     "metadata": {},
     "output_type": "execute_result"
    }
   ],
   "source": [
    "confusion_matrix(Y_val,pred_Dtree)"
   ]
  },
  {
   "cell_type": "code",
   "execution_count": 35,
   "id": "9c525bf7",
   "metadata": {},
   "outputs": [
    {
     "name": "stdout",
     "output_type": "stream",
     "text": [
      "              precision    recall  f1-score   support\n",
      "\n",
      "           0       0.04      0.02      0.03       102\n",
      "           1       0.22      0.18      0.19       237\n",
      "           2       0.39      0.52      0.45       706\n",
      "           3       0.25      0.03      0.05       141\n",
      "           4       0.34      0.32      0.33       580\n",
      "\n",
      "    accuracy                           0.34      1766\n",
      "   macro avg       0.25      0.21      0.21      1766\n",
      "weighted avg       0.32      0.34      0.32      1766\n",
      "\n"
     ]
    }
   ],
   "source": [
    "print(classification_report(Y_val,pred_Dtree))"
   ]
  },
  {
   "cell_type": "markdown",
   "id": "3a4f41b3",
   "metadata": {},
   "source": [
    "## Random Forest"
   ]
  },
  {
   "cell_type": "code",
   "execution_count": 36,
   "id": "a2260390",
   "metadata": {},
   "outputs": [],
   "source": [
    "from sklearn.ensemble import RandomForestClassifier"
   ]
  },
  {
   "cell_type": "code",
   "execution_count": 37,
   "id": "d878b35a",
   "metadata": {},
   "outputs": [
    {
     "data": {
      "text/plain": [
       "RandomForestClassifier()"
      ]
     },
     "execution_count": 37,
     "metadata": {},
     "output_type": "execute_result"
    }
   ],
   "source": [
    "RFC = RandomForestClassifier()\n",
    "RFC.fit(X_train,Y_train)"
   ]
  },
  {
   "cell_type": "code",
   "execution_count": 38,
   "id": "724ea596",
   "metadata": {},
   "outputs": [],
   "source": [
    "pred_RFC = RFC.predict(X_val)"
   ]
  },
  {
   "cell_type": "code",
   "execution_count": 39,
   "id": "dc4743ed",
   "metadata": {},
   "outputs": [
    {
     "data": {
      "text/plain": [
       "array([[  0,   1,  93,   0,   8],\n",
       "       [  0,   2, 216,   0,  19],\n",
       "       [  0,   0, 613,   1,  92],\n",
       "       [  0,   0, 106,   3,  32],\n",
       "       [  0,   2, 488,   2,  88]], dtype=int64)"
      ]
     },
     "execution_count": 39,
     "metadata": {},
     "output_type": "execute_result"
    }
   ],
   "source": [
    "confusion_matrix(Y_val,pred_RFC)"
   ]
  },
  {
   "cell_type": "code",
   "execution_count": 40,
   "id": "6362c92e",
   "metadata": {},
   "outputs": [
    {
     "name": "stdout",
     "output_type": "stream",
     "text": [
      "              precision    recall  f1-score   support\n",
      "\n",
      "           0       0.00      0.00      0.00       102\n",
      "           1       0.40      0.01      0.02       237\n",
      "           2       0.40      0.87      0.55       706\n",
      "           3       0.50      0.02      0.04       141\n",
      "           4       0.37      0.15      0.21       580\n",
      "\n",
      "    accuracy                           0.40      1766\n",
      "   macro avg       0.33      0.21      0.16      1766\n",
      "weighted avg       0.38      0.40      0.30      1766\n",
      "\n"
     ]
    },
    {
     "name": "stderr",
     "output_type": "stream",
     "text": [
      "C:\\Users\\phvpa\\anaconda3\\envs\\MuRIL\\lib\\site-packages\\sklearn\\metrics\\_classification.py:1308: UndefinedMetricWarning: Precision and F-score are ill-defined and being set to 0.0 in labels with no predicted samples. Use `zero_division` parameter to control this behavior.\n",
      "  _warn_prf(average, modifier, msg_start, len(result))\n",
      "C:\\Users\\phvpa\\anaconda3\\envs\\MuRIL\\lib\\site-packages\\sklearn\\metrics\\_classification.py:1308: UndefinedMetricWarning: Precision and F-score are ill-defined and being set to 0.0 in labels with no predicted samples. Use `zero_division` parameter to control this behavior.\n",
      "  _warn_prf(average, modifier, msg_start, len(result))\n",
      "C:\\Users\\phvpa\\anaconda3\\envs\\MuRIL\\lib\\site-packages\\sklearn\\metrics\\_classification.py:1308: UndefinedMetricWarning: Precision and F-score are ill-defined and being set to 0.0 in labels with no predicted samples. Use `zero_division` parameter to control this behavior.\n",
      "  _warn_prf(average, modifier, msg_start, len(result))\n"
     ]
    }
   ],
   "source": [
    "print(classification_report(Y_val,pred_RFC))"
   ]
  },
  {
   "cell_type": "markdown",
   "id": "7679f125",
   "metadata": {},
   "source": [
    "# Orginal"
   ]
  },
  {
   "cell_type": "code",
   "execution_count": 42,
   "id": "ab40c0e5",
   "metadata": {},
   "outputs": [],
   "source": [
    "X_train = np.load('Indice_BERT_X_train.npy')\n",
    "Y_train = np.load('Y_train.npy')\n",
    "X_val = np.load('Indice_BERT_X_val.npy')\n",
    "Y_val = np.load('Y_val.npy')"
   ]
  },
  {
   "cell_type": "code",
   "execution_count": 43,
   "id": "0f8a8de1",
   "metadata": {},
   "outputs": [],
   "source": [
    "from sklearn.svm import SVC\n",
    "from sklearn.metrics import confusion_matrix, classification_report"
   ]
  },
  {
   "cell_type": "code",
   "execution_count": 44,
   "id": "d2535d4e",
   "metadata": {},
   "outputs": [
    {
     "data": {
      "text/plain": [
       "SVC(decision_function_shape='ovo')"
      ]
     },
     "execution_count": 44,
     "metadata": {},
     "output_type": "execute_result"
    }
   ],
   "source": [
    "svc = SVC(decision_function_shape='ovo')\n",
    "svc.fit(X_train,Y_train)"
   ]
  },
  {
   "cell_type": "code",
   "execution_count": 45,
   "id": "a508a09a",
   "metadata": {},
   "outputs": [],
   "source": [
    "pred_svc = svc.predict(X_val)"
   ]
  },
  {
   "cell_type": "code",
   "execution_count": 46,
   "id": "9a51b739",
   "metadata": {},
   "outputs": [
    {
     "data": {
      "text/plain": [
       "array([[  0,   0, 102,   0,   0],\n",
       "       [  0,   0, 237,   0,   0],\n",
       "       [  0,   0, 701,   0,   5],\n",
       "       [  0,   0, 141,   0,   0],\n",
       "       [  0,   0, 578,   0,   2]], dtype=int64)"
      ]
     },
     "execution_count": 46,
     "metadata": {},
     "output_type": "execute_result"
    }
   ],
   "source": [
    "confusion_matrix(Y_val,pred_svc)"
   ]
  },
  {
   "cell_type": "code",
   "execution_count": 47,
   "id": "8845fe54",
   "metadata": {},
   "outputs": [
    {
     "name": "stdout",
     "output_type": "stream",
     "text": [
      "              precision    recall  f1-score   support\n",
      "\n",
      "           0       0.00      0.00      0.00       102\n",
      "           1       0.00      0.00      0.00       237\n",
      "           2       0.40      0.99      0.57       706\n",
      "           3       0.00      0.00      0.00       141\n",
      "           4       0.29      0.00      0.01       580\n",
      "\n",
      "    accuracy                           0.40      1766\n",
      "   macro avg       0.14      0.20      0.12      1766\n",
      "weighted avg       0.25      0.40      0.23      1766\n",
      "\n"
     ]
    },
    {
     "name": "stderr",
     "output_type": "stream",
     "text": [
      "C:\\Users\\phvpa\\anaconda3\\envs\\MuRIL\\lib\\site-packages\\sklearn\\metrics\\_classification.py:1308: UndefinedMetricWarning: Precision and F-score are ill-defined and being set to 0.0 in labels with no predicted samples. Use `zero_division` parameter to control this behavior.\n",
      "  _warn_prf(average, modifier, msg_start, len(result))\n",
      "C:\\Users\\phvpa\\anaconda3\\envs\\MuRIL\\lib\\site-packages\\sklearn\\metrics\\_classification.py:1308: UndefinedMetricWarning: Precision and F-score are ill-defined and being set to 0.0 in labels with no predicted samples. Use `zero_division` parameter to control this behavior.\n",
      "  _warn_prf(average, modifier, msg_start, len(result))\n",
      "C:\\Users\\phvpa\\anaconda3\\envs\\MuRIL\\lib\\site-packages\\sklearn\\metrics\\_classification.py:1308: UndefinedMetricWarning: Precision and F-score are ill-defined and being set to 0.0 in labels with no predicted samples. Use `zero_division` parameter to control this behavior.\n",
      "  _warn_prf(average, modifier, msg_start, len(result))\n"
     ]
    }
   ],
   "source": [
    "print(classification_report(Y_val,pred_svc))"
   ]
  },
  {
   "cell_type": "markdown",
   "id": "2cc14e46",
   "metadata": {},
   "source": [
    "## DecisionTree"
   ]
  },
  {
   "cell_type": "code",
   "execution_count": 48,
   "id": "df0d19ce",
   "metadata": {},
   "outputs": [],
   "source": [
    "from sklearn.tree import DecisionTreeClassifier"
   ]
  },
  {
   "cell_type": "code",
   "execution_count": 49,
   "id": "7c4ca6be",
   "metadata": {},
   "outputs": [],
   "source": [
    "Dtree = DecisionTreeClassifier(criterion='entropy', random_state=10)"
   ]
  },
  {
   "cell_type": "code",
   "execution_count": 50,
   "id": "da1eb9a6",
   "metadata": {},
   "outputs": [
    {
     "data": {
      "text/plain": [
       "DecisionTreeClassifier(criterion='entropy', random_state=10)"
      ]
     },
     "execution_count": 50,
     "metadata": {},
     "output_type": "execute_result"
    }
   ],
   "source": [
    "Dtree.fit(X_train,Y_train)"
   ]
  },
  {
   "cell_type": "code",
   "execution_count": 51,
   "id": "d9cbd972",
   "metadata": {},
   "outputs": [],
   "source": [
    "pred_Dtree = Dtree.predict(X_val)"
   ]
  },
  {
   "cell_type": "code",
   "execution_count": 52,
   "id": "e67c6e6b",
   "metadata": {},
   "outputs": [
    {
     "data": {
      "text/plain": [
       "array([[  2,  10,  57,   1,  32],\n",
       "       [  7,  42, 139,   1,  48],\n",
       "       [ 22,  89, 370,   2, 223],\n",
       "       [  3,   6,  64,   4,  64],\n",
       "       [ 14,  48, 323,   8, 187]], dtype=int64)"
      ]
     },
     "execution_count": 52,
     "metadata": {},
     "output_type": "execute_result"
    }
   ],
   "source": [
    "confusion_matrix(Y_val,pred_Dtree)"
   ]
  },
  {
   "cell_type": "code",
   "execution_count": 53,
   "id": "9c525bf7",
   "metadata": {},
   "outputs": [
    {
     "name": "stdout",
     "output_type": "stream",
     "text": [
      "              precision    recall  f1-score   support\n",
      "\n",
      "           0       0.04      0.02      0.03       102\n",
      "           1       0.22      0.18      0.19       237\n",
      "           2       0.39      0.52      0.45       706\n",
      "           3       0.25      0.03      0.05       141\n",
      "           4       0.34      0.32      0.33       580\n",
      "\n",
      "    accuracy                           0.34      1766\n",
      "   macro avg       0.25      0.21      0.21      1766\n",
      "weighted avg       0.32      0.34      0.32      1766\n",
      "\n"
     ]
    }
   ],
   "source": [
    "print(classification_report(Y_val,pred_Dtree))"
   ]
  },
  {
   "cell_type": "markdown",
   "id": "3a4f41b3",
   "metadata": {},
   "source": [
    "## Random Forest"
   ]
  },
  {
   "cell_type": "code",
   "execution_count": 54,
   "id": "a2260390",
   "metadata": {},
   "outputs": [],
   "source": [
    "from sklearn.ensemble import RandomForestClassifier"
   ]
  },
  {
   "cell_type": "code",
   "execution_count": 55,
   "id": "d878b35a",
   "metadata": {},
   "outputs": [
    {
     "data": {
      "text/plain": [
       "RandomForestClassifier()"
      ]
     },
     "execution_count": 55,
     "metadata": {},
     "output_type": "execute_result"
    }
   ],
   "source": [
    "RFC = RandomForestClassifier()\n",
    "RFC.fit(X_train,Y_train)"
   ]
  },
  {
   "cell_type": "code",
   "execution_count": 56,
   "id": "724ea596",
   "metadata": {},
   "outputs": [],
   "source": [
    "pred_RFC = RFC.predict(X_val)"
   ]
  },
  {
   "cell_type": "code",
   "execution_count": 57,
   "id": "dc4743ed",
   "metadata": {},
   "outputs": [
    {
     "data": {
      "text/plain": [
       "array([[  0,   0,  61,   0,  41],\n",
       "       [  0,   3, 151,   0,  83],\n",
       "       [  0,   0, 443,   0, 263],\n",
       "       [  0,   0,  78,   2,  61],\n",
       "       [  0,   1, 324,   2, 253]], dtype=int64)"
      ]
     },
     "execution_count": 57,
     "metadata": {},
     "output_type": "execute_result"
    }
   ],
   "source": [
    "confusion_matrix(Y_val,pred_RFC)"
   ]
  },
  {
   "cell_type": "code",
   "execution_count": 58,
   "id": "6362c92e",
   "metadata": {},
   "outputs": [
    {
     "name": "stdout",
     "output_type": "stream",
     "text": [
      "              precision    recall  f1-score   support\n",
      "\n",
      "           0       0.00      0.00      0.00       102\n",
      "           1       0.75      0.01      0.02       237\n",
      "           2       0.42      0.63      0.50       706\n",
      "           3       0.50      0.01      0.03       141\n",
      "           4       0.36      0.44      0.40       580\n",
      "\n",
      "    accuracy                           0.40      1766\n",
      "   macro avg       0.41      0.22      0.19      1766\n",
      "weighted avg       0.43      0.40      0.34      1766\n",
      "\n"
     ]
    },
    {
     "name": "stderr",
     "output_type": "stream",
     "text": [
      "C:\\Users\\phvpa\\anaconda3\\envs\\MuRIL\\lib\\site-packages\\sklearn\\metrics\\_classification.py:1308: UndefinedMetricWarning: Precision and F-score are ill-defined and being set to 0.0 in labels with no predicted samples. Use `zero_division` parameter to control this behavior.\n",
      "  _warn_prf(average, modifier, msg_start, len(result))\n",
      "C:\\Users\\phvpa\\anaconda3\\envs\\MuRIL\\lib\\site-packages\\sklearn\\metrics\\_classification.py:1308: UndefinedMetricWarning: Precision and F-score are ill-defined and being set to 0.0 in labels with no predicted samples. Use `zero_division` parameter to control this behavior.\n",
      "  _warn_prf(average, modifier, msg_start, len(result))\n",
      "C:\\Users\\phvpa\\anaconda3\\envs\\MuRIL\\lib\\site-packages\\sklearn\\metrics\\_classification.py:1308: UndefinedMetricWarning: Precision and F-score are ill-defined and being set to 0.0 in labels with no predicted samples. Use `zero_division` parameter to control this behavior.\n",
      "  _warn_prf(average, modifier, msg_start, len(result))\n"
     ]
    }
   ],
   "source": [
    "print(classification_report(Y_val,pred_RFC))"
   ]
  },
  {
   "cell_type": "code",
   "execution_count": 59,
   "id": "b3e76559",
   "metadata": {},
   "outputs": [
    {
     "name": "stdout",
     "output_type": "stream",
     "text": [
      "Fri Oct 22 14:47:56 2021       \n",
      "+-----------------------------------------------------------------------------+\n",
      "| NVIDIA-SMI 496.13       Driver Version: 496.13       CUDA Version: 11.5     |\n",
      "|-------------------------------+----------------------+----------------------+\n",
      "| GPU  Name            TCC/WDDM | Bus-Id        Disp.A | Volatile Uncorr. ECC |\n",
      "| Fan  Temp  Perf  Pwr:Usage/Cap|         Memory-Usage | GPU-Util  Compute M. |\n",
      "|                               |                      |               MIG M. |\n",
      "|===============================+======================+======================|\n",
      "|   0  NVIDIA GeForce ... WDDM  | 00000000:01:00.0 Off |                  N/A |\n",
      "| N/A   55C    P8    12W /  N/A |    955MiB /  6144MiB |      0%      Default |\n",
      "|                               |                      |                  N/A |\n",
      "+-------------------------------+----------------------+----------------------+\n",
      "                                                                               \n",
      "+-----------------------------------------------------------------------------+\n",
      "| Processes:                                                                  |\n",
      "|  GPU   GI   CI        PID   Type   Process name                  GPU Memory |\n",
      "|        ID   ID                                                   Usage      |\n",
      "|=============================================================================|\n",
      "|    0   N/A  N/A      6840      C   ...da3\\envs\\MuRIL\\python.exe    N/A      |\n",
      "+-----------------------------------------------------------------------------+\n"
     ]
    }
   ],
   "source": [
    "!nvidia-smi"
   ]
  },
  {
   "cell_type": "code",
   "execution_count": null,
   "id": "2e31133a",
   "metadata": {},
   "outputs": [],
   "source": []
  },
  {
   "cell_type": "code",
   "execution_count": null,
   "id": "80b8b7f5",
   "metadata": {},
   "outputs": [],
   "source": []
  },
  {
   "cell_type": "code",
   "execution_count": null,
   "id": "c76dfef5",
   "metadata": {},
   "outputs": [],
   "source": []
  }
 ],
 "metadata": {
  "kernelspec": {
   "display_name": "Python 3 (ipykernel)",
   "language": "python",
   "name": "python3"
  },
  "language_info": {
   "codemirror_mode": {
    "name": "ipython",
    "version": 3
   },
   "file_extension": ".py",
   "mimetype": "text/x-python",
   "name": "python",
   "nbconvert_exporter": "python",
   "pygments_lexer": "ipython3",
   "version": "3.8.11"
  }
 },
 "nbformat": 4,
 "nbformat_minor": 5
}
