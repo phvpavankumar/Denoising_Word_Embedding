{
 "cells": [
  {
   "cell_type": "code",
   "execution_count": 1,
   "id": "6e9d016e",
   "metadata": {},
   "outputs": [
    {
     "name": "stdout",
     "output_type": "stream",
     "text": [
      " Volume in drive C is Acer\n",
      " Volume Serial Number is 3818-7542\n",
      "\n",
      " Directory of C:\\Users\\phvpa\\OneDrive - Amrita Vishwa Vidyapeetham\\Amrita-Mtech-CEN\\ProjectWork\\MTech Thesis\\Denoise in Code mix data\\Experiments\\Malyalam\\MuRIL\\Lakshmi_MuRIL\n",
      "\n",
      "22-10-2021  16:03    <DIR>          .\n",
      "22-10-2021  16:01    <DIR>          ..\n",
      "22-10-2021  16:03    <DIR>          .ipynb_checkpoints\n",
      "22-10-2021  15:58        50,122,126 drive-download-20211022T102758Z-001.zip\n",
      "22-10-2021  13:29            29,302 MuRIL_Denoising.ipynb\n",
      "22-10-2021  16:01        48,808,064 Muril_X_train.npy\n",
      "22-10-2021  16:01         5,425,280 Muril_X_val.npy\n",
      "22-10-2021  12:15               360 WR_LS_Denoising.py\n",
      "22-10-2021  03:50           127,232 Y_train.npy\n",
      "22-10-2021  03:50            14,256 Y_val.npy\n",
      "               7 File(s)    104,526,620 bytes\n",
      "               3 Dir(s)  335,302,082,560 bytes free\n"
     ]
    }
   ],
   "source": [
    "ls"
   ]
  },
  {
   "cell_type": "code",
   "execution_count": 2,
   "id": "a39a4aa9",
   "metadata": {},
   "outputs": [
    {
     "name": "stdout",
     "output_type": "stream",
     "text": [
      "Fri Oct 22 16:04:14 2021       \n",
      "+-----------------------------------------------------------------------------+\n",
      "| NVIDIA-SMI 496.13       Driver Version: 496.13       CUDA Version: 11.5     |\n",
      "|-------------------------------+----------------------+----------------------+\n",
      "| GPU  Name            TCC/WDDM | Bus-Id        Disp.A | Volatile Uncorr. ECC |\n",
      "| Fan  Temp  Perf  Pwr:Usage/Cap|         Memory-Usage | GPU-Util  Compute M. |\n",
      "|                               |                      |               MIG M. |\n",
      "|===============================+======================+======================|\n",
      "|   0  NVIDIA GeForce ... WDDM  | 00000000:01:00.0 Off |                  N/A |\n",
      "| N/A   55C    P0    N/A /  N/A |    121MiB /  6144MiB |      0%      Default |\n",
      "|                               |                      |                  N/A |\n",
      "+-------------------------------+----------------------+----------------------+\n",
      "                                                                               \n",
      "+-----------------------------------------------------------------------------+\n",
      "| Processes:                                                                  |\n",
      "|  GPU   GI   CI        PID   Type   Process name                  GPU Memory |\n",
      "|        ID   ID                                                   Usage      |\n",
      "|=============================================================================|\n",
      "|  No running processes found                                                 |\n",
      "+-----------------------------------------------------------------------------+\n"
     ]
    }
   ],
   "source": [
    "!nvidia-smi"
   ]
  },
  {
   "cell_type": "code",
   "execution_count": 3,
   "id": "b840e8aa",
   "metadata": {},
   "outputs": [],
   "source": [
    "from WR_LS_Denoising import WR_LS_Denoise\n",
    "import numpy as np\n",
    "import cupy as cp"
   ]
  },
  {
   "cell_type": "code",
   "execution_count": 4,
   "id": "5da1652c",
   "metadata": {},
   "outputs": [],
   "source": [
    "X_train = cp.load('MuRIL_X_train.npy')\n",
    "X_val = cp.load('MuRIL_X_val.npy')\n",
    "Y_train = cp.load('Y_train.npy')\n",
    "Y_val = cp.load('Y_val.npy')"
   ]
  },
  {
   "cell_type": "code",
   "execution_count": null,
   "id": "8e21d37e",
   "metadata": {},
   "outputs": [],
   "source": []
  },
  {
   "cell_type": "code",
   "execution_count": 5,
   "id": "c7fc9e44",
   "metadata": {},
   "outputs": [],
   "source": [
    "import time"
   ]
  },
  {
   "cell_type": "code",
   "execution_count": 6,
   "id": "f1bd119d",
   "metadata": {},
   "outputs": [
    {
     "name": "stdout",
     "output_type": "stream",
     "text": [
      "Fri Oct 22 16:04:28 2021\n",
      "0 Fri Oct 22 16:04:30 2021\n",
      "1000 Fri Oct 22 16:05:18 2021\n",
      "2000 Fri Oct 22 16:06:06 2021\n",
      "3000 Fri Oct 22 16:06:56 2021\n",
      "4000 Fri Oct 22 16:07:47 2021\n",
      "5000 Fri Oct 22 16:08:37 2021\n",
      "6000 Fri Oct 22 16:09:28 2021\n",
      "7000 Fri Oct 22 16:10:18 2021\n",
      "8000 Fri Oct 22 16:11:07 2021\n",
      "9000 Fri Oct 22 16:11:57 2021\n",
      "10000 Fri Oct 22 16:12:47 2021\n",
      "11000 Fri Oct 22 16:13:37 2021\n",
      "12000 Fri Oct 22 16:14:28 2021\n",
      "13000 Fri Oct 22 16:15:18 2021\n",
      "14000 Fri Oct 22 16:16:07 2021\n",
      "15000 Fri Oct 22 16:16:57 2021\n"
     ]
    }
   ],
   "source": [
    "start = time.ctime(time.time())\n",
    "print(start)\n",
    "for i in range(len(X_train)):\n",
    "    Denoised =  WR_LS_Denoise(X_train[i])\n",
    "    X_train[i] = X_train[i]\n",
    "    if(i%1000 == 0):\n",
    "        print(i, time.ctime(time.time()))"
   ]
  },
  {
   "cell_type": "code",
   "execution_count": 7,
   "id": "21e693c6",
   "metadata": {},
   "outputs": [
    {
     "name": "stdout",
     "output_type": "stream",
     "text": [
      "Fri Oct 22 16:17:51 2021\n",
      "0 Fri Oct 22 16:17:51 2021\n",
      "1000 Fri Oct 22 16:18:41 2021\n"
     ]
    }
   ],
   "source": [
    "start = time.ctime(time.time())\n",
    "print(start)\n",
    "for i in range(len(X_val)):\n",
    "    Denoised =  WR_LS_Denoise(X_val[i])\n",
    "    X_val[i] = X_val[i]\n",
    "    if(i%1000 == 0):\n",
    "        print(i, time.ctime(time.time()))"
   ]
  },
  {
   "cell_type": "code",
   "execution_count": 8,
   "id": "3ad1543c",
   "metadata": {},
   "outputs": [],
   "source": [
    "WR_LS_Denoised_X_train = cp.save('WR_LS_Denoised_MuRIL_X_train.npy',X_train)\n",
    "WR_LS_Denoised_X_val = cp.save('WR_LS_Denoised_MuRIL_X_val.npy',X_val)"
   ]
  },
  {
   "cell_type": "code",
   "execution_count": 9,
   "id": "fde1b2a7",
   "metadata": {},
   "outputs": [],
   "source": [
    "X_train = np.load('WR_LS_Denoised_MuRIL_X_train.npy')\n",
    "X_val = np.load('WR_LS_Denoised_MuRIL_X_val.npy')"
   ]
  },
  {
   "cell_type": "code",
   "execution_count": 10,
   "id": "d3c29157",
   "metadata": {},
   "outputs": [],
   "source": [
    "Y_train = np.load('Y_train.npy')\n",
    "Y_val = np.load('Y_val.npy')"
   ]
  },
  {
   "cell_type": "code",
   "execution_count": null,
   "id": "ff0d8751",
   "metadata": {},
   "outputs": [],
   "source": []
  },
  {
   "cell_type": "code",
   "execution_count": null,
   "id": "32dfdd8d",
   "metadata": {},
   "outputs": [],
   "source": []
  },
  {
   "cell_type": "markdown",
   "id": "3b3f94e9",
   "metadata": {},
   "source": [
    "# SVM"
   ]
  },
  {
   "cell_type": "code",
   "execution_count": 12,
   "id": "2aa015c3",
   "metadata": {},
   "outputs": [],
   "source": [
    "from sklearn.svm import SVC\n",
    "from sklearn.metrics import confusion_matrix, classification_report"
   ]
  },
  {
   "cell_type": "code",
   "execution_count": 13,
   "id": "3289de9d",
   "metadata": {},
   "outputs": [
    {
     "data": {
      "text/plain": [
       "SVC(decision_function_shape='ovo')"
      ]
     },
     "execution_count": 13,
     "metadata": {},
     "output_type": "execute_result"
    }
   ],
   "source": [
    "svc = SVC(decision_function_shape='ovo')\n",
    "svc.fit(X_train,Y_train)"
   ]
  },
  {
   "cell_type": "code",
   "execution_count": 14,
   "id": "5b776432",
   "metadata": {},
   "outputs": [],
   "source": [
    "pred_svc = svc.predict(X_val)"
   ]
  },
  {
   "cell_type": "code",
   "execution_count": 15,
   "id": "df44f81e",
   "metadata": {},
   "outputs": [
    {
     "data": {
      "text/plain": [
       "array([[  0,   0, 102,   0,   0],\n",
       "       [  0,   0, 237,   0,   0],\n",
       "       [  0,   0, 704,   0,   2],\n",
       "       [  0,   0, 141,   0,   0],\n",
       "       [  0,   0, 580,   0,   0]], dtype=int64)"
      ]
     },
     "execution_count": 15,
     "metadata": {},
     "output_type": "execute_result"
    }
   ],
   "source": [
    "confusion_matrix(Y_val,pred_svc)"
   ]
  },
  {
   "cell_type": "code",
   "execution_count": 16,
   "id": "080b8bef",
   "metadata": {},
   "outputs": [
    {
     "name": "stdout",
     "output_type": "stream",
     "text": [
      "              precision    recall  f1-score   support\n",
      "\n",
      "           0       0.00      0.00      0.00       102\n",
      "           1       0.00      0.00      0.00       237\n",
      "           2       0.40      1.00      0.57       706\n",
      "           3       0.00      0.00      0.00       141\n",
      "           4       0.00      0.00      0.00       580\n",
      "\n",
      "    accuracy                           0.40      1766\n",
      "   macro avg       0.08      0.20      0.11      1766\n",
      "weighted avg       0.16      0.40      0.23      1766\n",
      "\n"
     ]
    },
    {
     "name": "stderr",
     "output_type": "stream",
     "text": [
      "C:\\Users\\phvpa\\anaconda3\\envs\\MuRIL\\lib\\site-packages\\sklearn\\metrics\\_classification.py:1308: UndefinedMetricWarning: Precision and F-score are ill-defined and being set to 0.0 in labels with no predicted samples. Use `zero_division` parameter to control this behavior.\n",
      "  _warn_prf(average, modifier, msg_start, len(result))\n",
      "C:\\Users\\phvpa\\anaconda3\\envs\\MuRIL\\lib\\site-packages\\sklearn\\metrics\\_classification.py:1308: UndefinedMetricWarning: Precision and F-score are ill-defined and being set to 0.0 in labels with no predicted samples. Use `zero_division` parameter to control this behavior.\n",
      "  _warn_prf(average, modifier, msg_start, len(result))\n",
      "C:\\Users\\phvpa\\anaconda3\\envs\\MuRIL\\lib\\site-packages\\sklearn\\metrics\\_classification.py:1308: UndefinedMetricWarning: Precision and F-score are ill-defined and being set to 0.0 in labels with no predicted samples. Use `zero_division` parameter to control this behavior.\n",
      "  _warn_prf(average, modifier, msg_start, len(result))\n"
     ]
    }
   ],
   "source": [
    "print(classification_report(Y_val,pred_svc))"
   ]
  },
  {
   "cell_type": "markdown",
   "id": "a442b7d8",
   "metadata": {},
   "source": [
    "# DecisionTree"
   ]
  },
  {
   "cell_type": "code",
   "execution_count": 17,
   "id": "41ff0d49",
   "metadata": {},
   "outputs": [],
   "source": [
    "from sklearn.tree import DecisionTreeClassifier"
   ]
  },
  {
   "cell_type": "code",
   "execution_count": 18,
   "id": "a8c6e3fa",
   "metadata": {},
   "outputs": [],
   "source": [
    "Dtree = DecisionTreeClassifier(criterion='entropy', random_state=10)"
   ]
  },
  {
   "cell_type": "code",
   "execution_count": 19,
   "id": "b90d065f",
   "metadata": {},
   "outputs": [
    {
     "data": {
      "text/plain": [
       "DecisionTreeClassifier(criterion='entropy', random_state=10)"
      ]
     },
     "execution_count": 19,
     "metadata": {},
     "output_type": "execute_result"
    }
   ],
   "source": [
    "Dtree.fit(X_train,Y_train)"
   ]
  },
  {
   "cell_type": "code",
   "execution_count": 20,
   "id": "d2eff0b5",
   "metadata": {},
   "outputs": [],
   "source": [
    "pred_Dtree = Dtree.predict(X_val)"
   ]
  },
  {
   "cell_type": "code",
   "execution_count": 21,
   "id": "9e6d2661",
   "metadata": {},
   "outputs": [
    {
     "data": {
      "text/plain": [
       "array([[ 17,  14,  44,   3,  24],\n",
       "       [ 16,  61,  87,   8,  65],\n",
       "       [ 39,  96, 352,  28, 191],\n",
       "       [  1,   9,  34,  69,  28],\n",
       "       [ 33,  82, 209,  18, 238]], dtype=int64)"
      ]
     },
     "execution_count": 21,
     "metadata": {},
     "output_type": "execute_result"
    }
   ],
   "source": [
    "confusion_matrix(Y_val,pred_Dtree)"
   ]
  },
  {
   "cell_type": "code",
   "execution_count": 22,
   "id": "81fdae9f",
   "metadata": {},
   "outputs": [
    {
     "name": "stdout",
     "output_type": "stream",
     "text": [
      "              precision    recall  f1-score   support\n",
      "\n",
      "           0       0.16      0.17      0.16       102\n",
      "           1       0.23      0.26      0.24       237\n",
      "           2       0.48      0.50      0.49       706\n",
      "           3       0.55      0.49      0.52       141\n",
      "           4       0.44      0.41      0.42       580\n",
      "\n",
      "    accuracy                           0.42      1766\n",
      "   macro avg       0.37      0.36      0.37      1766\n",
      "weighted avg       0.42      0.42      0.42      1766\n",
      "\n"
     ]
    }
   ],
   "source": [
    "print(classification_report(Y_val,pred_Dtree))"
   ]
  },
  {
   "cell_type": "markdown",
   "id": "b669e8c7",
   "metadata": {},
   "source": [
    "# Random Forest"
   ]
  },
  {
   "cell_type": "code",
   "execution_count": 23,
   "id": "0c0a10eb",
   "metadata": {},
   "outputs": [],
   "source": [
    "from sklearn.ensemble import RandomForestClassifier"
   ]
  },
  {
   "cell_type": "code",
   "execution_count": 24,
   "id": "841479e1",
   "metadata": {},
   "outputs": [
    {
     "data": {
      "text/plain": [
       "RandomForestClassifier()"
      ]
     },
     "execution_count": 24,
     "metadata": {},
     "output_type": "execute_result"
    }
   ],
   "source": [
    "RFC = RandomForestClassifier()\n",
    "RFC.fit(X_train,Y_train)"
   ]
  },
  {
   "cell_type": "code",
   "execution_count": 25,
   "id": "282acbd4",
   "metadata": {},
   "outputs": [],
   "source": [
    "pred_RFC = RFC.predict(X_val)"
   ]
  },
  {
   "cell_type": "code",
   "execution_count": 26,
   "id": "12d36feb",
   "metadata": {},
   "outputs": [
    {
     "data": {
      "text/plain": [
       "array([[  6,   0,  67,   1,  28],\n",
       "       [  1,  28, 147,   1,  60],\n",
       "       [  1,   2, 584,   5, 114],\n",
       "       [  0,   0,  65,  62,  14],\n",
       "       [  1,   4, 281,   3, 291]], dtype=int64)"
      ]
     },
     "execution_count": 26,
     "metadata": {},
     "output_type": "execute_result"
    }
   ],
   "source": [
    "confusion_matrix(Y_val,pred_RFC)"
   ]
  },
  {
   "cell_type": "code",
   "execution_count": 27,
   "id": "ecf7dad2",
   "metadata": {},
   "outputs": [
    {
     "name": "stdout",
     "output_type": "stream",
     "text": [
      "              precision    recall  f1-score   support\n",
      "\n",
      "           0       0.67      0.06      0.11       102\n",
      "           1       0.82      0.12      0.21       237\n",
      "           2       0.51      0.83      0.63       706\n",
      "           3       0.86      0.44      0.58       141\n",
      "           4       0.57      0.50      0.54       580\n",
      "\n",
      "    accuracy                           0.55      1766\n",
      "   macro avg       0.69      0.39      0.41      1766\n",
      "weighted avg       0.61      0.55      0.51      1766\n",
      "\n"
     ]
    }
   ],
   "source": [
    "print(classification_report(Y_val,pred_RFC))"
   ]
  },
  {
   "cell_type": "markdown",
   "id": "add95407",
   "metadata": {},
   "source": [
    "# Orginal"
   ]
  },
  {
   "cell_type": "code",
   "execution_count": 28,
   "id": "d1f0f7d8",
   "metadata": {},
   "outputs": [],
   "source": [
    "X_train = np.load('MuRIL_X_train.npy')\n",
    "X_val = np.load('MuRIL_X_val.npy')\n",
    "Y_train = np.load('Y_train.npy')\n",
    "Y_val = np.load('Y_val.npy')"
   ]
  },
  {
   "cell_type": "code",
   "execution_count": 29,
   "id": "a3897076",
   "metadata": {},
   "outputs": [],
   "source": [
    "from sklearn.svm import SVC\n",
    "from sklearn.metrics import confusion_matrix, classification_report"
   ]
  },
  {
   "cell_type": "code",
   "execution_count": 30,
   "id": "ce583fbb",
   "metadata": {},
   "outputs": [
    {
     "data": {
      "text/plain": [
       "SVC(decision_function_shape='ovo')"
      ]
     },
     "execution_count": 30,
     "metadata": {},
     "output_type": "execute_result"
    }
   ],
   "source": [
    "svc = SVC(decision_function_shape='ovo')\n",
    "svc.fit(X_train,Y_train)"
   ]
  },
  {
   "cell_type": "code",
   "execution_count": 31,
   "id": "1c53410a",
   "metadata": {},
   "outputs": [],
   "source": [
    "pred_svc = svc.predict(X_val)"
   ]
  },
  {
   "cell_type": "code",
   "execution_count": 32,
   "id": "5185ba1d",
   "metadata": {},
   "outputs": [
    {
     "data": {
      "text/plain": [
       "array([[  0,   0, 102,   0,   0],\n",
       "       [  0,   0, 237,   0,   0],\n",
       "       [  0,   0, 704,   0,   2],\n",
       "       [  0,   0, 141,   0,   0],\n",
       "       [  0,   0, 580,   0,   0]], dtype=int64)"
      ]
     },
     "execution_count": 32,
     "metadata": {},
     "output_type": "execute_result"
    }
   ],
   "source": [
    "confusion_matrix(Y_val,pred_svc)"
   ]
  },
  {
   "cell_type": "code",
   "execution_count": 33,
   "id": "614059a3",
   "metadata": {},
   "outputs": [
    {
     "name": "stdout",
     "output_type": "stream",
     "text": [
      "              precision    recall  f1-score   support\n",
      "\n",
      "           0       0.00      0.00      0.00       102\n",
      "           1       0.00      0.00      0.00       237\n",
      "           2       0.40      1.00      0.57       706\n",
      "           3       0.00      0.00      0.00       141\n",
      "           4       0.00      0.00      0.00       580\n",
      "\n",
      "    accuracy                           0.40      1766\n",
      "   macro avg       0.08      0.20      0.11      1766\n",
      "weighted avg       0.16      0.40      0.23      1766\n",
      "\n"
     ]
    },
    {
     "name": "stderr",
     "output_type": "stream",
     "text": [
      "C:\\Users\\phvpa\\anaconda3\\envs\\MuRIL\\lib\\site-packages\\sklearn\\metrics\\_classification.py:1308: UndefinedMetricWarning: Precision and F-score are ill-defined and being set to 0.0 in labels with no predicted samples. Use `zero_division` parameter to control this behavior.\n",
      "  _warn_prf(average, modifier, msg_start, len(result))\n",
      "C:\\Users\\phvpa\\anaconda3\\envs\\MuRIL\\lib\\site-packages\\sklearn\\metrics\\_classification.py:1308: UndefinedMetricWarning: Precision and F-score are ill-defined and being set to 0.0 in labels with no predicted samples. Use `zero_division` parameter to control this behavior.\n",
      "  _warn_prf(average, modifier, msg_start, len(result))\n",
      "C:\\Users\\phvpa\\anaconda3\\envs\\MuRIL\\lib\\site-packages\\sklearn\\metrics\\_classification.py:1308: UndefinedMetricWarning: Precision and F-score are ill-defined and being set to 0.0 in labels with no predicted samples. Use `zero_division` parameter to control this behavior.\n",
      "  _warn_prf(average, modifier, msg_start, len(result))\n"
     ]
    }
   ],
   "source": [
    "print(classification_report(Y_val,pred_svc))"
   ]
  },
  {
   "cell_type": "code",
   "execution_count": null,
   "id": "5c6121ed",
   "metadata": {},
   "outputs": [],
   "source": []
  },
  {
   "cell_type": "code",
   "execution_count": 34,
   "id": "af8e1108",
   "metadata": {},
   "outputs": [],
   "source": [
    "from sklearn.tree import DecisionTreeClassifier"
   ]
  },
  {
   "cell_type": "code",
   "execution_count": 35,
   "id": "4c9f7911",
   "metadata": {},
   "outputs": [],
   "source": [
    "Dtree = DecisionTreeClassifier(criterion='entropy', random_state=10)"
   ]
  },
  {
   "cell_type": "code",
   "execution_count": 36,
   "id": "87c7be4d",
   "metadata": {},
   "outputs": [
    {
     "data": {
      "text/plain": [
       "DecisionTreeClassifier(criterion='entropy', random_state=10)"
      ]
     },
     "execution_count": 36,
     "metadata": {},
     "output_type": "execute_result"
    }
   ],
   "source": [
    "Dtree.fit(X_train,Y_train)"
   ]
  },
  {
   "cell_type": "code",
   "execution_count": 37,
   "id": "507a01d9",
   "metadata": {},
   "outputs": [],
   "source": [
    "pred_Dtree = Dtree.predict(X_val)"
   ]
  },
  {
   "cell_type": "code",
   "execution_count": 38,
   "id": "13d9a422",
   "metadata": {},
   "outputs": [
    {
     "data": {
      "text/plain": [
       "array([[ 17,  14,  44,   3,  24],\n",
       "       [ 16,  61,  87,   8,  65],\n",
       "       [ 39,  96, 352,  28, 191],\n",
       "       [  1,   9,  34,  69,  28],\n",
       "       [ 33,  82, 209,  18, 238]], dtype=int64)"
      ]
     },
     "execution_count": 38,
     "metadata": {},
     "output_type": "execute_result"
    }
   ],
   "source": [
    "confusion_matrix(Y_val,pred_Dtree)"
   ]
  },
  {
   "cell_type": "code",
   "execution_count": 39,
   "id": "338b8cd0",
   "metadata": {},
   "outputs": [
    {
     "name": "stdout",
     "output_type": "stream",
     "text": [
      "              precision    recall  f1-score   support\n",
      "\n",
      "           0       0.16      0.17      0.16       102\n",
      "           1       0.23      0.26      0.24       237\n",
      "           2       0.48      0.50      0.49       706\n",
      "           3       0.55      0.49      0.52       141\n",
      "           4       0.44      0.41      0.42       580\n",
      "\n",
      "    accuracy                           0.42      1766\n",
      "   macro avg       0.37      0.36      0.37      1766\n",
      "weighted avg       0.42      0.42      0.42      1766\n",
      "\n"
     ]
    }
   ],
   "source": [
    "print(classification_report(Y_val,pred_Dtree))"
   ]
  },
  {
   "cell_type": "code",
   "execution_count": null,
   "id": "0bfd9e23",
   "metadata": {},
   "outputs": [],
   "source": []
  },
  {
   "cell_type": "code",
   "execution_count": 40,
   "id": "881d52ff",
   "metadata": {},
   "outputs": [],
   "source": [
    "from sklearn.ensemble import RandomForestClassifier"
   ]
  },
  {
   "cell_type": "code",
   "execution_count": 41,
   "id": "625c39b1",
   "metadata": {},
   "outputs": [
    {
     "data": {
      "text/plain": [
       "RandomForestClassifier()"
      ]
     },
     "execution_count": 41,
     "metadata": {},
     "output_type": "execute_result"
    }
   ],
   "source": [
    "RFC = RandomForestClassifier()\n",
    "RFC.fit(X_train,Y_train)"
   ]
  },
  {
   "cell_type": "code",
   "execution_count": 42,
   "id": "4f6ec968",
   "metadata": {},
   "outputs": [],
   "source": [
    "pred_RFC = RFC.predict(X_val)"
   ]
  },
  {
   "cell_type": "code",
   "execution_count": 43,
   "id": "8e17bd01",
   "metadata": {},
   "outputs": [
    {
     "name": "stdout",
     "output_type": "stream",
     "text": [
      "              precision    recall  f1-score   support\n",
      "\n",
      "           0       0.75      0.06      0.11       102\n",
      "           1       0.87      0.11      0.20       237\n",
      "           2       0.53      0.85      0.65       706\n",
      "           3       0.84      0.46      0.60       141\n",
      "           4       0.59      0.52      0.56       580\n",
      "\n",
      "    accuracy                           0.57      1766\n",
      "   macro avg       0.72      0.40      0.42      1766\n",
      "weighted avg       0.63      0.57      0.52      1766\n",
      "\n"
     ]
    }
   ],
   "source": [
    "print(classification_report(Y_val,pred_RFC))"
   ]
  },
  {
   "cell_type": "code",
   "execution_count": null,
   "id": "b0e38b3d",
   "metadata": {},
   "outputs": [],
   "source": []
  },
  {
   "cell_type": "code",
   "execution_count": null,
   "id": "4f4a187a",
   "metadata": {},
   "outputs": [],
   "source": []
  },
  {
   "cell_type": "code",
   "execution_count": null,
   "id": "56f3e038",
   "metadata": {},
   "outputs": [],
   "source": []
  }
 ],
 "metadata": {
  "kernelspec": {
   "display_name": "Python 3 (ipykernel)",
   "language": "python",
   "name": "python3"
  },
  "language_info": {
   "codemirror_mode": {
    "name": "ipython",
    "version": 3
   },
   "file_extension": ".py",
   "mimetype": "text/x-python",
   "name": "python",
   "nbconvert_exporter": "python",
   "pygments_lexer": "ipython3",
   "version": "3.8.11"
  }
 },
 "nbformat": 4,
 "nbformat_minor": 5
}
