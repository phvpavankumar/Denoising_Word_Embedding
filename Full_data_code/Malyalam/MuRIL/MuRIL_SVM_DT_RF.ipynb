{
  "nbformat": 4,
  "nbformat_minor": 5,
  "metadata": {
    "kernelspec": {
      "display_name": "Python 3 (ipykernel)",
      "language": "python",
      "name": "python3"
    },
    "language_info": {
      "codemirror_mode": {
        "name": "ipython",
        "version": 3
      },
      "file_extension": ".py",
      "mimetype": "text/x-python",
      "name": "python",
      "nbconvert_exporter": "python",
      "pygments_lexer": "ipython3",
      "version": "3.8.11"
    },
    "colab": {
      "name": "MuRIL_SVM_DT_RF.ipynb",
      "provenance": []
    },
    "accelerator": "GPU"
  },
  "cells": [
    {
      "cell_type": "code",
      "metadata": {
        "colab": {
          "base_uri": "https://localhost:8080/"
        },
        "id": "3a5a4b4e",
        "outputId": "3af31a58-fd26-4791-fb87-a8a5c65aade4"
      },
      "source": [
        "!gdown --id 1HV6zeS_pqNrDOfHr3A7UvJKnyzy5u4K1\n",
        "!gdown --id 1S6Eg67vDSUSx6usqnAYgHCR2oEYeNvmI\n",
        "!gdown --id 1oJ5BIiGHOhD3hgWpJN2ddzLWgzLl-x_k"
      ],
      "id": "3a5a4b4e",
      "execution_count": null,
      "outputs": [
        {
          "output_type": "stream",
          "name": "stdout",
          "text": [
            "Downloading...\n",
            "From: https://drive.google.com/uc?id=1HV6zeS_pqNrDOfHr3A7UvJKnyzy5u4K1\n",
            "To: /content/Mal_sentiment_full_dev.tsv\n",
            "100% 269k/269k [00:00<00:00, 39.2MB/s]\n",
            "Downloading...\n",
            "From: https://drive.google.com/uc?id=1S6Eg67vDSUSx6usqnAYgHCR2oEYeNvmI\n",
            "To: /content/Mal_sentiment_full_train.tsv\n",
            "100% 2.38M/2.38M [00:00<00:00, 37.4MB/s]\n",
            "Downloading...\n",
            "From: https://drive.google.com/uc?id=1oJ5BIiGHOhD3hgWpJN2ddzLWgzLl-x_k\n",
            "To: /content/Mal_sentiment_full_test_withoutlabels.tsv\n",
            "100% 288k/288k [00:00<00:00, 38.1MB/s]\n"
          ]
        }
      ]
    },
    {
      "cell_type": "code",
      "metadata": {
        "colab": {
          "base_uri": "https://localhost:8080/"
        },
        "id": "a0346c39",
        "outputId": "b93cb46e-a159-407c-d644-36a336c840ba"
      },
      "source": [
        "!nvidia-smi"
      ],
      "id": "a0346c39",
      "execution_count": null,
      "outputs": [
        {
          "output_type": "stream",
          "name": "stdout",
          "text": [
            "Fri Oct 22 09:55:11 2021       \n",
            "+-----------------------------------------------------------------------------+\n",
            "| NVIDIA-SMI 470.74       Driver Version: 460.32.03    CUDA Version: 11.2     |\n",
            "|-------------------------------+----------------------+----------------------+\n",
            "| GPU  Name        Persistence-M| Bus-Id        Disp.A | Volatile Uncorr. ECC |\n",
            "| Fan  Temp  Perf  Pwr:Usage/Cap|         Memory-Usage | GPU-Util  Compute M. |\n",
            "|                               |                      |               MIG M. |\n",
            "|===============================+======================+======================|\n",
            "|   0  Tesla K80           Off  | 00000000:00:04.0 Off |                    0 |\n",
            "| N/A   64C    P8    33W / 149W |      0MiB / 11441MiB |      0%      Default |\n",
            "|                               |                      |                  N/A |\n",
            "+-------------------------------+----------------------+----------------------+\n",
            "                                                                               \n",
            "+-----------------------------------------------------------------------------+\n",
            "| Processes:                                                                  |\n",
            "|  GPU   GI   CI        PID   Type   Process name                  GPU Memory |\n",
            "|        ID   ID                                                   Usage      |\n",
            "|=============================================================================|\n",
            "|  No running processes found                                                 |\n",
            "+-----------------------------------------------------------------------------+\n"
          ]
        }
      ]
    },
    {
      "cell_type": "code",
      "metadata": {
        "colab": {
          "base_uri": "https://localhost:8080/"
        },
        "id": "e552267f",
        "outputId": "665b56a9-ed6e-4154-9a01-2c7568a324b9"
      },
      "source": [
        "import tensorflow as tf\n",
        "gpus = tf.config.experimental.list_physical_devices('GPU')\n",
        "if gpus:\n",
        "  # Restrict TensorFlow to only allocate 4GB of memory on the first GPU\n",
        "  try:\n",
        "    tf.config.experimental.set_virtual_device_configuration(\n",
        "        gpus[0],\n",
        "        [tf.config.experimental.VirtualDeviceConfiguration(memory_limit=4096)])\n",
        "    logical_gpus = tf.config.experimental.list_logical_devices('GPU')\n",
        "    print(len(gpus), \"Physical GPUs,\", len(logical_gpus), \"Logical GPUs\")\n",
        "  except RuntimeError as e:\n",
        "    # Virtual devices must be set before GPUs have been initialized\n",
        "    print(e)"
      ],
      "id": "e552267f",
      "execution_count": null,
      "outputs": [
        {
          "output_type": "stream",
          "name": "stdout",
          "text": [
            "1 Physical GPUs, 1 Logical GPUs\n"
          ]
        }
      ]
    },
    {
      "cell_type": "code",
      "metadata": {
        "colab": {
          "base_uri": "https://localhost:8080/",
          "height": 35
        },
        "id": "0skLgKN3aWUM",
        "outputId": "07cf966d-3a05-4506-8d36-9bf81f0a2a1c"
      },
      "source": [
        "tf.__version__"
      ],
      "id": "0skLgKN3aWUM",
      "execution_count": null,
      "outputs": [
        {
          "output_type": "execute_result",
          "data": {
            "application/vnd.google.colaboratory.intrinsic+json": {
              "type": "string"
            },
            "text/plain": [
              "'2.6.0'"
            ]
          },
          "metadata": {},
          "execution_count": 4
        }
      ]
    },
    {
      "cell_type": "code",
      "metadata": {
        "colab": {
          "base_uri": "https://localhost:8080/"
        },
        "id": "soVhUay2aP6Y",
        "outputId": "39d16bd1-7d91-4ae6-95d0-6b1392baf4ae"
      },
      "source": [
        "!pip install tensorflow_text==2.6.0"
      ],
      "id": "soVhUay2aP6Y",
      "execution_count": null,
      "outputs": [
        {
          "output_type": "stream",
          "name": "stdout",
          "text": [
            "Collecting tensorflow_text==2.6.0\n",
            "  Downloading tensorflow_text-2.6.0-cp37-cp37m-manylinux1_x86_64.whl (4.4 MB)\n",
            "\u001b[K     |████████████████████████████████| 4.4 MB 2.7 MB/s \n",
            "\u001b[?25hRequirement already satisfied: tensorflow-hub>=0.8.0 in /usr/local/lib/python3.7/dist-packages (from tensorflow_text==2.6.0) (0.12.0)\n",
            "Requirement already satisfied: tensorflow<2.7,>=2.6.0 in /usr/local/lib/python3.7/dist-packages (from tensorflow_text==2.6.0) (2.6.0)\n",
            "Requirement already satisfied: six~=1.15.0 in /usr/local/lib/python3.7/dist-packages (from tensorflow<2.7,>=2.6.0->tensorflow_text==2.6.0) (1.15.0)\n",
            "Requirement already satisfied: h5py~=3.1.0 in /usr/local/lib/python3.7/dist-packages (from tensorflow<2.7,>=2.6.0->tensorflow_text==2.6.0) (3.1.0)\n",
            "Requirement already satisfied: tensorboard~=2.6 in /usr/local/lib/python3.7/dist-packages (from tensorflow<2.7,>=2.6.0->tensorflow_text==2.6.0) (2.6.0)\n",
            "Requirement already satisfied: keras~=2.6 in /usr/local/lib/python3.7/dist-packages (from tensorflow<2.7,>=2.6.0->tensorflow_text==2.6.0) (2.6.0)\n",
            "Requirement already satisfied: astunparse~=1.6.3 in /usr/local/lib/python3.7/dist-packages (from tensorflow<2.7,>=2.6.0->tensorflow_text==2.6.0) (1.6.3)\n",
            "Requirement already satisfied: typing-extensions~=3.7.4 in /usr/local/lib/python3.7/dist-packages (from tensorflow<2.7,>=2.6.0->tensorflow_text==2.6.0) (3.7.4.3)\n",
            "Requirement already satisfied: wrapt~=1.12.1 in /usr/local/lib/python3.7/dist-packages (from tensorflow<2.7,>=2.6.0->tensorflow_text==2.6.0) (1.12.1)\n",
            "Requirement already satisfied: numpy~=1.19.2 in /usr/local/lib/python3.7/dist-packages (from tensorflow<2.7,>=2.6.0->tensorflow_text==2.6.0) (1.19.5)\n",
            "Requirement already satisfied: tensorflow-estimator~=2.6 in /usr/local/lib/python3.7/dist-packages (from tensorflow<2.7,>=2.6.0->tensorflow_text==2.6.0) (2.6.0)\n",
            "Requirement already satisfied: flatbuffers~=1.12.0 in /usr/local/lib/python3.7/dist-packages (from tensorflow<2.7,>=2.6.0->tensorflow_text==2.6.0) (1.12)\n",
            "Requirement already satisfied: grpcio<2.0,>=1.37.0 in /usr/local/lib/python3.7/dist-packages (from tensorflow<2.7,>=2.6.0->tensorflow_text==2.6.0) (1.41.0)\n",
            "Requirement already satisfied: google-pasta~=0.2 in /usr/local/lib/python3.7/dist-packages (from tensorflow<2.7,>=2.6.0->tensorflow_text==2.6.0) (0.2.0)\n",
            "Requirement already satisfied: protobuf>=3.9.2 in /usr/local/lib/python3.7/dist-packages (from tensorflow<2.7,>=2.6.0->tensorflow_text==2.6.0) (3.17.3)\n",
            "Requirement already satisfied: gast==0.4.0 in /usr/local/lib/python3.7/dist-packages (from tensorflow<2.7,>=2.6.0->tensorflow_text==2.6.0) (0.4.0)\n",
            "Requirement already satisfied: clang~=5.0 in /usr/local/lib/python3.7/dist-packages (from tensorflow<2.7,>=2.6.0->tensorflow_text==2.6.0) (5.0)\n",
            "Requirement already satisfied: absl-py~=0.10 in /usr/local/lib/python3.7/dist-packages (from tensorflow<2.7,>=2.6.0->tensorflow_text==2.6.0) (0.12.0)\n",
            "Requirement already satisfied: keras-preprocessing~=1.1.2 in /usr/local/lib/python3.7/dist-packages (from tensorflow<2.7,>=2.6.0->tensorflow_text==2.6.0) (1.1.2)\n",
            "Requirement already satisfied: wheel~=0.35 in /usr/local/lib/python3.7/dist-packages (from tensorflow<2.7,>=2.6.0->tensorflow_text==2.6.0) (0.37.0)\n",
            "Requirement already satisfied: opt-einsum~=3.3.0 in /usr/local/lib/python3.7/dist-packages (from tensorflow<2.7,>=2.6.0->tensorflow_text==2.6.0) (3.3.0)\n",
            "Requirement already satisfied: termcolor~=1.1.0 in /usr/local/lib/python3.7/dist-packages (from tensorflow<2.7,>=2.6.0->tensorflow_text==2.6.0) (1.1.0)\n",
            "Requirement already satisfied: cached-property in /usr/local/lib/python3.7/dist-packages (from h5py~=3.1.0->tensorflow<2.7,>=2.6.0->tensorflow_text==2.6.0) (1.5.2)\n",
            "Requirement already satisfied: google-auth-oauthlib<0.5,>=0.4.1 in /usr/local/lib/python3.7/dist-packages (from tensorboard~=2.6->tensorflow<2.7,>=2.6.0->tensorflow_text==2.6.0) (0.4.6)\n",
            "Requirement already satisfied: werkzeug>=0.11.15 in /usr/local/lib/python3.7/dist-packages (from tensorboard~=2.6->tensorflow<2.7,>=2.6.0->tensorflow_text==2.6.0) (1.0.1)\n",
            "Requirement already satisfied: tensorboard-plugin-wit>=1.6.0 in /usr/local/lib/python3.7/dist-packages (from tensorboard~=2.6->tensorflow<2.7,>=2.6.0->tensorflow_text==2.6.0) (1.8.0)\n",
            "Requirement already satisfied: markdown>=2.6.8 in /usr/local/lib/python3.7/dist-packages (from tensorboard~=2.6->tensorflow<2.7,>=2.6.0->tensorflow_text==2.6.0) (3.3.4)\n",
            "Requirement already satisfied: google-auth<2,>=1.6.3 in /usr/local/lib/python3.7/dist-packages (from tensorboard~=2.6->tensorflow<2.7,>=2.6.0->tensorflow_text==2.6.0) (1.35.0)\n",
            "Requirement already satisfied: setuptools>=41.0.0 in /usr/local/lib/python3.7/dist-packages (from tensorboard~=2.6->tensorflow<2.7,>=2.6.0->tensorflow_text==2.6.0) (57.4.0)\n",
            "Requirement already satisfied: tensorboard-data-server<0.7.0,>=0.6.0 in /usr/local/lib/python3.7/dist-packages (from tensorboard~=2.6->tensorflow<2.7,>=2.6.0->tensorflow_text==2.6.0) (0.6.1)\n",
            "Requirement already satisfied: requests<3,>=2.21.0 in /usr/local/lib/python3.7/dist-packages (from tensorboard~=2.6->tensorflow<2.7,>=2.6.0->tensorflow_text==2.6.0) (2.23.0)\n",
            "Requirement already satisfied: rsa<5,>=3.1.4 in /usr/local/lib/python3.7/dist-packages (from google-auth<2,>=1.6.3->tensorboard~=2.6->tensorflow<2.7,>=2.6.0->tensorflow_text==2.6.0) (4.7.2)\n",
            "Requirement already satisfied: pyasn1-modules>=0.2.1 in /usr/local/lib/python3.7/dist-packages (from google-auth<2,>=1.6.3->tensorboard~=2.6->tensorflow<2.7,>=2.6.0->tensorflow_text==2.6.0) (0.2.8)\n",
            "Requirement already satisfied: cachetools<5.0,>=2.0.0 in /usr/local/lib/python3.7/dist-packages (from google-auth<2,>=1.6.3->tensorboard~=2.6->tensorflow<2.7,>=2.6.0->tensorflow_text==2.6.0) (4.2.4)\n",
            "Requirement already satisfied: requests-oauthlib>=0.7.0 in /usr/local/lib/python3.7/dist-packages (from google-auth-oauthlib<0.5,>=0.4.1->tensorboard~=2.6->tensorflow<2.7,>=2.6.0->tensorflow_text==2.6.0) (1.3.0)\n",
            "Requirement already satisfied: importlib-metadata in /usr/local/lib/python3.7/dist-packages (from markdown>=2.6.8->tensorboard~=2.6->tensorflow<2.7,>=2.6.0->tensorflow_text==2.6.0) (4.8.1)\n",
            "Requirement already satisfied: pyasn1<0.5.0,>=0.4.6 in /usr/local/lib/python3.7/dist-packages (from pyasn1-modules>=0.2.1->google-auth<2,>=1.6.3->tensorboard~=2.6->tensorflow<2.7,>=2.6.0->tensorflow_text==2.6.0) (0.4.8)\n",
            "Requirement already satisfied: chardet<4,>=3.0.2 in /usr/local/lib/python3.7/dist-packages (from requests<3,>=2.21.0->tensorboard~=2.6->tensorflow<2.7,>=2.6.0->tensorflow_text==2.6.0) (3.0.4)\n",
            "Requirement already satisfied: idna<3,>=2.5 in /usr/local/lib/python3.7/dist-packages (from requests<3,>=2.21.0->tensorboard~=2.6->tensorflow<2.7,>=2.6.0->tensorflow_text==2.6.0) (2.10)\n",
            "Requirement already satisfied: urllib3!=1.25.0,!=1.25.1,<1.26,>=1.21.1 in /usr/local/lib/python3.7/dist-packages (from requests<3,>=2.21.0->tensorboard~=2.6->tensorflow<2.7,>=2.6.0->tensorflow_text==2.6.0) (1.24.3)\n",
            "Requirement already satisfied: certifi>=2017.4.17 in /usr/local/lib/python3.7/dist-packages (from requests<3,>=2.21.0->tensorboard~=2.6->tensorflow<2.7,>=2.6.0->tensorflow_text==2.6.0) (2021.5.30)\n",
            "Requirement already satisfied: oauthlib>=3.0.0 in /usr/local/lib/python3.7/dist-packages (from requests-oauthlib>=0.7.0->google-auth-oauthlib<0.5,>=0.4.1->tensorboard~=2.6->tensorflow<2.7,>=2.6.0->tensorflow_text==2.6.0) (3.1.1)\n",
            "Requirement already satisfied: zipp>=0.5 in /usr/local/lib/python3.7/dist-packages (from importlib-metadata->markdown>=2.6.8->tensorboard~=2.6->tensorflow<2.7,>=2.6.0->tensorflow_text==2.6.0) (3.6.0)\n",
            "Installing collected packages: tensorflow-text\n",
            "Successfully installed tensorflow-text-2.6.0\n"
          ]
        }
      ]
    },
    {
      "cell_type": "code",
      "metadata": {
        "colab": {
          "base_uri": "https://localhost:8080/"
        },
        "id": "uxcEuX7barRp",
        "outputId": "ce2b1d1d-875b-4447-edf9-fea7ce4a7fe6"
      },
      "source": [
        "!pip install bert-for-tf2"
      ],
      "id": "uxcEuX7barRp",
      "execution_count": null,
      "outputs": [
        {
          "output_type": "stream",
          "name": "stdout",
          "text": [
            "Collecting bert-for-tf2\n",
            "  Downloading bert-for-tf2-0.14.9.tar.gz (41 kB)\n",
            "\u001b[?25l\r\u001b[K     |████████                        | 10 kB 21.0 MB/s eta 0:00:01\r\u001b[K     |████████████████                | 20 kB 16.0 MB/s eta 0:00:01\r\u001b[K     |███████████████████████▉        | 30 kB 10.0 MB/s eta 0:00:01\r\u001b[K     |███████████████████████████████▉| 40 kB 8.5 MB/s eta 0:00:01\r\u001b[K     |████████████████████████████████| 41 kB 141 kB/s \n",
            "\u001b[?25hCollecting py-params>=0.9.6\n",
            "  Downloading py-params-0.10.2.tar.gz (7.4 kB)\n",
            "Collecting params-flow>=0.8.0\n",
            "  Downloading params-flow-0.8.2.tar.gz (22 kB)\n",
            "Requirement already satisfied: numpy in /usr/local/lib/python3.7/dist-packages (from params-flow>=0.8.0->bert-for-tf2) (1.19.5)\n",
            "Requirement already satisfied: tqdm in /usr/local/lib/python3.7/dist-packages (from params-flow>=0.8.0->bert-for-tf2) (4.62.3)\n",
            "Building wheels for collected packages: bert-for-tf2, params-flow, py-params\n",
            "  Building wheel for bert-for-tf2 (setup.py) ... \u001b[?25l\u001b[?25hdone\n",
            "  Created wheel for bert-for-tf2: filename=bert_for_tf2-0.14.9-py3-none-any.whl size=30534 sha256=0f74907e4cc8490a435a4344698d2f2e3180ecda4f3deb8941299cfb9952e362\n",
            "  Stored in directory: /root/.cache/pip/wheels/47/b6/e5/8c76ec779f54bc5c2f1b57d2200bb9c77616da83873e8acb53\n",
            "  Building wheel for params-flow (setup.py) ... \u001b[?25l\u001b[?25hdone\n",
            "  Created wheel for params-flow: filename=params_flow-0.8.2-py3-none-any.whl size=19473 sha256=44397e8251aea48df9ce31926457c3e2f2102b8146ead0e72321a3fe92309307\n",
            "  Stored in directory: /root/.cache/pip/wheels/0e/fc/d2/a44fff33af0f233d7def6e7de413006d57c10e10ad736fe8f5\n",
            "  Building wheel for py-params (setup.py) ... \u001b[?25l\u001b[?25hdone\n",
            "  Created wheel for py-params: filename=py_params-0.10.2-py3-none-any.whl size=7912 sha256=286e3527bdcec97f68f3105ecc03c183d70a60729e84d311702f134f7e405483\n",
            "  Stored in directory: /root/.cache/pip/wheels/e1/11/67/33cc51bbee127cb8fb2ba549cd29109b2f22da43ddf9969716\n",
            "Successfully built bert-for-tf2 params-flow py-params\n",
            "Installing collected packages: py-params, params-flow, bert-for-tf2\n",
            "Successfully installed bert-for-tf2-0.14.9 params-flow-0.8.2 py-params-0.10.2\n"
          ]
        }
      ]
    },
    {
      "cell_type": "code",
      "metadata": {
        "id": "4c75a642"
      },
      "source": [
        "import math\n",
        "import pandas as pd\n",
        "import re\n",
        "import numpy as np\n",
        "import itertools\n",
        "import collections\n",
        "from collections import defaultdict, Counter\n",
        "import string\n",
        "from sklearn.preprocessing import LabelEncoder\n",
        "\n",
        "\n",
        "import tensorflow as tf\n",
        "import tensorflow_datasets as tfds\n",
        "import tensorflow_hub as hub\n",
        "import tensorflow_text as text\n",
        "from bert import bert_tokenization\n",
        "import numpy as np\n",
        "from scipy.spatial import distance\n",
        "\n",
        "import seaborn as sns\n",
        "from sklearn.manifold import TSNE\n",
        "import matplotlib as mpl\n",
        "import matplotlib.pyplot as plt \n",
        "from ipywidgets import interact, interactive, fixed, interact_manual\n",
        "import ipywidgets as widgets"
      ],
      "id": "4c75a642",
      "execution_count": null,
      "outputs": []
    },
    {
      "cell_type": "code",
      "metadata": {
        "colab": {
          "base_uri": "https://localhost:8080/"
        },
        "id": "c7975274",
        "outputId": "4375202f-f083-41b1-a87d-f4df25c36786"
      },
      "source": [
        "ls"
      ],
      "id": "c7975274",
      "execution_count": null,
      "outputs": [
        {
          "output_type": "stream",
          "name": "stdout",
          "text": [
            "Mal_sentiment_full_dev.tsv                 Mal_sentiment_full_train.tsv\n",
            "Mal_sentiment_full_test_withoutlabels.tsv  \u001b[0m\u001b[01;34msample_data\u001b[0m/\n"
          ]
        }
      ]
    },
    {
      "cell_type": "code",
      "metadata": {
        "colab": {
          "base_uri": "https://localhost:8080/"
        },
        "id": "36949d52",
        "outputId": "36bd596b-bc59-4741-ee0d-92b75558c166"
      },
      "source": [
        "#train_df = pd.read_csv(\"Mal_sentiment_full_train.tsv\", header=None, sep='\\t')\n",
        "train_df = pd.read_csv(\"Mal_sentiment_full_train.tsv\", sep='\\t')\n",
        "print(len(train_df))\n",
        "\n",
        "#test_df = pd.read_csv(\"Mal_sentiment_full_dev.tsv\", header=None, sep='\\t')\n",
        "valid_df = pd.read_csv(\"Mal_sentiment_full_dev.tsv\", sep='\\t')\n",
        "print(len(valid_df))\n",
        "\n",
        "test_df = pd.read_csv(\"Mal_sentiment_full_test_withoutlabels.tsv\", sep='\\t')\n",
        "len(test_df)"
      ],
      "id": "36949d52",
      "execution_count": null,
      "outputs": [
        {
          "output_type": "stream",
          "name": "stdout",
          "text": [
            "15888\n",
            "1766\n"
          ]
        },
        {
          "output_type": "execute_result",
          "data": {
            "text/plain": [
              "1962"
            ]
          },
          "metadata": {},
          "execution_count": 9
        }
      ]
    },
    {
      "cell_type": "code",
      "metadata": {
        "colab": {
          "base_uri": "https://localhost:8080/",
          "height": 417
        },
        "id": "ffc8b4d0",
        "outputId": "fb8ab782-7b97-4d34-eaf3-eeaba5d3788f"
      },
      "source": [
        "train_df"
      ],
      "id": "ffc8b4d0",
      "execution_count": null,
      "outputs": [
        {
          "output_type": "execute_result",
          "data": {
            "text/html": [
              "<div>\n",
              "<style scoped>\n",
              "    .dataframe tbody tr th:only-of-type {\n",
              "        vertical-align: middle;\n",
              "    }\n",
              "\n",
              "    .dataframe tbody tr th {\n",
              "        vertical-align: top;\n",
              "    }\n",
              "\n",
              "    .dataframe thead th {\n",
              "        text-align: right;\n",
              "    }\n",
              "</style>\n",
              "<table border=\"1\" class=\"dataframe\">\n",
              "  <thead>\n",
              "    <tr style=\"text-align: right;\">\n",
              "      <th></th>\n",
              "      <th>text</th>\n",
              "      <th>category</th>\n",
              "    </tr>\n",
              "  </thead>\n",
              "  <tbody>\n",
              "    <tr>\n",
              "      <th>0</th>\n",
              "      <td>Sunny chechi fans evide like adichu power kani...</td>\n",
              "      <td>unknown_state</td>\n",
              "    </tr>\n",
              "    <tr>\n",
              "      <th>1</th>\n",
              "      <td>Angane july month ile ende aadyathe leave njan...</td>\n",
              "      <td>Positive</td>\n",
              "    </tr>\n",
              "    <tr>\n",
              "      <th>2</th>\n",
              "      <td>ഏട്ടന്റെ പുതിയ പടത്തിനു വേണ്ടി കാത്തിരിക്കുന്ന...</td>\n",
              "      <td>unknown_state</td>\n",
              "    </tr>\n",
              "    <tr>\n",
              "      <th>3</th>\n",
              "      <td>ഇനി ലാലേട്ടന്റെ വേട്ട തുടങ്ങാൻ പോകുന്നു..........</td>\n",
              "      <td>Positive</td>\n",
              "    </tr>\n",
              "    <tr>\n",
              "      <th>4</th>\n",
              "      <td>Trailer powli oru raksha illa . Pakshea padam ...</td>\n",
              "      <td>Positive</td>\n",
              "    </tr>\n",
              "    <tr>\n",
              "      <th>...</th>\n",
              "      <td>...</td>\n",
              "      <td>...</td>\n",
              "    </tr>\n",
              "    <tr>\n",
              "      <th>15883</th>\n",
              "      <td>Minimum 10 thavana kandavar maathram like adi</td>\n",
              "      <td>unknown_state</td>\n",
              "    </tr>\n",
              "    <tr>\n",
              "      <th>15884</th>\n",
              "      <td>Please cinema kaannaaan kothi aakunnu onnu rel...</td>\n",
              "      <td>Positive</td>\n",
              "    </tr>\n",
              "    <tr>\n",
              "      <th>15885</th>\n",
              "      <td>USA ok.. India No... Sadhacharam</td>\n",
              "      <td>unknown_state</td>\n",
              "    </tr>\n",
              "    <tr>\n",
              "      <th>15886</th>\n",
              "      <td>nama hero december 12 wait &amp; see  mamamaga mah...</td>\n",
              "      <td>Positive</td>\n",
              "    </tr>\n",
              "    <tr>\n",
              "      <th>15887</th>\n",
              "      <td>Madhuraraja 1 hour 40 k likes  Lucifer 1 min 4...</td>\n",
              "      <td>Mixed_feelings</td>\n",
              "    </tr>\n",
              "  </tbody>\n",
              "</table>\n",
              "<p>15888 rows × 2 columns</p>\n",
              "</div>"
            ],
            "text/plain": [
              "                                                    text        category\n",
              "0      Sunny chechi fans evide like adichu power kani...   unknown_state\n",
              "1      Angane july month ile ende aadyathe leave njan...        Positive\n",
              "2      ഏട്ടന്റെ പുതിയ പടത്തിനു വേണ്ടി കാത്തിരിക്കുന്ന...   unknown_state\n",
              "3      ഇനി ലാലേട്ടന്റെ വേട്ട തുടങ്ങാൻ പോകുന്നു..........        Positive\n",
              "4      Trailer powli oru raksha illa . Pakshea padam ...        Positive\n",
              "...                                                  ...             ...\n",
              "15883      Minimum 10 thavana kandavar maathram like adi   unknown_state\n",
              "15884  Please cinema kaannaaan kothi aakunnu onnu rel...        Positive\n",
              "15885                   USA ok.. India No... Sadhacharam   unknown_state\n",
              "15886  nama hero december 12 wait & see  mamamaga mah...        Positive\n",
              "15887  Madhuraraja 1 hour 40 k likes  Lucifer 1 min 4...  Mixed_feelings\n",
              "\n",
              "[15888 rows x 2 columns]"
            ]
          },
          "metadata": {},
          "execution_count": 10
        }
      ]
    },
    {
      "cell_type": "code",
      "metadata": {
        "colab": {
          "base_uri": "https://localhost:8080/"
        },
        "id": "008088af",
        "outputId": "1626b5ac-bddb-4187-a8be-66c6a4301838"
      },
      "source": [
        "train_df['category']"
      ],
      "id": "008088af",
      "execution_count": null,
      "outputs": [
        {
          "output_type": "execute_result",
          "data": {
            "text/plain": [
              "0         unknown_state\n",
              "1              Positive\n",
              "2         unknown_state\n",
              "3              Positive\n",
              "4              Positive\n",
              "              ...      \n",
              "15883     unknown_state\n",
              "15884          Positive\n",
              "15885     unknown_state\n",
              "15886          Positive\n",
              "15887    Mixed_feelings\n",
              "Name: category, Length: 15888, dtype: object"
            ]
          },
          "metadata": {},
          "execution_count": 11
        }
      ]
    },
    {
      "cell_type": "code",
      "metadata": {
        "colab": {
          "base_uri": "https://localhost:8080/"
        },
        "id": "d144f066",
        "outputId": "7e58f7a3-aa3a-4920-d461-b9ef8996b55b"
      },
      "source": [
        "print(test_df['text'][279])\n",
        "print(test_df['text'][516])\n",
        "print(test_df['text'][546])\n",
        "print(test_df['text'][555])\n",
        "print(test_df['text'][559])\n",
        "print(test_df['text'][570])\n",
        "print(test_df['text'][825])\n",
        "print(test_df['text'][838])\n",
        "print(test_df['text'][860])\n",
        "print(test_df['text'][890])\n",
        "print(test_df['text'][1234])"
      ],
      "id": "d144f066",
      "execution_count": null,
      "outputs": [
        {
          "output_type": "stream",
          "name": "stdout",
          "text": [
            "Oru pani-palal manakunnu again Mr. JR :/\n",
            "Ende ponno 68 vayasaya oraluda body thanneyano ith.... 🤩.. NAMICHU PONNIKKAAAA\n",
            "FDFS.. trailer kandu ithu vareyum njanithu paranjittilla..🤩🤩\n",
            "Degraders step BacK 🤫...  മമ്മൂക്ക\n",
            "ഈ പാട്ട് ഡിസ്‌ലൈക് ചെയ്തവരുടെ വീട്ടുകാരെ സമ്മതിക്കണം .....BIG SALUTE\n",
            "ഇത് ഏത് ഭാഷ ശിവനെ ഏത് ജില്ല 🤔🤔🤔🤔🤔🤔🤔\n",
            "ഇതൊക്കെ മമ്മുക്ക പറഞ്ഞാൽ പൊളിക്കും 🤩 🤩 🤩\n",
            "1:08 ST PIUS X KUTTIKANAM        *UYIR*🤩🤩🤩\n",
            "Ente ponno..... Heavy.... BGM... Ikka pinne parayanilla....2 looks kidilosky 🤩🤩 Overall kidukkachi aahn Mone...\n",
            "Song dislike adicha 90% perum phycho singles akum🤩\n",
            "അഭ്യർത്ഥന ____________________ മാമാങ്കം പലകുറി കൊണ്ടാടും  എന്ന ഗാനം ടൈറ്റിൽ സോങ്ങ് ആയി ഉൾപ്പെടുത്താമോ....  Album :vasantha geethangal Singer: K J YESUDAS\n"
          ]
        }
      ]
    },
    {
      "cell_type": "code",
      "metadata": {
        "colab": {
          "base_uri": "https://localhost:8080/",
          "height": 35
        },
        "id": "f795fbdc",
        "outputId": "91d24796-ac79-439a-8053-b5f49e1cf917"
      },
      "source": [
        "train_df['text'][0]"
      ],
      "id": "f795fbdc",
      "execution_count": null,
      "outputs": [
        {
          "output_type": "execute_result",
          "data": {
            "application/vnd.google.colaboratory.intrinsic+json": {
              "type": "string"
            },
            "text/plain": [
              "'Sunny chechi fans evide like adichu power kaniku🤣🤣'"
            ]
          },
          "metadata": {},
          "execution_count": 13
        }
      ]
    },
    {
      "cell_type": "code",
      "metadata": {
        "colab": {
          "base_uri": "https://localhost:8080/",
          "height": 417
        },
        "id": "96dbe829",
        "scrolled": false,
        "outputId": "e71cb5ac-2489-4711-eac1-58ed34415004"
      },
      "source": [
        "train_df"
      ],
      "id": "96dbe829",
      "execution_count": null,
      "outputs": [
        {
          "output_type": "execute_result",
          "data": {
            "text/html": [
              "<div>\n",
              "<style scoped>\n",
              "    .dataframe tbody tr th:only-of-type {\n",
              "        vertical-align: middle;\n",
              "    }\n",
              "\n",
              "    .dataframe tbody tr th {\n",
              "        vertical-align: top;\n",
              "    }\n",
              "\n",
              "    .dataframe thead th {\n",
              "        text-align: right;\n",
              "    }\n",
              "</style>\n",
              "<table border=\"1\" class=\"dataframe\">\n",
              "  <thead>\n",
              "    <tr style=\"text-align: right;\">\n",
              "      <th></th>\n",
              "      <th>text</th>\n",
              "      <th>category</th>\n",
              "    </tr>\n",
              "  </thead>\n",
              "  <tbody>\n",
              "    <tr>\n",
              "      <th>0</th>\n",
              "      <td>Sunny chechi fans evide like adichu power kani...</td>\n",
              "      <td>unknown_state</td>\n",
              "    </tr>\n",
              "    <tr>\n",
              "      <th>1</th>\n",
              "      <td>Angane july month ile ende aadyathe leave njan...</td>\n",
              "      <td>Positive</td>\n",
              "    </tr>\n",
              "    <tr>\n",
              "      <th>2</th>\n",
              "      <td>ഏട്ടന്റെ പുതിയ പടത്തിനു വേണ്ടി കാത്തിരിക്കുന്ന...</td>\n",
              "      <td>unknown_state</td>\n",
              "    </tr>\n",
              "    <tr>\n",
              "      <th>3</th>\n",
              "      <td>ഇനി ലാലേട്ടന്റെ വേട്ട തുടങ്ങാൻ പോകുന്നു..........</td>\n",
              "      <td>Positive</td>\n",
              "    </tr>\n",
              "    <tr>\n",
              "      <th>4</th>\n",
              "      <td>Trailer powli oru raksha illa . Pakshea padam ...</td>\n",
              "      <td>Positive</td>\n",
              "    </tr>\n",
              "    <tr>\n",
              "      <th>...</th>\n",
              "      <td>...</td>\n",
              "      <td>...</td>\n",
              "    </tr>\n",
              "    <tr>\n",
              "      <th>15883</th>\n",
              "      <td>Minimum 10 thavana kandavar maathram like adi</td>\n",
              "      <td>unknown_state</td>\n",
              "    </tr>\n",
              "    <tr>\n",
              "      <th>15884</th>\n",
              "      <td>Please cinema kaannaaan kothi aakunnu onnu rel...</td>\n",
              "      <td>Positive</td>\n",
              "    </tr>\n",
              "    <tr>\n",
              "      <th>15885</th>\n",
              "      <td>USA ok.. India No... Sadhacharam</td>\n",
              "      <td>unknown_state</td>\n",
              "    </tr>\n",
              "    <tr>\n",
              "      <th>15886</th>\n",
              "      <td>nama hero december 12 wait &amp; see  mamamaga mah...</td>\n",
              "      <td>Positive</td>\n",
              "    </tr>\n",
              "    <tr>\n",
              "      <th>15887</th>\n",
              "      <td>Madhuraraja 1 hour 40 k likes  Lucifer 1 min 4...</td>\n",
              "      <td>Mixed_feelings</td>\n",
              "    </tr>\n",
              "  </tbody>\n",
              "</table>\n",
              "<p>15888 rows × 2 columns</p>\n",
              "</div>"
            ],
            "text/plain": [
              "                                                    text        category\n",
              "0      Sunny chechi fans evide like adichu power kani...   unknown_state\n",
              "1      Angane july month ile ende aadyathe leave njan...        Positive\n",
              "2      ഏട്ടന്റെ പുതിയ പടത്തിനു വേണ്ടി കാത്തിരിക്കുന്ന...   unknown_state\n",
              "3      ഇനി ലാലേട്ടന്റെ വേട്ട തുടങ്ങാൻ പോകുന്നു..........        Positive\n",
              "4      Trailer powli oru raksha illa . Pakshea padam ...        Positive\n",
              "...                                                  ...             ...\n",
              "15883      Minimum 10 thavana kandavar maathram like adi   unknown_state\n",
              "15884  Please cinema kaannaaan kothi aakunnu onnu rel...        Positive\n",
              "15885                   USA ok.. India No... Sadhacharam   unknown_state\n",
              "15886  nama hero december 12 wait & see  mamamaga mah...        Positive\n",
              "15887  Madhuraraja 1 hour 40 k likes  Lucifer 1 min 4...  Mixed_feelings\n",
              "\n",
              "[15888 rows x 2 columns]"
            ]
          },
          "metadata": {},
          "execution_count": 14
        }
      ]
    },
    {
      "cell_type": "code",
      "metadata": {
        "colab": {
          "base_uri": "https://localhost:8080/",
          "height": 417
        },
        "id": "e52d6a3f",
        "outputId": "8f3ac9b5-79f0-4f7c-ae8a-dac8bd417cc2"
      },
      "source": [
        "valid_df"
      ],
      "id": "e52d6a3f",
      "execution_count": null,
      "outputs": [
        {
          "output_type": "execute_result",
          "data": {
            "text/html": [
              "<div>\n",
              "<style scoped>\n",
              "    .dataframe tbody tr th:only-of-type {\n",
              "        vertical-align: middle;\n",
              "    }\n",
              "\n",
              "    .dataframe tbody tr th {\n",
              "        vertical-align: top;\n",
              "    }\n",
              "\n",
              "    .dataframe thead th {\n",
              "        text-align: right;\n",
              "    }\n",
              "</style>\n",
              "<table border=\"1\" class=\"dataframe\">\n",
              "  <thead>\n",
              "    <tr style=\"text-align: right;\">\n",
              "      <th></th>\n",
              "      <th>text</th>\n",
              "      <th>category</th>\n",
              "    </tr>\n",
              "  </thead>\n",
              "  <tbody>\n",
              "    <tr>\n",
              "      <th>0</th>\n",
              "      <td>Mammooka ninghal mass aa pwoli item</td>\n",
              "      <td>Positive</td>\n",
              "    </tr>\n",
              "    <tr>\n",
              "      <th>1</th>\n",
              "      <td>Waiting for Malayalam movie  For Tamil paiyan</td>\n",
              "      <td>not-malayalam</td>\n",
              "    </tr>\n",
              "    <tr>\n",
              "      <th>2</th>\n",
              "      <td>ദളപതി ഫാൻസിന്റെ വക ഒരു ഒന്നൊന്നര വിജയാശംസകൾ...</td>\n",
              "      <td>Positive</td>\n",
              "    </tr>\n",
              "    <tr>\n",
              "      <th>3</th>\n",
              "      <td>#Trailer pwolichuuuu ഓണത്തിന് വന്നങ്ങു തകർത്തേ...</td>\n",
              "      <td>Positive</td>\n",
              "    </tr>\n",
              "    <tr>\n",
              "      <th>4</th>\n",
              "      <td>Mammoookkaaaa polichadukkiii katta waiting nv 21</td>\n",
              "      <td>Positive</td>\n",
              "    </tr>\n",
              "    <tr>\n",
              "      <th>...</th>\n",
              "      <td>...</td>\n",
              "      <td>...</td>\n",
              "    </tr>\n",
              "    <tr>\n",
              "      <th>1761</th>\n",
              "      <td>Aa ചിരി uff എന്റെ പൊന്നോ ഇക്ക vere ലെവൽ</td>\n",
              "      <td>Positive</td>\n",
              "    </tr>\n",
              "    <tr>\n",
              "      <th>1762</th>\n",
              "      <td>Katta katta katta katta waiting....cant wait man</td>\n",
              "      <td>Positive</td>\n",
              "    </tr>\n",
              "    <tr>\n",
              "      <th>1763</th>\n",
              "      <td>Arjun reddy bgm poole thonniyathu enniku mathr...</td>\n",
              "      <td>unknown_state</td>\n",
              "    </tr>\n",
              "    <tr>\n",
              "      <th>1764</th>\n",
              "      <td>Fahad ikka ithilum polikum en urappayi</td>\n",
              "      <td>Positive</td>\n",
              "    </tr>\n",
              "    <tr>\n",
              "      <th>1765</th>\n",
              "      <td>Njan veendum kanan vannu 100 pravashyam enkilu...</td>\n",
              "      <td>Positive</td>\n",
              "    </tr>\n",
              "  </tbody>\n",
              "</table>\n",
              "<p>1766 rows × 2 columns</p>\n",
              "</div>"
            ],
            "text/plain": [
              "                                                   text       category\n",
              "0                   Mammooka ninghal mass aa pwoli item       Positive\n",
              "1         Waiting for Malayalam movie  For Tamil paiyan  not-malayalam\n",
              "2        ദളപതി ഫാൻസിന്റെ വക ഒരു ഒന്നൊന്നര വിജയാശംസകൾ...       Positive\n",
              "3     #Trailer pwolichuuuu ഓണത്തിന് വന്നങ്ങു തകർത്തേ...       Positive\n",
              "4      Mammoookkaaaa polichadukkiii katta waiting nv 21       Positive\n",
              "...                                                 ...            ...\n",
              "1761            Aa ചിരി uff എന്റെ പൊന്നോ ഇക്ക vere ലെവൽ       Positive\n",
              "1762   Katta katta katta katta waiting....cant wait man       Positive\n",
              "1763  Arjun reddy bgm poole thonniyathu enniku mathr...  unknown_state\n",
              "1764             Fahad ikka ithilum polikum en urappayi       Positive\n",
              "1765  Njan veendum kanan vannu 100 pravashyam enkilu...       Positive\n",
              "\n",
              "[1766 rows x 2 columns]"
            ]
          },
          "metadata": {},
          "execution_count": 15
        }
      ]
    },
    {
      "cell_type": "code",
      "metadata": {
        "colab": {
          "base_uri": "https://localhost:8080/"
        },
        "id": "3043879a",
        "outputId": "2547c1b1-6b76-427c-d181-05d61c4f94ad"
      },
      "source": [
        "valid_df['text']"
      ],
      "id": "3043879a",
      "execution_count": null,
      "outputs": [
        {
          "output_type": "execute_result",
          "data": {
            "text/plain": [
              "0                     Mammooka ninghal mass aa pwoli item\n",
              "1           Waiting for Malayalam movie  For Tamil paiyan\n",
              "2          ദളപതി ഫാൻസിന്റെ വക ഒരു ഒന്നൊന്നര വിജയാശംസകൾ...\n",
              "3       #Trailer pwolichuuuu ഓണത്തിന് വന്നങ്ങു തകർത്തേ...\n",
              "4        Mammoookkaaaa polichadukkiii katta waiting nv 21\n",
              "                              ...                        \n",
              "1761              Aa ചിരി uff എന്റെ പൊന്നോ ഇക്ക vere ലെവൽ\n",
              "1762     Katta katta katta katta waiting....cant wait man\n",
              "1763    Arjun reddy bgm poole thonniyathu enniku mathr...\n",
              "1764               Fahad ikka ithilum polikum en urappayi\n",
              "1765    Njan veendum kanan vannu 100 pravashyam enkilu...\n",
              "Name: text, Length: 1766, dtype: object"
            ]
          },
          "metadata": {},
          "execution_count": 16
        }
      ]
    },
    {
      "cell_type": "code",
      "metadata": {
        "id": "3fea4be7"
      },
      "source": [
        "#removing all the emoji from the given data\n",
        "\n",
        "def deEmojify(text):\n",
        "    regrex_pattern = re.compile(pattern = \"[\"\n",
        "        u\"\\U0001F600-\\U0001F64F\"  # emoticons\n",
        "        u\"\\U0001F300-\\U0001F5FF\"  # symbols & pictographs\n",
        "        u\"\\U0001F680-\\U0001F6FF\"  # transport & map symbols\n",
        "        u\"\\U0001F1E0-\\U0001F1FF\"  # flags (iOS)\n",
        "        u\"\\U00002500-\\U00002BEF\"  # chinese char\n",
        "        u\"\\U00002702-\\U000027B0\"\n",
        "        u\"\\U00002702-\\U000027B0\"\n",
        "        u\"\\U000024C2-\\U0001F251\"\n",
        "        u\"\\U0001f926-\\U0001f937\"\n",
        "        u\"\\U00010000-\\U0010ffff\"\n",
        "        u\"\\u2640-\\u2642\"\n",
        "        u\"\\u2600-\\u2B55\"\n",
        "        u\"\\u200d\"\n",
        "        u\"\\u23cf\"\n",
        "        u\"\\u23e9\"\n",
        "        u\"\\u231a\"\n",
        "        u\"\\ufe0f\"  # dingbats\n",
        "        u\"\\u3030\"\n",
        "        \"]+\", flags = re.UNICODE)\n",
        "    return regrex_pattern.sub(r'',text)\n",
        "\n",
        "\n",
        "for i in range(len(train_df)):\n",
        "    temp1 = deEmojify(train_df['text'][i])\n",
        "    train_df['text'][i] = temp1\n",
        "\n",
        "for j in range(len(valid_df)):\n",
        "    temp2 = deEmojify(valid_df['text'][j])\n",
        "    valid_df['text'][j] = temp2\n",
        "\n",
        "for k in range(len(test_df)):\n",
        "    temp3 = deEmojify(test_df['text'][k])\n",
        "    test_df['text'][k]=temp3"
      ],
      "id": "3fea4be7",
      "execution_count": null,
      "outputs": []
    },
    {
      "cell_type": "code",
      "metadata": {
        "colab": {
          "base_uri": "https://localhost:8080/"
        },
        "id": "298b2d1a",
        "outputId": "3d721b3e-d578-416e-bfe4-4f672ea4c186"
      },
      "source": [
        "print(test_df['text'][516])\n",
        "print(test_df['text'][546])\n",
        "print(test_df['text'][555])\n",
        "print(test_df['text'][559])\n",
        "print(test_df['text'][570])\n",
        "print(test_df['text'][825])\n",
        "print(test_df['text'][838])\n",
        "print(test_df['text'][860])\n",
        "print(test_df['text'][890])\n",
        "print(test_df['text'][1234])"
      ],
      "id": "298b2d1a",
      "execution_count": null,
      "outputs": [
        {
          "output_type": "stream",
          "name": "stdout",
          "text": [
            "Ende ponno 68 vayasaya oraluda body thanneyano ith.... .. NAMICHU PONNIKKAAAA\n",
            "FDFS.. trailer kandu ithu vareyum njanithu paranjittilla..\n",
            "Degraders step BacK ...  മമ്മൂക്ക\n",
            "ഈ പാട്ട് ഡിസ്‌ലൈക് ചെയ്തവരുടെ വീട്ടുകാരെ സമ്മതിക്കണം .....BIG SALUTE\n",
            "ഇത് ഏത് ഭാഷ ശിവനെ ഏത് ജില്ല \n",
            "ഇതൊക്കെ മമ്മുക്ക പറഞ്ഞാൽ പൊളിക്കും   \n",
            "1:08 ST PIUS X KUTTIKANAM        *UYIR*\n",
            "Ente ponno..... Heavy.... BGM... Ikka pinne parayanilla....2 looks kidilosky  Overall kidukkachi aahn Mone...\n",
            "Song dislike adicha 90% perum phycho singles akum\n",
            "അഭ്യർത്ഥന ____________________ മാമാങ്കം പലകുറി കൊണ്ടാടും  എന്ന ഗാനം ടൈറ്റിൽ സോങ്ങ് ആയി ഉൾപ്പെടുത്താമോ....  Album :vasantha geethangal Singer: K J YESUDAS\n"
          ]
        }
      ]
    },
    {
      "cell_type": "code",
      "metadata": {
        "id": "b0ac983b"
      },
      "source": [
        "def preprocess_data(text):\n",
        "  user_name = '@[A-Za-z0-9]+' # Pattern for matching the user names in the tweet\n",
        "  has_tag = '#[A-Za-z0-9]+' # Pattern for matching the hasgtags in the tweer\n",
        "  url = 'https?:\\/\\/[A-Za-z0-9\\.\\/\\-]+' # Pattern for matching the URLs in the tweet\n",
        "  #emoji_pattern = r'/[x{1F600}-x{1F64F}]/u'\n",
        "  \n",
        "  x = text.lower()  # Lower casing all the characters\n",
        "  x = re.sub(user_name, '', x) # Replace the username with an empty characrer\n",
        "  x = re.sub(has_tag,'',x) # Replace the hashtags with an empty characrer\n",
        "  x = re.sub(url, '', x) # Replace the URLs with an empty characrer\n",
        "  #x = re.sub(emoji_pattern, '', x)\n",
        "  x = x.translate(str.maketrans('', '', string.punctuation)) # Replace all the characters except alphabets and digits from the tweet\n",
        "\n",
        "  return x"
      ],
      "id": "b0ac983b",
      "execution_count": null,
      "outputs": []
    },
    {
      "cell_type": "code",
      "metadata": {
        "id": "dbff7146"
      },
      "source": [
        "train_df['text'] = train_df['text'].apply(lambda x: preprocess_data(x)) # Apply the clean_data() to all the entries in the dataframe\n",
        "valid_df['text'] = valid_df['text'].apply(lambda x: preprocess_data(x)) # Apply the clean_data() to all the entries in the dataframe\n",
        "test_df['text'] = test_df['text'].apply(lambda x: preprocess_data(x)) # Apply the clean_data() to all the entries in the dataframe"
      ],
      "id": "dbff7146",
      "execution_count": null,
      "outputs": []
    },
    {
      "cell_type": "code",
      "metadata": {
        "colab": {
          "base_uri": "https://localhost:8080/"
        },
        "id": "56146dd0",
        "outputId": "9cfc07fa-b339-4f59-9d0f-f68913ade857"
      },
      "source": [
        "print(test_df['text'][279])\n",
        "print(test_df['text'][516])\n",
        "print(test_df['text'][546])\n",
        "print(test_df['text'][555])\n",
        "print(test_df['text'][559])\n",
        "print(test_df['text'][570])\n",
        "print(test_df['text'][825])\n",
        "print(test_df['text'][838])\n",
        "print(test_df['text'][860])\n",
        "print(test_df['text'][890])\n",
        "print(test_df['text'][1234])"
      ],
      "id": "56146dd0",
      "execution_count": null,
      "outputs": [
        {
          "output_type": "stream",
          "name": "stdout",
          "text": [
            "oru panipalal manakunnu again mr jr \n",
            "ende ponno 68 vayasaya oraluda body thanneyano ith  namichu ponnikkaaaa\n",
            "fdfs trailer kandu ithu vareyum njanithu paranjittilla\n",
            "degraders step back   മമ്മൂക്ക\n",
            "ഈ പാട്ട് ഡിസ്‌ലൈക് ചെയ്തവരുടെ വീട്ടുകാരെ സമ്മതിക്കണം big salute\n",
            "ഇത് ഏത് ഭാഷ ശിവനെ ഏത് ജില്ല \n",
            "ഇതൊക്കെ മമ്മുക്ക പറഞ്ഞാൽ പൊളിക്കും   \n",
            "108 st pius x kuttikanam        uyir\n",
            "ente ponno heavy bgm ikka pinne parayanilla2 looks kidilosky  overall kidukkachi aahn mone\n",
            "song dislike adicha 90 perum phycho singles akum\n",
            "അഭ്യർത്ഥന  മാമാങ്കം പലകുറി കൊണ്ടാടും  എന്ന ഗാനം ടൈറ്റിൽ സോങ്ങ് ആയി ഉൾപ്പെടുത്താമോ  album vasantha geethangal singer k j yesudas\n"
          ]
        }
      ]
    },
    {
      "cell_type": "code",
      "metadata": {
        "colab": {
          "base_uri": "https://localhost:8080/",
          "height": 35
        },
        "id": "9b67b994",
        "outputId": "cdcac37c-5c69-41d0-90fb-e52143413d87"
      },
      "source": [
        "valid_df['text'][0]"
      ],
      "id": "9b67b994",
      "execution_count": null,
      "outputs": [
        {
          "output_type": "execute_result",
          "data": {
            "application/vnd.google.colaboratory.intrinsic+json": {
              "type": "string"
            },
            "text/plain": [
              "'mammooka ninghal mass aa pwoli item'"
            ]
          },
          "metadata": {},
          "execution_count": 22
        }
      ]
    },
    {
      "cell_type": "code",
      "metadata": {
        "id": "341b295a"
      },
      "source": [
        "train_text = train_df['text'].tolist()\n",
        "valid_text = valid_df['text'].tolist()\n",
        "test_text = test_df['text'].tolist()\n",
        "\n",
        "train_label = train_df['category'].tolist()\n",
        "valid_label = valid_df['category'].tolist()"
      ],
      "id": "341b295a",
      "execution_count": null,
      "outputs": []
    },
    {
      "cell_type": "code",
      "metadata": {
        "id": "a032f3e9"
      },
      "source": [
        "#function definition\n",
        "def get_model(model_url, max_seq_length):\n",
        "  inputs = dict(\n",
        "    input_word_ids=tf.keras.layers.Input(shape=(max_seq_length,), dtype=tf.int32),\n",
        "    input_mask=tf.keras.layers.Input(shape=(max_seq_length,), dtype=tf.int32),\n",
        "    input_type_ids=tf.keras.layers.Input(shape=(max_seq_length,), dtype=tf.int32),\n",
        "    ) \n",
        "  muril_layer = hub.KerasLayer(model_url, trainable=True)\n",
        "  outputs = muril_layer(inputs)\n",
        "  assert 'sequence_output' in outputs\n",
        "  assert 'pooled_output' in outputs\n",
        "  assert 'encoder_outputs' in outputs\n",
        "  assert 'default' in outputs\n",
        "  return tf.keras.Model(inputs=inputs,outputs=outputs[\"pooled_output\"]), muril_layer\n",
        "#function call\n",
        "max_seq_length = 128\n",
        "muril_model, muril_layer = get_model(\n",
        "    model_url=\"https://tfhub.dev/google/MuRIL/1\", max_seq_length=max_seq_length)"
      ],
      "id": "a032f3e9",
      "execution_count": null,
      "outputs": []
    },
    {
      "cell_type": "code",
      "metadata": {
        "id": "50aca071"
      },
      "source": [
        "#converts input into BERT-acceptable format (preprocessing)\n",
        "vocab_file = muril_layer.resolved_object.vocab_file.asset_path.numpy()\n",
        "do_lower_case = muril_layer.resolved_object.do_lower_case.numpy()\n",
        "tokenizer = bert_tokenization.FullTokenizer(vocab_file, do_lower_case)"
      ],
      "id": "50aca071",
      "execution_count": null,
      "outputs": []
    },
    {
      "cell_type": "code",
      "metadata": {
        "id": "17e0d709"
      },
      "source": [
        "#That 3 types of embeddings in BERT\n",
        "def create_input(input_strings, tokenizer, max_seq_length):\n",
        "  input_ids_all, input_mask_all, input_type_ids_all = [], [], []\n",
        "  for input_string in input_strings:\n",
        "    input_tokens = [\"[CLS]\"] + tokenizer.tokenize(input_string) + [\"[SEP]\"]\n",
        "    input_ids = tokenizer.convert_tokens_to_ids(input_tokens)\n",
        "    sequence_length = min(len(input_ids), max_seq_length)\n",
        "    if len(input_ids) >= max_seq_length:\n",
        "      input_ids = input_ids[:max_seq_length]\n",
        "    else:\n",
        "      input_ids = input_ids + [0] * (max_seq_length - len(input_ids))\n",
        "    input_mask = [1] * sequence_length + [0] * (max_seq_length - sequence_length)\n",
        "    input_ids_all.append(input_ids)\n",
        "    input_mask_all.append(input_mask)\n",
        "    input_type_ids_all.append([0] * max_seq_length)\n",
        "  return np.array(input_ids_all), np.array(input_mask_all), np.array(input_type_ids_all)"
      ],
      "id": "17e0d709",
      "execution_count": null,
      "outputs": []
    },
    {
      "cell_type": "code",
      "metadata": {
        "id": "fb37accf"
      },
      "source": [
        "def encode(input_text):\n",
        "  input_ids, input_mask, input_type_ids = create_input(input_text,tokenizer,max_seq_length)\n",
        "  inputs = dict(\n",
        "      input_word_ids=input_ids,\n",
        "      input_mask=input_mask,\n",
        "      input_type_ids=input_type_ids,\n",
        "  )\n",
        "  return muril_model(inputs)"
      ],
      "id": "fb37accf",
      "execution_count": null,
      "outputs": []
    },
    {
      "cell_type": "code",
      "metadata": {
        "id": "TbP3CQCFbkGa"
      },
      "source": [
        "train"
      ],
      "id": "TbP3CQCFbkGa",
      "execution_count": null,
      "outputs": []
    },
    {
      "cell_type": "code",
      "metadata": {
        "id": "i-Ede7OXYySW"
      },
      "source": [
        "import math\n",
        "import time"
      ],
      "id": "i-Ede7OXYySW",
      "execution_count": null,
      "outputs": []
    },
    {
      "cell_type": "code",
      "metadata": {
        "id": "6VVaV7V1YpP_"
      },
      "source": [
        "Batch_size = 64\n",
        "start = 0;Endu = Batch_size\n",
        "fullsize = math.floor(len(train_text)/Batch_size)"
      ],
      "id": "6VVaV7V1YpP_",
      "execution_count": null,
      "outputs": []
    },
    {
      "cell_type": "code",
      "metadata": {
        "colab": {
          "base_uri": "https://localhost:8080/"
        },
        "id": "QJHLlhpfbzyz",
        "outputId": "480521df-0d9a-45f2-bcd6-d19315a12144"
      },
      "source": [
        "train_text[0:10]"
      ],
      "id": "QJHLlhpfbzyz",
      "execution_count": null,
      "outputs": [
        {
          "output_type": "execute_result",
          "data": {
            "text/plain": [
              "['sunny chechi fans evide like adichu power kaniku',\n",
              " 'angane july month ile ende aadyathe leave njan angu edukuva july 5 nu',\n",
              " 'ഏട്ടന്റെ പുതിയ പടത്തിനു വേണ്ടി കാത്തിരിക്കുന്നവർ ലൈക്\\u200c ബട്ടൺ അടിച്ചു പോളിക്കോ',\n",
              " 'ഇനി ലാലേട്ടന്റെ വേട്ട തുടങ്ങാൻ പോകുന്നു മുൻ കാല collection recordukal ഭേതിച്ചിരിക്കും',\n",
              " 'trailer powli oru raksha illa  pakshea padam irangattea veruthea over degrade venda padam irangittu paraya',\n",
              " 'malayalam padam thanne aanu 2020 vere level',\n",
              " 'history of mammukka   kattawaiting and support love u mammukka',\n",
              " 'yaaru andha mech le penne ',\n",
              " 'ആമയെ വെള്ളത്തിൽ മുക്കി കൊല്ലുന്ന ഇനമാ ',\n",
              " 'ജോഷി രണ്ടുംകല്പിച്ചു ആണെല്ലോ സംഭവം എന്തായാലും പൊളിക്കും']"
            ]
          },
          "metadata": {},
          "execution_count": 34
        }
      ]
    },
    {
      "cell_type": "code",
      "metadata": {
        "colab": {
          "base_uri": "https://localhost:8080/"
        },
        "id": "PY0Vn3zWYwSt",
        "outputId": "823e9bb0-a7b5-43b7-8979-f92aa549a00c"
      },
      "source": [
        "for i in range(fullsize):\n",
        "    if i+1 == fullsize:\n",
        "        Endu = len(train_text)\n",
        "        out = encode(train_text[int(start):int(Endu)])\n",
        "    else:\n",
        "        out = encode(train_text[int(start):int(Endu)])\n",
        "    if i == 0:\n",
        "        total = out\n",
        "    else:\n",
        "        #torch.cat((total,out.last_hidden_state),0)\n",
        "        total = tf.concat([total, out],0)\n",
        "    start = Batch_size * (i+1)\n",
        "    Endu = Batch_size * (i+2)\n",
        "    print(i)"
      ],
      "id": "PY0Vn3zWYwSt",
      "execution_count": null,
      "outputs": [
        {
          "output_type": "stream",
          "name": "stdout",
          "text": [
            "0\n",
            "1\n",
            "2\n",
            "3\n",
            "4\n",
            "5\n",
            "6\n",
            "7\n",
            "8\n",
            "9\n",
            "10\n",
            "11\n",
            "12\n",
            "13\n",
            "14\n",
            "15\n",
            "16\n",
            "17\n",
            "18\n",
            "19\n",
            "20\n",
            "21\n",
            "22\n",
            "23\n",
            "24\n",
            "25\n",
            "26\n",
            "27\n",
            "28\n",
            "29\n",
            "30\n",
            "31\n",
            "32\n",
            "33\n",
            "34\n",
            "35\n",
            "36\n",
            "37\n",
            "38\n",
            "39\n",
            "40\n",
            "41\n",
            "42\n",
            "43\n",
            "44\n",
            "45\n",
            "46\n",
            "47\n",
            "48\n",
            "49\n",
            "50\n",
            "51\n",
            "52\n",
            "53\n",
            "54\n",
            "55\n",
            "56\n",
            "57\n",
            "58\n",
            "59\n",
            "60\n",
            "61\n",
            "62\n",
            "63\n",
            "64\n",
            "65\n",
            "66\n",
            "67\n",
            "68\n",
            "69\n",
            "70\n",
            "71\n",
            "72\n",
            "73\n",
            "74\n",
            "75\n",
            "76\n",
            "77\n",
            "78\n",
            "79\n",
            "80\n",
            "81\n",
            "82\n",
            "83\n",
            "84\n",
            "85\n",
            "86\n",
            "87\n",
            "88\n",
            "89\n",
            "90\n",
            "91\n",
            "92\n",
            "93\n",
            "94\n",
            "95\n",
            "96\n",
            "97\n",
            "98\n",
            "99\n",
            "100\n",
            "101\n",
            "102\n",
            "103\n",
            "104\n",
            "105\n",
            "106\n",
            "107\n",
            "108\n",
            "109\n",
            "110\n",
            "111\n",
            "112\n",
            "113\n",
            "114\n",
            "115\n",
            "116\n",
            "117\n",
            "118\n",
            "119\n",
            "120\n",
            "121\n",
            "122\n",
            "123\n",
            "124\n",
            "125\n",
            "126\n",
            "127\n",
            "128\n",
            "129\n",
            "130\n",
            "131\n",
            "132\n",
            "133\n",
            "134\n",
            "135\n",
            "136\n",
            "137\n",
            "138\n",
            "139\n",
            "140\n",
            "141\n",
            "142\n",
            "143\n",
            "144\n",
            "145\n",
            "146\n",
            "147\n",
            "148\n",
            "149\n",
            "150\n",
            "151\n",
            "152\n",
            "153\n",
            "154\n",
            "155\n",
            "156\n",
            "157\n",
            "158\n",
            "159\n",
            "160\n",
            "161\n",
            "162\n",
            "163\n",
            "164\n",
            "165\n",
            "166\n",
            "167\n",
            "168\n",
            "169\n",
            "170\n",
            "171\n",
            "172\n",
            "173\n",
            "174\n",
            "175\n",
            "176\n",
            "177\n",
            "178\n",
            "179\n",
            "180\n",
            "181\n",
            "182\n",
            "183\n",
            "184\n",
            "185\n",
            "186\n",
            "187\n",
            "188\n",
            "189\n",
            "190\n",
            "191\n",
            "192\n",
            "193\n",
            "194\n",
            "195\n",
            "196\n",
            "197\n",
            "198\n",
            "199\n",
            "200\n",
            "201\n",
            "202\n",
            "203\n",
            "204\n",
            "205\n",
            "206\n",
            "207\n",
            "208\n",
            "209\n",
            "210\n",
            "211\n",
            "212\n",
            "213\n",
            "214\n",
            "215\n",
            "216\n",
            "217\n",
            "218\n",
            "219\n",
            "220\n",
            "221\n",
            "222\n",
            "223\n",
            "224\n",
            "225\n",
            "226\n",
            "227\n",
            "228\n",
            "229\n",
            "230\n",
            "231\n",
            "232\n",
            "233\n",
            "234\n",
            "235\n",
            "236\n",
            "237\n",
            "238\n",
            "239\n",
            "240\n",
            "241\n",
            "242\n",
            "243\n",
            "244\n",
            "245\n",
            "246\n",
            "247\n"
          ]
        }
      ]
    },
    {
      "cell_type": "code",
      "metadata": {
        "id": "6_ceWz8QYwJn"
      },
      "source": [
        "X_train = np.array(total)\n",
        "np.save('Muril_X_train.npy', X_train)"
      ],
      "id": "6_ceWz8QYwJn",
      "execution_count": null,
      "outputs": []
    },
    {
      "cell_type": "code",
      "metadata": {
        "id": "mt7QSRK-dTcT"
      },
      "source": [
        "X_train = np.load('Muril_X_train.npy')"
      ],
      "id": "mt7QSRK-dTcT",
      "execution_count": null,
      "outputs": []
    },
    {
      "cell_type": "code",
      "metadata": {
        "colab": {
          "base_uri": "https://localhost:8080/"
        },
        "id": "ecpZGNq0dTX4",
        "outputId": "e57a95da-cd65-4ae2-d610-6e2da4c74b8a"
      },
      "source": [
        "X_train.shape"
      ],
      "id": "ecpZGNq0dTX4",
      "execution_count": null,
      "outputs": [
        {
          "output_type": "execute_result",
          "data": {
            "text/plain": [
              "(15888, 768)"
            ]
          },
          "metadata": {},
          "execution_count": 38
        }
      ]
    },
    {
      "cell_type": "code",
      "metadata": {
        "id": "tgWphMyLeCZy"
      },
      "source": [
        ""
      ],
      "id": "tgWphMyLeCZy",
      "execution_count": null,
      "outputs": []
    },
    {
      "cell_type": "code",
      "metadata": {
        "id": "4grlTq0HdTS4"
      },
      "source": [
        "Y_train = np.array(train_label)"
      ],
      "id": "4grlTq0HdTS4",
      "execution_count": null,
      "outputs": []
    },
    {
      "cell_type": "code",
      "metadata": {
        "id": "GAnsP_o6gtBL"
      },
      "source": [
        "Batch_size = 64\n",
        "start = 0;Endu = Batch_size\n",
        "fullsize = math.floor(len(valid_text)/Batch_size)"
      ],
      "id": "GAnsP_o6gtBL",
      "execution_count": null,
      "outputs": []
    },
    {
      "cell_type": "code",
      "metadata": {
        "colab": {
          "base_uri": "https://localhost:8080/"
        },
        "id": "UPOuo0osd7d4",
        "outputId": "6c2b2046-aa34-43d2-b960-a109bb5df95b"
      },
      "source": [
        "for i in range(fullsize):\n",
        "    if i+1 == fullsize:\n",
        "        Endu = len(valid_text)\n",
        "        out = encode(valid_text[int(start):int(Endu)])\n",
        "    else:\n",
        "        out = encode(valid_text[int(start):int(Endu)])\n",
        "    if i == 0:\n",
        "        total = out\n",
        "    else:\n",
        "        #torch.cat((total,out.last_hidden_state),0)\n",
        "        total = tf.concat([total, out],0)\n",
        "    start = Batch_size * (i+1)\n",
        "    Endu = Batch_size * (i+2)\n",
        "    print(i)"
      ],
      "id": "UPOuo0osd7d4",
      "execution_count": null,
      "outputs": [
        {
          "output_type": "stream",
          "name": "stdout",
          "text": [
            "0\n",
            "1\n",
            "2\n",
            "3\n",
            "4\n",
            "5\n",
            "6\n",
            "7\n",
            "8\n",
            "9\n",
            "10\n",
            "11\n",
            "12\n",
            "13\n",
            "14\n",
            "15\n",
            "16\n",
            "17\n",
            "18\n",
            "19\n",
            "20\n",
            "21\n",
            "22\n",
            "23\n",
            "24\n",
            "25\n",
            "26\n"
          ]
        }
      ]
    },
    {
      "cell_type": "code",
      "metadata": {
        "id": "x0sBvomugBwM"
      },
      "source": [
        "X_val = np.array(total)\n",
        "np.save('Muril_X_val.npy', X_val)"
      ],
      "id": "x0sBvomugBwM",
      "execution_count": null,
      "outputs": []
    },
    {
      "cell_type": "code",
      "metadata": {
        "id": "JoGaoNz7gB2b"
      },
      "source": [
        "X_val = np.load('Muril_X_val.npy')"
      ],
      "id": "JoGaoNz7gB2b",
      "execution_count": null,
      "outputs": []
    },
    {
      "cell_type": "code",
      "metadata": {
        "id": "hiE5o7iegiNG"
      },
      "source": [
        "Y_val = np.array(valid_label)"
      ],
      "id": "hiE5o7iegiNG",
      "execution_count": null,
      "outputs": []
    },
    {
      "cell_type": "markdown",
      "metadata": {
        "id": "d345d9a3"
      },
      "source": [
        "# SVM"
      ],
      "id": "d345d9a3"
    },
    {
      "cell_type": "code",
      "metadata": {
        "id": "7e0d4127"
      },
      "source": [
        "from sklearn.svm import SVC\n",
        "from sklearn.metrics import confusion_matrix, classification_report"
      ],
      "id": "7e0d4127",
      "execution_count": null,
      "outputs": []
    },
    {
      "cell_type": "code",
      "metadata": {
        "colab": {
          "base_uri": "https://localhost:8080/"
        },
        "id": "72d87abf",
        "outputId": "75a079e3-a9a5-42ce-89da-cc076c3d46fb"
      },
      "source": [
        "svc = SVC(decision_function_shape='ovo')\n",
        "svc.fit(X_train,Y_train)"
      ],
      "id": "72d87abf",
      "execution_count": null,
      "outputs": [
        {
          "output_type": "execute_result",
          "data": {
            "text/plain": [
              "SVC(C=1.0, break_ties=False, cache_size=200, class_weight=None, coef0=0.0,\n",
              "    decision_function_shape='ovo', degree=3, gamma='scale', kernel='rbf',\n",
              "    max_iter=-1, probability=False, random_state=None, shrinking=True,\n",
              "    tol=0.001, verbose=False)"
            ]
          },
          "metadata": {},
          "execution_count": 42
        }
      ]
    },
    {
      "cell_type": "code",
      "metadata": {
        "id": "d5c37e8b"
      },
      "source": [
        "pred_svc = svc.predict(X_val)"
      ],
      "id": "d5c37e8b",
      "execution_count": null,
      "outputs": []
    },
    {
      "cell_type": "code",
      "metadata": {
        "colab": {
          "base_uri": "https://localhost:8080/"
        },
        "id": "3aac1faa",
        "outputId": "991a71dd-f341-4da4-bcb1-4181d2252a01"
      },
      "source": [
        "confusion_matrix(Y_val,pred_svc)"
      ],
      "id": "3aac1faa",
      "execution_count": null,
      "outputs": [
        {
          "output_type": "execute_result",
          "data": {
            "text/plain": [
              "array([[  0,   0, 102,   0,   0],\n",
              "       [  0,   0, 237,   0,   0],\n",
              "       [  0,   0, 704,   0,   2],\n",
              "       [  0,   0, 141,   0,   0],\n",
              "       [  0,   0, 580,   0,   0]])"
            ]
          },
          "metadata": {},
          "execution_count": 54
        }
      ]
    },
    {
      "cell_type": "code",
      "metadata": {
        "colab": {
          "base_uri": "https://localhost:8080/"
        },
        "id": "b3ab3232",
        "outputId": "90fe8304-70cc-43a0-c8a1-023f89e0fe7d"
      },
      "source": [
        "print(classification_report(Y_val,pred_svc))"
      ],
      "id": "b3ab3232",
      "execution_count": null,
      "outputs": [
        {
          "output_type": "stream",
          "name": "stdout",
          "text": [
            "                precision    recall  f1-score   support\n",
            "\n",
            "Mixed_feelings       0.00      0.00      0.00       102\n",
            "      Negative       0.00      0.00      0.00       237\n",
            "      Positive       0.40      1.00      0.57       706\n",
            " not-malayalam       0.00      0.00      0.00       141\n",
            " unknown_state       0.00      0.00      0.00       580\n",
            "\n",
            "      accuracy                           0.40      1766\n",
            "     macro avg       0.08      0.20      0.11      1766\n",
            "  weighted avg       0.16      0.40      0.23      1766\n",
            "\n"
          ]
        },
        {
          "output_type": "stream",
          "name": "stderr",
          "text": [
            "/usr/local/lib/python3.7/dist-packages/sklearn/metrics/_classification.py:1272: UndefinedMetricWarning: Precision and F-score are ill-defined and being set to 0.0 in labels with no predicted samples. Use `zero_division` parameter to control this behavior.\n",
            "  _warn_prf(average, modifier, msg_start, len(result))\n"
          ]
        }
      ]
    },
    {
      "cell_type": "markdown",
      "metadata": {
        "id": "1d52c3b4"
      },
      "source": [
        "## DecisionTree"
      ],
      "id": "1d52c3b4"
    },
    {
      "cell_type": "code",
      "metadata": {
        "id": "22eaebbc"
      },
      "source": [
        "from sklearn.tree import DecisionTreeClassifier"
      ],
      "id": "22eaebbc",
      "execution_count": null,
      "outputs": []
    },
    {
      "cell_type": "code",
      "metadata": {
        "id": "6328e7df"
      },
      "source": [
        "Dtree = DecisionTreeClassifier(criterion='entropy', random_state=10)"
      ],
      "id": "6328e7df",
      "execution_count": null,
      "outputs": []
    },
    {
      "cell_type": "code",
      "metadata": {
        "colab": {
          "base_uri": "https://localhost:8080/"
        },
        "id": "08dd8070",
        "outputId": "572f420e-98a7-4e50-a8ec-54bebe27b025"
      },
      "source": [
        "Dtree.fit(X_train,Y_train)"
      ],
      "id": "08dd8070",
      "execution_count": null,
      "outputs": [
        {
          "output_type": "execute_result",
          "data": {
            "text/plain": [
              "DecisionTreeClassifier(ccp_alpha=0.0, class_weight=None, criterion='entropy',\n",
              "                       max_depth=None, max_features=None, max_leaf_nodes=None,\n",
              "                       min_impurity_decrease=0.0, min_impurity_split=None,\n",
              "                       min_samples_leaf=1, min_samples_split=2,\n",
              "                       min_weight_fraction_leaf=0.0, presort='deprecated',\n",
              "                       random_state=10, splitter='best')"
            ]
          },
          "metadata": {},
          "execution_count": 58
        }
      ]
    },
    {
      "cell_type": "code",
      "metadata": {
        "id": "afb71803"
      },
      "source": [
        "pred_Dtree = Dtree.predict(X_val)"
      ],
      "id": "afb71803",
      "execution_count": null,
      "outputs": []
    },
    {
      "cell_type": "code",
      "metadata": {
        "colab": {
          "base_uri": "https://localhost:8080/"
        },
        "id": "e67c6e6b",
        "outputId": "eec1f3b1-7ba7-4ba9-9339-28ad6423a6eb"
      },
      "source": [
        "confusion_matrix(Y_val,pred_Dtree)"
      ],
      "id": "e67c6e6b",
      "execution_count": null,
      "outputs": [
        {
          "output_type": "execute_result",
          "data": {
            "text/plain": [
              "array([[ 17,  14,  44,   3,  24],\n",
              "       [ 16,  61,  87,   8,  65],\n",
              "       [ 39,  96, 352,  28, 191],\n",
              "       [  1,   9,  34,  69,  28],\n",
              "       [ 33,  82, 209,  18, 238]])"
            ]
          },
          "metadata": {},
          "execution_count": 60
        }
      ]
    },
    {
      "cell_type": "code",
      "metadata": {
        "colab": {
          "base_uri": "https://localhost:8080/"
        },
        "id": "9c525bf7",
        "outputId": "b15dc9d7-41da-4cd0-c100-789b2f8266d9"
      },
      "source": [
        "print(classification_report(Y_val,pred_Dtree))"
      ],
      "id": "9c525bf7",
      "execution_count": null,
      "outputs": [
        {
          "output_type": "stream",
          "name": "stdout",
          "text": [
            "                precision    recall  f1-score   support\n",
            "\n",
            "Mixed_feelings       0.16      0.17      0.16       102\n",
            "      Negative       0.23      0.26      0.24       237\n",
            "      Positive       0.48      0.50      0.49       706\n",
            " not-malayalam       0.55      0.49      0.52       141\n",
            " unknown_state       0.44      0.41      0.42       580\n",
            "\n",
            "      accuracy                           0.42      1766\n",
            "     macro avg       0.37      0.36      0.37      1766\n",
            "  weighted avg       0.42      0.42      0.42      1766\n",
            "\n"
          ]
        }
      ]
    },
    {
      "cell_type": "markdown",
      "metadata": {
        "id": "3a4f41b3"
      },
      "source": [
        "## Random Forest"
      ],
      "id": "3a4f41b3"
    },
    {
      "cell_type": "code",
      "metadata": {
        "id": "a2260390"
      },
      "source": [
        "from sklearn.ensemble import RandomForestClassifier"
      ],
      "id": "a2260390",
      "execution_count": null,
      "outputs": []
    },
    {
      "cell_type": "code",
      "metadata": {
        "colab": {
          "base_uri": "https://localhost:8080/"
        },
        "id": "d878b35a",
        "outputId": "5f710e96-5956-4dba-8528-43cefa9b0f85"
      },
      "source": [
        "RFC = RandomForestClassifier()\n",
        "RFC.fit(X_train,Y_train)"
      ],
      "id": "d878b35a",
      "execution_count": null,
      "outputs": [
        {
          "output_type": "execute_result",
          "data": {
            "text/plain": [
              "RandomForestClassifier(bootstrap=True, ccp_alpha=0.0, class_weight=None,\n",
              "                       criterion='gini', max_depth=None, max_features='auto',\n",
              "                       max_leaf_nodes=None, max_samples=None,\n",
              "                       min_impurity_decrease=0.0, min_impurity_split=None,\n",
              "                       min_samples_leaf=1, min_samples_split=2,\n",
              "                       min_weight_fraction_leaf=0.0, n_estimators=100,\n",
              "                       n_jobs=None, oob_score=False, random_state=None,\n",
              "                       verbose=0, warm_start=False)"
            ]
          },
          "metadata": {},
          "execution_count": 64
        }
      ]
    },
    {
      "cell_type": "code",
      "metadata": {
        "id": "724ea596"
      },
      "source": [
        "pred_RFC = RFC.predict(X_val)"
      ],
      "id": "724ea596",
      "execution_count": null,
      "outputs": []
    },
    {
      "cell_type": "code",
      "metadata": {
        "colab": {
          "base_uri": "https://localhost:8080/"
        },
        "id": "dc4743ed",
        "outputId": "101513a7-d020-49d9-d41c-58f4c524d532"
      },
      "source": [
        "confusion_matrix(Y_val,pred_RFC)"
      ],
      "id": "dc4743ed",
      "execution_count": null,
      "outputs": [
        {
          "output_type": "execute_result",
          "data": {
            "text/plain": [
              "array([[  7,   0,  69,   1,  25],\n",
              "       [  1,  24, 146,   0,  66],\n",
              "       [  1,   0, 585,   5, 115],\n",
              "       [  0,   0,  58,  68,  15],\n",
              "       [  1,   3, 274,   3, 299]])"
            ]
          },
          "metadata": {},
          "execution_count": 66
        }
      ]
    },
    {
      "cell_type": "code",
      "metadata": {
        "colab": {
          "base_uri": "https://localhost:8080/"
        },
        "id": "6362c92e",
        "outputId": "8f6b6387-446e-41ec-f344-173eba1fe0db"
      },
      "source": [
        "print(classification_report(Y_val,pred_RFC))"
      ],
      "id": "6362c92e",
      "execution_count": null,
      "outputs": [
        {
          "output_type": "stream",
          "name": "stdout",
          "text": [
            "                precision    recall  f1-score   support\n",
            "\n",
            "Mixed_feelings       0.70      0.07      0.13       102\n",
            "      Negative       0.89      0.10      0.18       237\n",
            "      Positive       0.52      0.83      0.64       706\n",
            " not-malayalam       0.88      0.48      0.62       141\n",
            " unknown_state       0.57      0.52      0.54       580\n",
            "\n",
            "      accuracy                           0.56      1766\n",
            "     macro avg       0.71      0.40      0.42      1766\n",
            "  weighted avg       0.63      0.56      0.51      1766\n",
            "\n"
          ]
        }
      ]
    },
    {
      "cell_type": "code",
      "metadata": {
        "id": "8c287141"
      },
      "source": [
        ""
      ],
      "id": "8c287141",
      "execution_count": null,
      "outputs": []
    },
    {
      "cell_type": "code",
      "metadata": {
        "colab": {
          "base_uri": "https://localhost:8080/"
        },
        "id": "tHPZNLgeiEZ4",
        "outputId": "4adda0cd-2f83-4e55-ebd4-81d21a5bbdbe"
      },
      "source": [
        "from google.colab import drive\n",
        "drive.mount('/content/drive')"
      ],
      "id": "tHPZNLgeiEZ4",
      "execution_count": null,
      "outputs": [
        {
          "output_type": "stream",
          "name": "stdout",
          "text": [
            "Mounted at /content/drive\n"
          ]
        }
      ]
    },
    {
      "cell_type": "code",
      "metadata": {
        "id": "FRTy9UlwiI38"
      },
      "source": [
        "!cp \"/content/Muril_X_train.npy\" -r \"/content/drive/MyDrive/MtechTesis/MuRIL\""
      ],
      "id": "FRTy9UlwiI38",
      "execution_count": null,
      "outputs": []
    },
    {
      "cell_type": "code",
      "metadata": {
        "id": "IrT2eL2AiI6x"
      },
      "source": [
        "!cp \"/content/Muril_X_val.npy\" -r \"/content/drive/MyDrive/MtechTesis/MuRIL\""
      ],
      "id": "IrT2eL2AiI6x",
      "execution_count": null,
      "outputs": []
    },
    {
      "cell_type": "code",
      "metadata": {
        "id": "Y340WQfHiI9Y"
      },
      "source": [
        ""
      ],
      "id": "Y340WQfHiI9Y",
      "execution_count": null,
      "outputs": []
    },
    {
      "cell_type": "code",
      "metadata": {
        "id": "7IftLpGtkmQr"
      },
      "source": [
        ""
      ],
      "id": "7IftLpGtkmQr",
      "execution_count": null,
      "outputs": []
    },
    {
      "cell_type": "code",
      "metadata": {
        "id": "ZlwNDXRykmNo"
      },
      "source": [
        "import cupy as cp"
      ],
      "id": "ZlwNDXRykmNo",
      "execution_count": null,
      "outputs": []
    },
    {
      "cell_type": "code",
      "metadata": {
        "id": "wXDPZMDdkmK_"
      },
      "source": [
        "X_train = cp.load('Muril_X_train.npy')\n",
        "X_val = cp.load('Muril_X_val.npy')\n",
        "Y_train = cp.load('Y_train.npy')\n",
        "Y_val = cp.load('Y_val.npy')"
      ],
      "id": "wXDPZMDdkmK_",
      "execution_count": null,
      "outputs": []
    },
    {
      "cell_type": "code",
      "metadata": {
        "id": "8ITuPXH4mRhG"
      },
      "source": [
        "from WR_LS_Denoising import WR_LS_Denoise"
      ],
      "id": "8ITuPXH4mRhG",
      "execution_count": null,
      "outputs": []
    },
    {
      "cell_type": "code",
      "metadata": {
        "colab": {
          "base_uri": "https://localhost:8080/"
        },
        "id": "qqu8S_O3k4t2",
        "outputId": "44a45136-67c5-4c89-b174-b528f88684fa"
      },
      "source": [
        "start = time.ctime(time.time())\n",
        "print(start)\n",
        "for i in range(len(X_train)):\n",
        "    Denoised =  WR_LS_Denoise(X_train[i])\n",
        "    X_train[i] = X_train[i]\n",
        "    if(i%1000 == 0):\n",
        "        print(i, time.ctime(time.time()))"
      ],
      "id": "qqu8S_O3k4t2",
      "execution_count": null,
      "outputs": [
        {
          "output_type": "stream",
          "name": "stdout",
          "text": [
            "Fri Oct 22 10:43:43 2021\n",
            "0 Fri Oct 22 10:43:52 2021\n",
            "1000 Fri Oct 22 10:44:32 2021\n",
            "2000 Fri Oct 22 10:45:11 2021\n",
            "3000 Fri Oct 22 10:45:50 2021\n",
            "4000 Fri Oct 22 10:46:30 2021\n",
            "5000 Fri Oct 22 10:47:09 2021\n",
            "6000 Fri Oct 22 10:47:48 2021\n",
            "7000 Fri Oct 22 10:48:28 2021\n",
            "8000 Fri Oct 22 10:49:07 2021\n",
            "9000 Fri Oct 22 10:49:46 2021\n",
            "10000 Fri Oct 22 10:50:25 2021\n",
            "11000 Fri Oct 22 10:51:04 2021\n",
            "12000 Fri Oct 22 10:51:43 2021\n",
            "13000 Fri Oct 22 10:52:23 2021\n",
            "14000 Fri Oct 22 10:53:02 2021\n",
            "15000 Fri Oct 22 10:53:41 2021\n"
          ]
        }
      ]
    },
    {
      "cell_type": "code",
      "metadata": {
        "colab": {
          "base_uri": "https://localhost:8080/"
        },
        "id": "HL8o1H6cmWxW",
        "outputId": "fab390b9-a7af-48e3-ba2b-a44983182f50"
      },
      "source": [
        "start = time.ctime(time.time())\n",
        "print(start)\n",
        "for i in range(len(X_val)):\n",
        "    Denoised =  WR_LS_Denoise(X_val[i])\n",
        "    X_val[i] = X_val[i]\n",
        "    if(i%1000 == 0):\n",
        "        print(i, time.ctime(time.time()))"
      ],
      "id": "HL8o1H6cmWxW",
      "execution_count": null,
      "outputs": [
        {
          "output_type": "stream",
          "name": "stdout",
          "text": [
            "Fri Oct 22 10:56:11 2021\n",
            "0 Fri Oct 22 10:56:11 2021\n",
            "1000 Fri Oct 22 10:56:51 2021\n"
          ]
        }
      ]
    },
    {
      "cell_type": "code",
      "metadata": {
        "id": "_LxVax97pNqD"
      },
      "source": [
        "WR_LS_Denoised_X_train = cp.save('WR_LS_Denoised_MuRIL_X_train.npy',X_train)\n",
        "WR_LS_Denoised_X_val = cp.save('WR_LS_Denoised_MuRIL_X_val.npy',X_val)"
      ],
      "id": "_LxVax97pNqD",
      "execution_count": null,
      "outputs": []
    },
    {
      "cell_type": "code",
      "metadata": {
        "id": "0B4HHzz5pNsu"
      },
      "source": [
        "X_train = np.load('WR_LS_Denoised_MuRIL_X_train.npy')\n",
        "X_val = np.load('WR_LS_Denoised_MuRIL_X_val.npy')"
      ],
      "id": "0B4HHzz5pNsu",
      "execution_count": null,
      "outputs": []
    },
    {
      "cell_type": "code",
      "metadata": {
        "id": "YaNEFCTPpNz6"
      },
      "source": [
        "Y_train = np.load('Y_train.npy')\n",
        "Y_val = np.load('Y_val.npy')"
      ],
      "id": "YaNEFCTPpNz6",
      "execution_count": null,
      "outputs": []
    },
    {
      "cell_type": "markdown",
      "metadata": {
        "id": "11tL5UIussyL"
      },
      "source": [
        "# SVM"
      ],
      "id": "11tL5UIussyL"
    },
    {
      "cell_type": "code",
      "metadata": {
        "id": "LtU9nPm-sr6p"
      },
      "source": [
        "from sklearn.svm import SVC\n",
        "from sklearn.metrics import confusion_matrix, classification_report"
      ],
      "id": "LtU9nPm-sr6p",
      "execution_count": null,
      "outputs": []
    },
    {
      "cell_type": "code",
      "metadata": {
        "colab": {
          "base_uri": "https://localhost:8080/"
        },
        "id": "NJJZLM_wsr-D",
        "outputId": "0a7f5bcb-6a42-42c5-810b-e1fa973af1b6"
      },
      "source": [
        "svc = SVC(decision_function_shape='ovo')\n",
        "svc.fit(X_train,Y_train)"
      ],
      "id": "NJJZLM_wsr-D",
      "execution_count": null,
      "outputs": [
        {
          "output_type": "execute_result",
          "data": {
            "text/plain": [
              "SVC(C=1.0, break_ties=False, cache_size=200, class_weight=None, coef0=0.0,\n",
              "    decision_function_shape='ovo', degree=3, gamma='scale', kernel='rbf',\n",
              "    max_iter=-1, probability=False, random_state=None, shrinking=True,\n",
              "    tol=0.001, verbose=False)"
            ]
          },
          "metadata": {},
          "execution_count": 98
        }
      ]
    },
    {
      "cell_type": "code",
      "metadata": {
        "id": "JDpdSiwZssB6"
      },
      "source": [
        "pred_svc = svc.predict(X_val)"
      ],
      "id": "JDpdSiwZssB6",
      "execution_count": null,
      "outputs": []
    },
    {
      "cell_type": "code",
      "metadata": {
        "colab": {
          "base_uri": "https://localhost:8080/"
        },
        "id": "zuhMflrCssHE",
        "outputId": "bcef4f30-42f5-427c-f3d8-d7887fb1db75"
      },
      "source": [
        "confusion_matrix(Y_val,pred_svc)"
      ],
      "id": "zuhMflrCssHE",
      "execution_count": null,
      "outputs": [
        {
          "output_type": "execute_result",
          "data": {
            "text/plain": [
              "array([[  0,   0, 102,   0,   0],\n",
              "       [  0,   0, 237,   0,   0],\n",
              "       [  0,   0, 704,   0,   2],\n",
              "       [  0,   0, 141,   0,   0],\n",
              "       [  0,   0, 580,   0,   0]])"
            ]
          },
          "metadata": {},
          "execution_count": 100
        }
      ]
    },
    {
      "cell_type": "code",
      "metadata": {
        "colab": {
          "base_uri": "https://localhost:8080/"
        },
        "id": "R3KY3xoks4s6",
        "outputId": "719da346-c3bd-440a-8931-2019cebdd6da"
      },
      "source": [
        "print(classification_report(Y_val,pred_svc))"
      ],
      "id": "R3KY3xoks4s6",
      "execution_count": null,
      "outputs": [
        {
          "output_type": "stream",
          "name": "stdout",
          "text": [
            "              precision    recall  f1-score   support\n",
            "\n",
            "           0       0.00      0.00      0.00       102\n",
            "           1       0.00      0.00      0.00       237\n",
            "           2       0.40      1.00      0.57       706\n",
            "           3       0.00      0.00      0.00       141\n",
            "           4       0.00      0.00      0.00       580\n",
            "\n",
            "    accuracy                           0.40      1766\n",
            "   macro avg       0.08      0.20      0.11      1766\n",
            "weighted avg       0.16      0.40      0.23      1766\n",
            "\n"
          ]
        },
        {
          "output_type": "stream",
          "name": "stderr",
          "text": [
            "/usr/local/lib/python3.7/dist-packages/sklearn/metrics/_classification.py:1272: UndefinedMetricWarning: Precision and F-score are ill-defined and being set to 0.0 in labels with no predicted samples. Use `zero_division` parameter to control this behavior.\n",
            "  _warn_prf(average, modifier, msg_start, len(result))\n"
          ]
        }
      ]
    },
    {
      "cell_type": "markdown",
      "metadata": {
        "id": "cAsHyl1BsETa"
      },
      "source": [
        "# Random Forest"
      ],
      "id": "cAsHyl1BsETa"
    },
    {
      "cell_type": "code",
      "metadata": {
        "id": "PiWsU_wFphGx"
      },
      "source": [
        "from sklearn.ensemble import RandomForestClassifier"
      ],
      "id": "PiWsU_wFphGx",
      "execution_count": null,
      "outputs": []
    },
    {
      "cell_type": "code",
      "metadata": {
        "colab": {
          "base_uri": "https://localhost:8080/"
        },
        "id": "ZUT_N5G5pbdx",
        "outputId": "1ce28828-f1cd-44c0-d11f-b2847806ab1d"
      },
      "source": [
        "RFC = RandomForestClassifier()\n",
        "RFC.fit(X_train,Y_train)"
      ],
      "id": "ZUT_N5G5pbdx",
      "execution_count": null,
      "outputs": [
        {
          "output_type": "execute_result",
          "data": {
            "text/plain": [
              "RandomForestClassifier(bootstrap=True, ccp_alpha=0.0, class_weight=None,\n",
              "                       criterion='gini', max_depth=None, max_features='auto',\n",
              "                       max_leaf_nodes=None, max_samples=None,\n",
              "                       min_impurity_decrease=0.0, min_impurity_split=None,\n",
              "                       min_samples_leaf=1, min_samples_split=2,\n",
              "                       min_weight_fraction_leaf=0.0, n_estimators=100,\n",
              "                       n_jobs=None, oob_score=False, random_state=None,\n",
              "                       verbose=0, warm_start=False)"
            ]
          },
          "metadata": {},
          "execution_count": 88
        }
      ]
    },
    {
      "cell_type": "code",
      "metadata": {
        "id": "Mka6bmW6pbXm"
      },
      "source": [
        "pred_RFC = RFC.predict(X_val)"
      ],
      "id": "Mka6bmW6pbXm",
      "execution_count": null,
      "outputs": []
    },
    {
      "cell_type": "code",
      "metadata": {
        "colab": {
          "base_uri": "https://localhost:8080/"
        },
        "id": "CsnTLmWdpbVB",
        "outputId": "18ba13ae-ec27-419b-da58-fb293aeb5a96"
      },
      "source": [
        "print(classification_report(Y_val,pred_RFC))"
      ],
      "id": "CsnTLmWdpbVB",
      "execution_count": null,
      "outputs": [
        {
          "output_type": "stream",
          "name": "stdout",
          "text": [
            "              precision    recall  f1-score   support\n",
            "\n",
            "           0       0.64      0.07      0.12       102\n",
            "           1       0.82      0.11      0.20       237\n",
            "           2       0.52      0.86      0.65       706\n",
            "           3       0.87      0.47      0.61       141\n",
            "           4       0.61      0.51      0.56       580\n",
            "\n",
            "    accuracy                           0.57      1766\n",
            "   macro avg       0.69      0.40      0.43      1766\n",
            "weighted avg       0.63      0.57      0.53      1766\n",
            "\n"
          ]
        }
      ]
    },
    {
      "cell_type": "markdown",
      "metadata": {
        "id": "SkACelDWr77a"
      },
      "source": [
        "# Decision Tree"
      ],
      "id": "SkACelDWr77a"
    },
    {
      "cell_type": "code",
      "metadata": {
        "id": "c7Y32c2Gq4Wy"
      },
      "source": [
        "from sklearn.tree import DecisionTreeClassifier"
      ],
      "id": "c7Y32c2Gq4Wy",
      "execution_count": null,
      "outputs": []
    },
    {
      "cell_type": "code",
      "metadata": {
        "id": "tsthtjBSq4Zs"
      },
      "source": [
        "Dtree = DecisionTreeClassifier(criterion='entropy', random_state=10)"
      ],
      "id": "tsthtjBSq4Zs",
      "execution_count": null,
      "outputs": []
    },
    {
      "cell_type": "code",
      "metadata": {
        "colab": {
          "base_uri": "https://localhost:8080/"
        },
        "id": "7dUih_i0q4cC",
        "outputId": "acb3d081-d076-4762-bac4-af37ed4e7e41"
      },
      "source": [
        "Dtree.fit(X_train,Y_train)"
      ],
      "id": "7dUih_i0q4cC",
      "execution_count": null,
      "outputs": [
        {
          "output_type": "execute_result",
          "data": {
            "text/plain": [
              "DecisionTreeClassifier(ccp_alpha=0.0, class_weight=None, criterion='entropy',\n",
              "                       max_depth=None, max_features=None, max_leaf_nodes=None,\n",
              "                       min_impurity_decrease=0.0, min_impurity_split=None,\n",
              "                       min_samples_leaf=1, min_samples_split=2,\n",
              "                       min_weight_fraction_leaf=0.0, presort='deprecated',\n",
              "                       random_state=10, splitter='best')"
            ]
          },
          "metadata": {},
          "execution_count": 93
        }
      ]
    },
    {
      "cell_type": "code",
      "metadata": {
        "id": "nGu07zknrCp6"
      },
      "source": [
        "pred_Dtree = Dtree.predict(X_val)"
      ],
      "id": "nGu07zknrCp6",
      "execution_count": null,
      "outputs": []
    },
    {
      "cell_type": "code",
      "metadata": {
        "colab": {
          "base_uri": "https://localhost:8080/"
        },
        "id": "GJGDRf1brEJe",
        "outputId": "0985c7c3-c20c-42d3-b149-1f4cf17ed246"
      },
      "source": [
        "confusion_matrix(Y_val,pred_Dtree)"
      ],
      "id": "GJGDRf1brEJe",
      "execution_count": null,
      "outputs": [
        {
          "output_type": "execute_result",
          "data": {
            "text/plain": [
              "array([[ 17,  14,  44,   3,  24],\n",
              "       [ 16,  61,  87,   8,  65],\n",
              "       [ 39,  96, 352,  28, 191],\n",
              "       [  1,   9,  34,  69,  28],\n",
              "       [ 33,  82, 209,  18, 238]])"
            ]
          },
          "metadata": {},
          "execution_count": 95
        }
      ]
    },
    {
      "cell_type": "code",
      "metadata": {
        "colab": {
          "base_uri": "https://localhost:8080/"
        },
        "id": "NiYUoCKSrJuh",
        "outputId": "0afb415c-e3ee-41b9-f796-510aaf3f2c93"
      },
      "source": [
        "print(classification_report(Y_val,pred_Dtree))"
      ],
      "id": "NiYUoCKSrJuh",
      "execution_count": null,
      "outputs": [
        {
          "output_type": "stream",
          "name": "stdout",
          "text": [
            "              precision    recall  f1-score   support\n",
            "\n",
            "           0       0.16      0.17      0.16       102\n",
            "           1       0.23      0.26      0.24       237\n",
            "           2       0.48      0.50      0.49       706\n",
            "           3       0.55      0.49      0.52       141\n",
            "           4       0.44      0.41      0.42       580\n",
            "\n",
            "    accuracy                           0.42      1766\n",
            "   macro avg       0.37      0.36      0.37      1766\n",
            "weighted avg       0.42      0.42      0.42      1766\n",
            "\n"
          ]
        }
      ]
    },
    {
      "cell_type": "code",
      "metadata": {
        "id": "QEXMq-wprEEq"
      },
      "source": [
        ""
      ],
      "id": "QEXMq-wprEEq",
      "execution_count": null,
      "outputs": []
    }
  ]
}