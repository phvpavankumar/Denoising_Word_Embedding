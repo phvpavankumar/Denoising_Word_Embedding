{
 "cells": [
  {
   "cell_type": "code",
   "execution_count": 1,
   "id": "4c75a642",
   "metadata": {
    "id": "4c75a642"
   },
   "outputs": [],
   "source": [
    "import math\n",
    "import pandas as pd\n",
    "import re\n",
    "import numpy as np\n",
    "import itertools\n",
    "import collections\n",
    "from collections import defaultdict, Counter\n",
    "import string\n",
    "from sklearn.preprocessing import LabelEncoder\n",
    "\n",
    "\n",
    "import tensorflow as tf\n",
    "import tensorflow_datasets as tfds\n",
    "import tensorflow_hub as hub\n",
    "import tensorflow_text as text\n",
    "from bert import bert_tokenization\n",
    "import numpy as np\n",
    "from scipy.spatial import distance\n",
    "\n",
    "import seaborn as sns\n",
    "from sklearn.manifold import TSNE\n",
    "import matplotlib as mpl\n",
    "import matplotlib.pyplot as plt \n",
    "from ipywidgets import interact, interactive, fixed, interact_manual\n",
    "import ipywidgets as widgets"
   ]
  },
  {
   "cell_type": "code",
   "execution_count": 11,
   "id": "48e6de19",
   "metadata": {},
   "outputs": [
    {
     "name": "stdout",
     "output_type": "stream",
     "text": [
      "(1000,)\n",
      "(1000,)\n"
     ]
    }
   ],
   "source": [
    "train_text =np.load('Mal_train.npy')\n",
    "print(train_text.shape)\n",
    "train_text = train_text.tolist()\n",
    "#print(train_text)\n",
    "train_label =np.load('Mal_train_label.npy')\n",
    "print(train_label.shape)\n",
    "train_label = train_label.tolist()\n",
    "#print(train_label)"
   ]
  },
  {
   "cell_type": "code",
   "execution_count": 9,
   "id": "92af0fa4",
   "metadata": {},
   "outputs": [
    {
     "name": "stdout",
     "output_type": "stream",
     "text": [
      "(100,)\n",
      "(100,)\n"
     ]
    }
   ],
   "source": [
    "valid_text =np.load('Mal_val.npy')\n",
    "print(valid_text.shape)\n",
    "valid_text = valid_text.tolist()\n",
    "# print(valid_text)\n",
    "valid_label =np.load('Mal_val_label.npy')\n",
    "print(valid_label.shape)\n",
    "valid_label = valid_label.tolist()\n",
    "# print(valid_label)"
   ]
  },
  {
   "cell_type": "code",
   "execution_count": 12,
   "id": "341b295a",
   "metadata": {
    "id": "341b295a"
   },
   "outputs": [],
   "source": [
    "# train_text = train_df['text'].tolist()\n",
    "# valid_text = valid_df['text'].tolist()\n",
    "# test_text = test_df['text'].tolist()\n",
    "\n",
    "# train_label = train_df['category'].tolist()\n",
    "# valid_label = valid_df['category'].tolist()"
   ]
  },
  {
   "cell_type": "code",
   "execution_count": 13,
   "id": "a032f3e9",
   "metadata": {
    "id": "a032f3e9"
   },
   "outputs": [],
   "source": [
    "#function definition\n",
    "def get_model(model_url, max_seq_length):\n",
    "  inputs = dict(\n",
    "    input_word_ids=tf.keras.layers.Input(shape=(max_seq_length,), dtype=tf.int32),\n",
    "    input_mask=tf.keras.layers.Input(shape=(max_seq_length,), dtype=tf.int32),\n",
    "    input_type_ids=tf.keras.layers.Input(shape=(max_seq_length,), dtype=tf.int32),\n",
    "    ) \n",
    "  muril_layer = hub.KerasLayer(model_url, trainable=True)\n",
    "  outputs = muril_layer(inputs)\n",
    "  assert 'sequence_output' in outputs\n",
    "  assert 'pooled_output' in outputs\n",
    "  assert 'encoder_outputs' in outputs\n",
    "  assert 'default' in outputs\n",
    "  return tf.keras.Model(inputs=inputs,outputs=outputs[\"pooled_output\"]), muril_layer\n",
    "#function call\n",
    "max_seq_length = 128\n",
    "muril_model, muril_layer = get_model(\n",
    "    model_url=\"https://tfhub.dev/google/MuRIL/1\", max_seq_length=max_seq_length)"
   ]
  },
  {
   "cell_type": "code",
   "execution_count": 14,
   "id": "50aca071",
   "metadata": {
    "id": "50aca071"
   },
   "outputs": [],
   "source": [
    "#converts input into BERT-acceptable format (preprocessing)\n",
    "vocab_file = muril_layer.resolved_object.vocab_file.asset_path.numpy()\n",
    "do_lower_case = muril_layer.resolved_object.do_lower_case.numpy()\n",
    "tokenizer = bert_tokenization.FullTokenizer(vocab_file, do_lower_case)"
   ]
  },
  {
   "cell_type": "code",
   "execution_count": 15,
   "id": "17e0d709",
   "metadata": {
    "id": "17e0d709"
   },
   "outputs": [],
   "source": [
    "#That 3 types of embeddings in BERT\n",
    "def create_input(input_strings, tokenizer, max_seq_length):\n",
    "  input_ids_all, input_mask_all, input_type_ids_all = [], [], []\n",
    "  for input_string in input_strings:\n",
    "    input_tokens = [\"[CLS]\"] + tokenizer.tokenize(input_string) + [\"[SEP]\"]\n",
    "    input_ids = tokenizer.convert_tokens_to_ids(input_tokens)\n",
    "    sequence_length = min(len(input_ids), max_seq_length)\n",
    "    if len(input_ids) >= max_seq_length:\n",
    "      input_ids = input_ids[:max_seq_length]\n",
    "    else:\n",
    "      input_ids = input_ids + [0] * (max_seq_length - len(input_ids))\n",
    "    input_mask = [1] * sequence_length + [0] * (max_seq_length - sequence_length)\n",
    "    input_ids_all.append(input_ids)\n",
    "    input_mask_all.append(input_mask)\n",
    "    input_type_ids_all.append([0] * max_seq_length)\n",
    "  return np.array(input_ids_all), np.array(input_mask_all), np.array(input_type_ids_all)"
   ]
  },
  {
   "cell_type": "code",
   "execution_count": 16,
   "id": "fb37accf",
   "metadata": {
    "id": "fb37accf"
   },
   "outputs": [],
   "source": [
    "def encode(input_text):\n",
    "  input_ids, input_mask, input_type_ids = create_input(input_text,tokenizer,max_seq_length)\n",
    "  inputs = dict(\n",
    "      input_word_ids=input_ids,\n",
    "      input_mask=input_mask,\n",
    "      input_type_ids=input_type_ids,\n",
    "  )\n",
    "  return muril_model(inputs)"
   ]
  },
  {
   "cell_type": "code",
   "execution_count": 18,
   "id": "i-Ede7OXYySW",
   "metadata": {
    "id": "i-Ede7OXYySW"
   },
   "outputs": [],
   "source": [
    "import math\n",
    "import time"
   ]
  },
  {
   "cell_type": "code",
   "execution_count": 19,
   "id": "6VVaV7V1YpP_",
   "metadata": {
    "id": "6VVaV7V1YpP_"
   },
   "outputs": [],
   "source": [
    "Batch_size = 64\n",
    "start = 0;Endu = Batch_size\n",
    "fullsize = math.floor(len(train_text)/Batch_size)"
   ]
  },
  {
   "cell_type": "code",
   "execution_count": 20,
   "id": "QJHLlhpfbzyz",
   "metadata": {
    "colab": {
     "base_uri": "https://localhost:8080/"
    },
    "id": "QJHLlhpfbzyz",
    "outputId": "480521df-0d9a-45f2-bcd6-d19315a12144"
   },
   "outputs": [
    {
     "data": {
      "text/plain": [
       "['dislike  adich madkununindal9 mohanlal fanz',\n",
       " 'puli murukan  ithokke enth',\n",
       " 'ഇതിലും ഫേധം തെലുഗ് ഡബ്ബിങ് സിനിമകളിലെ പാട്ടുകൾ  ആണ് എന്ന് തോന്നി പോയ നിമിഷം ',\n",
       " '120 muthalulla bgm kettappol sacred games orma vannavarundo',\n",
       " 'aval aa kadele freezer il alle  ithipo kadha motham ondallo trailer il',\n",
       " 'sambavam nml kandu madutha story aanu telugu and tamil same cliche but namuk idh pernal avum kidu trailer',\n",
       " 'newton enna hindi cinema orma varunnu',\n",
       " 'powlichu eth vere level movie ayirikum',\n",
       " 'സ്കൂള്പഇലെർക് പറ്റിയ ട്രൈലെർ പോയിനെടാ എടുത്തോണ്ട് നിത്യ ഗർഭിണി ഫാൻസ്\\u200c',\n",
       " 'trailer crisp akaamayirunnutoo much aayi poyi']"
      ]
     },
     "execution_count": 20,
     "metadata": {},
     "output_type": "execute_result"
    }
   ],
   "source": [
    "train_text[0:10]"
   ]
  },
  {
   "cell_type": "code",
   "execution_count": 21,
   "id": "PY0Vn3zWYwSt",
   "metadata": {
    "colab": {
     "base_uri": "https://localhost:8080/"
    },
    "id": "PY0Vn3zWYwSt",
    "outputId": "823e9bb0-a7b5-43b7-8979-f92aa549a00c"
   },
   "outputs": [
    {
     "name": "stdout",
     "output_type": "stream",
     "text": [
      "0\n",
      "1\n",
      "2\n",
      "3\n",
      "4\n",
      "5\n",
      "6\n",
      "7\n",
      "8\n",
      "9\n",
      "10\n",
      "11\n",
      "12\n",
      "13\n",
      "14\n"
     ]
    }
   ],
   "source": [
    "for i in range(fullsize):\n",
    "    if i+1 == fullsize:\n",
    "        Endu = len(train_text)\n",
    "        out = encode(train_text[int(start):int(Endu)])\n",
    "    else:\n",
    "        out = encode(train_text[int(start):int(Endu)])\n",
    "    if i == 0:\n",
    "        total = out\n",
    "    else:\n",
    "        #torch.cat((total,out.last_hidden_state),0)\n",
    "        total = tf.concat([total, out],0)\n",
    "    start = Batch_size * (i+1)\n",
    "    Endu = Batch_size * (i+2)\n",
    "    print(i)"
   ]
  },
  {
   "cell_type": "code",
   "execution_count": 22,
   "id": "6_ceWz8QYwJn",
   "metadata": {
    "id": "6_ceWz8QYwJn"
   },
   "outputs": [],
   "source": [
    "X_train = np.array(total)\n",
    "np.save('Muril_X_train.npy', X_train)"
   ]
  },
  {
   "cell_type": "code",
   "execution_count": 23,
   "id": "mt7QSRK-dTcT",
   "metadata": {
    "id": "mt7QSRK-dTcT"
   },
   "outputs": [],
   "source": [
    "X_train = np.load('Muril_X_train.npy')"
   ]
  },
  {
   "cell_type": "code",
   "execution_count": 24,
   "id": "ecpZGNq0dTX4",
   "metadata": {
    "colab": {
     "base_uri": "https://localhost:8080/"
    },
    "id": "ecpZGNq0dTX4",
    "outputId": "e57a95da-cd65-4ae2-d610-6e2da4c74b8a"
   },
   "outputs": [
    {
     "data": {
      "text/plain": [
       "(1000, 768)"
      ]
     },
     "execution_count": 24,
     "metadata": {},
     "output_type": "execute_result"
    }
   ],
   "source": [
    "X_train.shape"
   ]
  },
  {
   "cell_type": "code",
   "execution_count": 25,
   "id": "4grlTq0HdTS4",
   "metadata": {
    "id": "4grlTq0HdTS4"
   },
   "outputs": [],
   "source": [
    "Y_train = np.array(train_label)"
   ]
  },
  {
   "cell_type": "code",
   "execution_count": 27,
   "id": "756d16d0",
   "metadata": {},
   "outputs": [
    {
     "data": {
      "text/plain": [
       "(1000,)"
      ]
     },
     "execution_count": 27,
     "metadata": {},
     "output_type": "execute_result"
    }
   ],
   "source": [
    "Y_train.shape"
   ]
  },
  {
   "cell_type": "code",
   "execution_count": 28,
   "id": "GAnsP_o6gtBL",
   "metadata": {
    "id": "GAnsP_o6gtBL"
   },
   "outputs": [],
   "source": [
    "Batch_size = 64\n",
    "start = 0;Endu = Batch_size\n",
    "fullsize = math.floor(len(valid_text)/Batch_size)"
   ]
  },
  {
   "cell_type": "code",
   "execution_count": 29,
   "id": "UPOuo0osd7d4",
   "metadata": {
    "colab": {
     "base_uri": "https://localhost:8080/"
    },
    "id": "UPOuo0osd7d4",
    "outputId": "6c2b2046-aa34-43d2-b960-a109bb5df95b"
   },
   "outputs": [
    {
     "name": "stdout",
     "output_type": "stream",
     "text": [
      "0\n"
     ]
    }
   ],
   "source": [
    "for i in range(fullsize):\n",
    "    if i+1 == fullsize:\n",
    "        Endu = len(valid_text)\n",
    "        out = encode(valid_text[int(start):int(Endu)])\n",
    "    else:\n",
    "        out = encode(valid_text[int(start):int(Endu)])\n",
    "    if i == 0:\n",
    "        total = out\n",
    "    else:\n",
    "        #torch.cat((total,out.last_hidden_state),0)\n",
    "        total = tf.concat([total, out],0)\n",
    "    start = Batch_size * (i+1)\n",
    "    Endu = Batch_size * (i+2)\n",
    "    print(i)"
   ]
  },
  {
   "cell_type": "code",
   "execution_count": 30,
   "id": "x0sBvomugBwM",
   "metadata": {
    "id": "x0sBvomugBwM"
   },
   "outputs": [],
   "source": [
    "X_val = np.array(total)\n",
    "np.save('Muril_X_val.npy', X_val)"
   ]
  },
  {
   "cell_type": "code",
   "execution_count": 31,
   "id": "JoGaoNz7gB2b",
   "metadata": {
    "id": "JoGaoNz7gB2b"
   },
   "outputs": [],
   "source": [
    "X_val = np.load('Muril_X_val.npy')"
   ]
  },
  {
   "cell_type": "code",
   "execution_count": 32,
   "id": "hiE5o7iegiNG",
   "metadata": {
    "id": "hiE5o7iegiNG"
   },
   "outputs": [],
   "source": [
    "Y_val = np.array(valid_label)"
   ]
  },
  {
   "cell_type": "markdown",
   "id": "d345d9a3",
   "metadata": {
    "id": "d345d9a3"
   },
   "source": [
    "# SVM"
   ]
  },
  {
   "cell_type": "code",
   "execution_count": 33,
   "id": "7e0d4127",
   "metadata": {
    "id": "7e0d4127"
   },
   "outputs": [],
   "source": [
    "from sklearn.svm import SVC\n",
    "from sklearn.metrics import confusion_matrix, classification_report"
   ]
  },
  {
   "cell_type": "code",
   "execution_count": 34,
   "id": "72d87abf",
   "metadata": {
    "colab": {
     "base_uri": "https://localhost:8080/"
    },
    "id": "72d87abf",
    "outputId": "75a079e3-a9a5-42ce-89da-cc076c3d46fb"
   },
   "outputs": [
    {
     "data": {
      "text/plain": [
       "SVC(decision_function_shape='ovo')"
      ]
     },
     "execution_count": 34,
     "metadata": {},
     "output_type": "execute_result"
    }
   ],
   "source": [
    "svc = SVC(decision_function_shape='ovo')\n",
    "svc.fit(X_train,Y_train)"
   ]
  },
  {
   "cell_type": "code",
   "execution_count": 35,
   "id": "d5c37e8b",
   "metadata": {
    "id": "d5c37e8b"
   },
   "outputs": [],
   "source": [
    "pred_svc = svc.predict(X_val)"
   ]
  },
  {
   "cell_type": "code",
   "execution_count": 36,
   "id": "3aac1faa",
   "metadata": {
    "colab": {
     "base_uri": "https://localhost:8080/"
    },
    "id": "3aac1faa",
    "outputId": "991a71dd-f341-4da4-bcb1-4181d2252a01"
   },
   "outputs": [
    {
     "data": {
      "text/plain": [
       "array([[10,  0,  5,  5,  0],\n",
       "       [11,  0,  8,  1,  0],\n",
       "       [ 7,  0,  8,  5,  0],\n",
       "       [ 1,  0,  0, 19,  0],\n",
       "       [ 7,  0,  6,  7,  0]], dtype=int64)"
      ]
     },
     "execution_count": 36,
     "metadata": {},
     "output_type": "execute_result"
    }
   ],
   "source": [
    "confusion_matrix(Y_val,pred_svc)"
   ]
  },
  {
   "cell_type": "code",
   "execution_count": 37,
   "id": "b3ab3232",
   "metadata": {
    "colab": {
     "base_uri": "https://localhost:8080/"
    },
    "id": "b3ab3232",
    "outputId": "90fe8304-70cc-43a0-c8a1-023f89e0fe7d"
   },
   "outputs": [
    {
     "name": "stdout",
     "output_type": "stream",
     "text": [
      "              precision    recall  f1-score   support\n",
      "\n",
      "           0       0.28      0.50      0.36        20\n",
      "           1       0.00      0.00      0.00        20\n",
      "           2       0.30      0.40      0.34        20\n",
      "           3       0.51      0.95      0.67        20\n",
      "           4       0.00      0.00      0.00        20\n",
      "\n",
      "    accuracy                           0.37       100\n",
      "   macro avg       0.22      0.37      0.27       100\n",
      "weighted avg       0.22      0.37      0.27       100\n",
      "\n"
     ]
    },
    {
     "name": "stderr",
     "output_type": "stream",
     "text": [
      "C:\\Users\\phvpa\\anaconda3\\envs\\MuRIL\\lib\\site-packages\\sklearn\\metrics\\_classification.py:1308: UndefinedMetricWarning: Precision and F-score are ill-defined and being set to 0.0 in labels with no predicted samples. Use `zero_division` parameter to control this behavior.\n",
      "  _warn_prf(average, modifier, msg_start, len(result))\n",
      "C:\\Users\\phvpa\\anaconda3\\envs\\MuRIL\\lib\\site-packages\\sklearn\\metrics\\_classification.py:1308: UndefinedMetricWarning: Precision and F-score are ill-defined and being set to 0.0 in labels with no predicted samples. Use `zero_division` parameter to control this behavior.\n",
      "  _warn_prf(average, modifier, msg_start, len(result))\n",
      "C:\\Users\\phvpa\\anaconda3\\envs\\MuRIL\\lib\\site-packages\\sklearn\\metrics\\_classification.py:1308: UndefinedMetricWarning: Precision and F-score are ill-defined and being set to 0.0 in labels with no predicted samples. Use `zero_division` parameter to control this behavior.\n",
      "  _warn_prf(average, modifier, msg_start, len(result))\n"
     ]
    }
   ],
   "source": [
    "print(classification_report(Y_val,pred_svc))"
   ]
  },
  {
   "cell_type": "markdown",
   "id": "1d52c3b4",
   "metadata": {
    "id": "1d52c3b4"
   },
   "source": [
    "## DecisionTree"
   ]
  },
  {
   "cell_type": "code",
   "execution_count": 38,
   "id": "22eaebbc",
   "metadata": {
    "id": "22eaebbc"
   },
   "outputs": [],
   "source": [
    "from sklearn.tree import DecisionTreeClassifier"
   ]
  },
  {
   "cell_type": "code",
   "execution_count": 39,
   "id": "6328e7df",
   "metadata": {
    "id": "6328e7df"
   },
   "outputs": [],
   "source": [
    "Dtree = DecisionTreeClassifier(criterion='entropy', random_state=10)"
   ]
  },
  {
   "cell_type": "code",
   "execution_count": 40,
   "id": "08dd8070",
   "metadata": {
    "colab": {
     "base_uri": "https://localhost:8080/"
    },
    "id": "08dd8070",
    "outputId": "572f420e-98a7-4e50-a8ec-54bebe27b025"
   },
   "outputs": [
    {
     "data": {
      "text/plain": [
       "DecisionTreeClassifier(criterion='entropy', random_state=10)"
      ]
     },
     "execution_count": 40,
     "metadata": {},
     "output_type": "execute_result"
    }
   ],
   "source": [
    "Dtree.fit(X_train,Y_train)"
   ]
  },
  {
   "cell_type": "code",
   "execution_count": 41,
   "id": "afb71803",
   "metadata": {
    "id": "afb71803"
   },
   "outputs": [],
   "source": [
    "pred_Dtree = Dtree.predict(X_val)"
   ]
  },
  {
   "cell_type": "code",
   "execution_count": 42,
   "id": "e67c6e6b",
   "metadata": {
    "colab": {
     "base_uri": "https://localhost:8080/"
    },
    "id": "e67c6e6b",
    "outputId": "eec1f3b1-7ba7-4ba9-9339-28ad6423a6eb"
   },
   "outputs": [
    {
     "data": {
      "text/plain": [
       "array([[ 5,  4,  6,  0,  5],\n",
       "       [ 6,  5,  5,  0,  4],\n",
       "       [ 2,  4,  4,  2,  8],\n",
       "       [ 3,  1,  3, 12,  1],\n",
       "       [ 4,  5,  5,  2,  4]], dtype=int64)"
      ]
     },
     "execution_count": 42,
     "metadata": {},
     "output_type": "execute_result"
    }
   ],
   "source": [
    "confusion_matrix(Y_val,pred_Dtree)"
   ]
  },
  {
   "cell_type": "code",
   "execution_count": 43,
   "id": "9c525bf7",
   "metadata": {
    "colab": {
     "base_uri": "https://localhost:8080/"
    },
    "id": "9c525bf7",
    "outputId": "b15dc9d7-41da-4cd0-c100-789b2f8266d9"
   },
   "outputs": [
    {
     "name": "stdout",
     "output_type": "stream",
     "text": [
      "              precision    recall  f1-score   support\n",
      "\n",
      "           0       0.25      0.25      0.25        20\n",
      "           1       0.26      0.25      0.26        20\n",
      "           2       0.17      0.20      0.19        20\n",
      "           3       0.75      0.60      0.67        20\n",
      "           4       0.18      0.20      0.19        20\n",
      "\n",
      "    accuracy                           0.30       100\n",
      "   macro avg       0.32      0.30      0.31       100\n",
      "weighted avg       0.32      0.30      0.31       100\n",
      "\n"
     ]
    }
   ],
   "source": [
    "print(classification_report(Y_val,pred_Dtree))"
   ]
  },
  {
   "cell_type": "markdown",
   "id": "3a4f41b3",
   "metadata": {
    "id": "3a4f41b3"
   },
   "source": [
    "## Random Forest"
   ]
  },
  {
   "cell_type": "code",
   "execution_count": 44,
   "id": "a2260390",
   "metadata": {
    "id": "a2260390"
   },
   "outputs": [],
   "source": [
    "from sklearn.ensemble import RandomForestClassifier"
   ]
  },
  {
   "cell_type": "code",
   "execution_count": 45,
   "id": "d878b35a",
   "metadata": {
    "colab": {
     "base_uri": "https://localhost:8080/"
    },
    "id": "d878b35a",
    "outputId": "5f710e96-5956-4dba-8528-43cefa9b0f85"
   },
   "outputs": [
    {
     "data": {
      "text/plain": [
       "RandomForestClassifier()"
      ]
     },
     "execution_count": 45,
     "metadata": {},
     "output_type": "execute_result"
    }
   ],
   "source": [
    "RFC = RandomForestClassifier()\n",
    "RFC.fit(X_train,Y_train)"
   ]
  },
  {
   "cell_type": "code",
   "execution_count": 46,
   "id": "724ea596",
   "metadata": {
    "id": "724ea596"
   },
   "outputs": [],
   "source": [
    "pred_RFC = RFC.predict(X_val)"
   ]
  },
  {
   "cell_type": "code",
   "execution_count": 47,
   "id": "dc4743ed",
   "metadata": {
    "colab": {
     "base_uri": "https://localhost:8080/"
    },
    "id": "dc4743ed",
    "outputId": "101513a7-d020-49d9-d41c-58f4c524d532"
   },
   "outputs": [
    {
     "data": {
      "text/plain": [
       "array([[ 7,  4,  4,  4,  1],\n",
       "       [ 4, 11,  4,  0,  1],\n",
       "       [ 5,  4,  5,  2,  4],\n",
       "       [ 2,  1,  0, 15,  2],\n",
       "       [ 6,  5,  4,  2,  3]], dtype=int64)"
      ]
     },
     "execution_count": 47,
     "metadata": {},
     "output_type": "execute_result"
    }
   ],
   "source": [
    "confusion_matrix(Y_val,pred_RFC)"
   ]
  },
  {
   "cell_type": "code",
   "execution_count": 48,
   "id": "6362c92e",
   "metadata": {
    "colab": {
     "base_uri": "https://localhost:8080/"
    },
    "id": "6362c92e",
    "outputId": "8f6b6387-446e-41ec-f344-173eba1fe0db"
   },
   "outputs": [
    {
     "name": "stdout",
     "output_type": "stream",
     "text": [
      "              precision    recall  f1-score   support\n",
      "\n",
      "           0       0.29      0.35      0.32        20\n",
      "           1       0.44      0.55      0.49        20\n",
      "           2       0.29      0.25      0.27        20\n",
      "           3       0.65      0.75      0.70        20\n",
      "           4       0.27      0.15      0.19        20\n",
      "\n",
      "    accuracy                           0.41       100\n",
      "   macro avg       0.39      0.41      0.39       100\n",
      "weighted avg       0.39      0.41      0.39       100\n",
      "\n"
     ]
    }
   ],
   "source": [
    "print(classification_report(Y_val,pred_RFC))"
   ]
  },
  {
   "cell_type": "markdown",
   "id": "345d84e9",
   "metadata": {
    "id": "8c287141"
   },
   "source": [
    "# Denoisng"
   ]
  },
  {
   "cell_type": "code",
   "execution_count": 1,
   "id": "ZlwNDXRykmNo",
   "metadata": {
    "id": "ZlwNDXRykmNo"
   },
   "outputs": [],
   "source": [
    "import cupy as cp"
   ]
  },
  {
   "cell_type": "code",
   "execution_count": 2,
   "id": "wXDPZMDdkmK_",
   "metadata": {
    "id": "wXDPZMDdkmK_"
   },
   "outputs": [],
   "source": [
    "X_train = cp.load('Muril_X_train.npy')\n",
    "X_val = cp.load('Muril_X_val.npy')\n",
    "Y_train = cp.load('Mal_train_label.npy')\n",
    "Y_val = cp.load('Mal_val_label.npy')"
   ]
  },
  {
   "cell_type": "code",
   "execution_count": 3,
   "id": "eeac09ef",
   "metadata": {},
   "outputs": [],
   "source": [
    "from WR_LS_Denoising import WR_LS_Denoise"
   ]
  },
  {
   "cell_type": "code",
   "execution_count": 4,
   "id": "3fefca1a",
   "metadata": {},
   "outputs": [],
   "source": [
    "import time"
   ]
  },
  {
   "cell_type": "code",
   "execution_count": 5,
   "id": "qqu8S_O3k4t2",
   "metadata": {
    "colab": {
     "base_uri": "https://localhost:8080/"
    },
    "id": "qqu8S_O3k4t2",
    "outputId": "44a45136-67c5-4c89-b174-b528f88684fa"
   },
   "outputs": [
    {
     "name": "stdout",
     "output_type": "stream",
     "text": [
      "Sat Oct 23 09:44:31 2021\n",
      "0 Sat Oct 23 09:44:33 2021\n"
     ]
    }
   ],
   "source": [
    "start = time.ctime(time.time())\n",
    "print(start)\n",
    "for i in range(len(X_train)):\n",
    "    Denoised =  WR_LS_Denoise(X_train[i])\n",
    "    X_train[i] = X_train[i]\n",
    "    if(i%1000 == 0):\n",
    "        print(i, time.ctime(time.time()))"
   ]
  },
  {
   "cell_type": "code",
   "execution_count": 6,
   "id": "HL8o1H6cmWxW",
   "metadata": {
    "colab": {
     "base_uri": "https://localhost:8080/"
    },
    "id": "HL8o1H6cmWxW",
    "outputId": "fab390b9-a7af-48e3-ba2b-a44983182f50"
   },
   "outputs": [
    {
     "name": "stdout",
     "output_type": "stream",
     "text": [
      "Sat Oct 23 09:45:20 2021\n",
      "0 Sat Oct 23 09:45:20 2021\n"
     ]
    }
   ],
   "source": [
    "start = time.ctime(time.time())\n",
    "print(start)\n",
    "for i in range(len(X_val)):\n",
    "    Denoised =  WR_LS_Denoise(X_val[i])\n",
    "    X_val[i] = X_val[i]\n",
    "    if(i%1000 == 0):\n",
    "        print(i, time.ctime(time.time()))"
   ]
  },
  {
   "cell_type": "code",
   "execution_count": 7,
   "id": "_LxVax97pNqD",
   "metadata": {
    "id": "_LxVax97pNqD"
   },
   "outputs": [],
   "source": [
    "WR_LS_Denoised_X_train = cp.save('WR_LS_Denoised_MuRIL_X_train.npy',X_train)\n",
    "WR_LS_Denoised_X_val = cp.save('WR_LS_Denoised_MuRIL_X_val.npy',X_val)"
   ]
  },
  {
   "cell_type": "code",
   "execution_count": 9,
   "id": "fb08d50a",
   "metadata": {},
   "outputs": [],
   "source": [
    "import numpy as np"
   ]
  },
  {
   "cell_type": "code",
   "execution_count": 10,
   "id": "0B4HHzz5pNsu",
   "metadata": {
    "id": "0B4HHzz5pNsu"
   },
   "outputs": [],
   "source": [
    "X_train = np.load('WR_LS_Denoised_MuRIL_X_train.npy')\n",
    "X_val = np.load('WR_LS_Denoised_MuRIL_X_val.npy')"
   ]
  },
  {
   "cell_type": "code",
   "execution_count": 11,
   "id": "YaNEFCTPpNz6",
   "metadata": {
    "id": "YaNEFCTPpNz6"
   },
   "outputs": [],
   "source": [
    "Y_train = np.load('Mal_train_label.npy')\n",
    "Y_val = np.load('Mal_val_label.npy')"
   ]
  },
  {
   "cell_type": "markdown",
   "id": "11tL5UIussyL",
   "metadata": {
    "id": "11tL5UIussyL"
   },
   "source": [
    "# SVM"
   ]
  },
  {
   "cell_type": "code",
   "execution_count": 12,
   "id": "LtU9nPm-sr6p",
   "metadata": {
    "id": "LtU9nPm-sr6p"
   },
   "outputs": [],
   "source": [
    "from sklearn.svm import SVC\n",
    "from sklearn.metrics import confusion_matrix, classification_report"
   ]
  },
  {
   "cell_type": "code",
   "execution_count": 13,
   "id": "NJJZLM_wsr-D",
   "metadata": {
    "colab": {
     "base_uri": "https://localhost:8080/"
    },
    "id": "NJJZLM_wsr-D",
    "outputId": "0a7f5bcb-6a42-42c5-810b-e1fa973af1b6"
   },
   "outputs": [
    {
     "data": {
      "text/plain": [
       "SVC(decision_function_shape='ovo')"
      ]
     },
     "execution_count": 13,
     "metadata": {},
     "output_type": "execute_result"
    }
   ],
   "source": [
    "svc = SVC(decision_function_shape='ovo')\n",
    "svc.fit(X_train,Y_train)"
   ]
  },
  {
   "cell_type": "code",
   "execution_count": 14,
   "id": "JDpdSiwZssB6",
   "metadata": {
    "id": "JDpdSiwZssB6"
   },
   "outputs": [],
   "source": [
    "pred_svc = svc.predict(X_val)"
   ]
  },
  {
   "cell_type": "code",
   "execution_count": 15,
   "id": "zuhMflrCssHE",
   "metadata": {
    "colab": {
     "base_uri": "https://localhost:8080/"
    },
    "id": "zuhMflrCssHE",
    "outputId": "bcef4f30-42f5-427c-f3d8-d7887fb1db75"
   },
   "outputs": [
    {
     "data": {
      "text/plain": [
       "array([[10,  0,  5,  5,  0],\n",
       "       [11,  0,  8,  1,  0],\n",
       "       [ 7,  0,  8,  5,  0],\n",
       "       [ 1,  0,  0, 19,  0],\n",
       "       [ 7,  0,  6,  7,  0]], dtype=int64)"
      ]
     },
     "execution_count": 15,
     "metadata": {},
     "output_type": "execute_result"
    }
   ],
   "source": [
    "confusion_matrix(Y_val,pred_svc)"
   ]
  },
  {
   "cell_type": "code",
   "execution_count": 16,
   "id": "R3KY3xoks4s6",
   "metadata": {
    "colab": {
     "base_uri": "https://localhost:8080/"
    },
    "id": "R3KY3xoks4s6",
    "outputId": "719da346-c3bd-440a-8931-2019cebdd6da"
   },
   "outputs": [
    {
     "name": "stdout",
     "output_type": "stream",
     "text": [
      "              precision    recall  f1-score   support\n",
      "\n",
      "           0       0.28      0.50      0.36        20\n",
      "           1       0.00      0.00      0.00        20\n",
      "           2       0.30      0.40      0.34        20\n",
      "           3       0.51      0.95      0.67        20\n",
      "           4       0.00      0.00      0.00        20\n",
      "\n",
      "    accuracy                           0.37       100\n",
      "   macro avg       0.22      0.37      0.27       100\n",
      "weighted avg       0.22      0.37      0.27       100\n",
      "\n"
     ]
    },
    {
     "name": "stderr",
     "output_type": "stream",
     "text": [
      "C:\\Users\\phvpa\\anaconda3\\envs\\MuRIL\\lib\\site-packages\\sklearn\\metrics\\_classification.py:1308: UndefinedMetricWarning: Precision and F-score are ill-defined and being set to 0.0 in labels with no predicted samples. Use `zero_division` parameter to control this behavior.\n",
      "  _warn_prf(average, modifier, msg_start, len(result))\n",
      "C:\\Users\\phvpa\\anaconda3\\envs\\MuRIL\\lib\\site-packages\\sklearn\\metrics\\_classification.py:1308: UndefinedMetricWarning: Precision and F-score are ill-defined and being set to 0.0 in labels with no predicted samples. Use `zero_division` parameter to control this behavior.\n",
      "  _warn_prf(average, modifier, msg_start, len(result))\n",
      "C:\\Users\\phvpa\\anaconda3\\envs\\MuRIL\\lib\\site-packages\\sklearn\\metrics\\_classification.py:1308: UndefinedMetricWarning: Precision and F-score are ill-defined and being set to 0.0 in labels with no predicted samples. Use `zero_division` parameter to control this behavior.\n",
      "  _warn_prf(average, modifier, msg_start, len(result))\n"
     ]
    }
   ],
   "source": [
    "print(classification_report(Y_val,pred_svc))"
   ]
  },
  {
   "cell_type": "markdown",
   "id": "SkACelDWr77a",
   "metadata": {
    "id": "SkACelDWr77a"
   },
   "source": [
    "# Decision Tree"
   ]
  },
  {
   "cell_type": "code",
   "execution_count": 21,
   "id": "c7Y32c2Gq4Wy",
   "metadata": {
    "id": "c7Y32c2Gq4Wy"
   },
   "outputs": [],
   "source": [
    "from sklearn.tree import DecisionTreeClassifier"
   ]
  },
  {
   "cell_type": "code",
   "execution_count": 22,
   "id": "tsthtjBSq4Zs",
   "metadata": {
    "id": "tsthtjBSq4Zs"
   },
   "outputs": [],
   "source": [
    "Dtree = DecisionTreeClassifier(criterion='entropy', random_state=10)"
   ]
  },
  {
   "cell_type": "code",
   "execution_count": 23,
   "id": "7dUih_i0q4cC",
   "metadata": {
    "colab": {
     "base_uri": "https://localhost:8080/"
    },
    "id": "7dUih_i0q4cC",
    "outputId": "acb3d081-d076-4762-bac4-af37ed4e7e41"
   },
   "outputs": [
    {
     "data": {
      "text/plain": [
       "DecisionTreeClassifier(criterion='entropy', random_state=10)"
      ]
     },
     "execution_count": 23,
     "metadata": {},
     "output_type": "execute_result"
    }
   ],
   "source": [
    "Dtree.fit(X_train,Y_train)"
   ]
  },
  {
   "cell_type": "code",
   "execution_count": 24,
   "id": "nGu07zknrCp6",
   "metadata": {
    "id": "nGu07zknrCp6"
   },
   "outputs": [],
   "source": [
    "pred_Dtree = Dtree.predict(X_val)"
   ]
  },
  {
   "cell_type": "code",
   "execution_count": 25,
   "id": "GJGDRf1brEJe",
   "metadata": {
    "colab": {
     "base_uri": "https://localhost:8080/"
    },
    "id": "GJGDRf1brEJe",
    "outputId": "0985c7c3-c20c-42d3-b149-1f4cf17ed246"
   },
   "outputs": [
    {
     "data": {
      "text/plain": [
       "array([[ 5,  4,  6,  0,  5],\n",
       "       [ 6,  5,  5,  0,  4],\n",
       "       [ 2,  4,  4,  2,  8],\n",
       "       [ 3,  1,  3, 12,  1],\n",
       "       [ 4,  5,  5,  2,  4]], dtype=int64)"
      ]
     },
     "execution_count": 25,
     "metadata": {},
     "output_type": "execute_result"
    }
   ],
   "source": [
    "confusion_matrix(Y_val,pred_Dtree)"
   ]
  },
  {
   "cell_type": "code",
   "execution_count": 26,
   "id": "NiYUoCKSrJuh",
   "metadata": {
    "colab": {
     "base_uri": "https://localhost:8080/"
    },
    "id": "NiYUoCKSrJuh",
    "outputId": "0afb415c-e3ee-41b9-f796-510aaf3f2c93"
   },
   "outputs": [
    {
     "name": "stdout",
     "output_type": "stream",
     "text": [
      "              precision    recall  f1-score   support\n",
      "\n",
      "           0       0.25      0.25      0.25        20\n",
      "           1       0.26      0.25      0.26        20\n",
      "           2       0.17      0.20      0.19        20\n",
      "           3       0.75      0.60      0.67        20\n",
      "           4       0.18      0.20      0.19        20\n",
      "\n",
      "    accuracy                           0.30       100\n",
      "   macro avg       0.32      0.30      0.31       100\n",
      "weighted avg       0.32      0.30      0.31       100\n",
      "\n"
     ]
    }
   ],
   "source": [
    "print(classification_report(Y_val,pred_Dtree))"
   ]
  },
  {
   "cell_type": "code",
   "execution_count": null,
   "id": "QEXMq-wprEEq",
   "metadata": {
    "id": "QEXMq-wprEEq"
   },
   "outputs": [],
   "source": []
  },
  {
   "cell_type": "markdown",
   "id": "cAsHyl1BsETa",
   "metadata": {
    "id": "cAsHyl1BsETa"
   },
   "source": [
    "# Random Forest"
   ]
  },
  {
   "cell_type": "code",
   "execution_count": 17,
   "id": "PiWsU_wFphGx",
   "metadata": {
    "id": "PiWsU_wFphGx"
   },
   "outputs": [],
   "source": [
    "from sklearn.ensemble import RandomForestClassifier"
   ]
  },
  {
   "cell_type": "code",
   "execution_count": 18,
   "id": "ZUT_N5G5pbdx",
   "metadata": {
    "colab": {
     "base_uri": "https://localhost:8080/"
    },
    "id": "ZUT_N5G5pbdx",
    "outputId": "1ce28828-f1cd-44c0-d11f-b2847806ab1d"
   },
   "outputs": [
    {
     "data": {
      "text/plain": [
       "RandomForestClassifier()"
      ]
     },
     "execution_count": 18,
     "metadata": {},
     "output_type": "execute_result"
    }
   ],
   "source": [
    "RFC = RandomForestClassifier()\n",
    "RFC.fit(X_train,Y_train)"
   ]
  },
  {
   "cell_type": "code",
   "execution_count": 19,
   "id": "Mka6bmW6pbXm",
   "metadata": {
    "id": "Mka6bmW6pbXm"
   },
   "outputs": [],
   "source": [
    "pred_RFC = RFC.predict(X_val)"
   ]
  },
  {
   "cell_type": "code",
   "execution_count": 20,
   "id": "CsnTLmWdpbVB",
   "metadata": {
    "colab": {
     "base_uri": "https://localhost:8080/"
    },
    "id": "CsnTLmWdpbVB",
    "outputId": "18ba13ae-ec27-419b-da58-fb293aeb5a96"
   },
   "outputs": [
    {
     "name": "stdout",
     "output_type": "stream",
     "text": [
      "              precision    recall  f1-score   support\n",
      "\n",
      "           0       0.41      0.45      0.43        20\n",
      "           1       0.42      0.50      0.45        20\n",
      "           2       0.46      0.30      0.36        20\n",
      "           3       0.71      0.85      0.77        20\n",
      "           4       0.47      0.40      0.43        20\n",
      "\n",
      "    accuracy                           0.50       100\n",
      "   macro avg       0.49      0.50      0.49       100\n",
      "weighted avg       0.49      0.50      0.49       100\n",
      "\n"
     ]
    }
   ],
   "source": [
    "print(classification_report(Y_val,pred_RFC))"
   ]
  }
 ],
 "metadata": {
  "accelerator": "GPU",
  "colab": {
   "name": "MuRIL_SVM_DT_RF.ipynb",
   "provenance": []
  },
  "kernelspec": {
   "display_name": "Python 3 (ipykernel)",
   "language": "python",
   "name": "python3"
  },
  "language_info": {
   "codemirror_mode": {
    "name": "ipython",
    "version": 3
   },
   "file_extension": ".py",
   "mimetype": "text/x-python",
   "name": "python",
   "nbconvert_exporter": "python",
   "pygments_lexer": "ipython3",
   "version": "3.8.11"
  }
 },
 "nbformat": 4,
 "nbformat_minor": 5
}
