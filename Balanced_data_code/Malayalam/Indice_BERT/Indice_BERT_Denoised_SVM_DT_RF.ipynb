{
 "cells": [
  {
   "cell_type": "code",
   "execution_count": 1,
   "id": "e335d696",
   "metadata": {},
   "outputs": [
    {
     "name": "stdout",
     "output_type": "stream",
     "text": [
      "Sat Oct 23 10:04:55 2021       \n",
      "+-----------------------------------------------------------------------------+\n",
      "| NVIDIA-SMI 496.13       Driver Version: 496.13       CUDA Version: 11.5     |\n",
      "|-------------------------------+----------------------+----------------------+\n",
      "| GPU  Name            TCC/WDDM | Bus-Id        Disp.A | Volatile Uncorr. ECC |\n",
      "| Fan  Temp  Perf  Pwr:Usage/Cap|         Memory-Usage | GPU-Util  Compute M. |\n",
      "|                               |                      |               MIG M. |\n",
      "|===============================+======================+======================|\n",
      "|   0  NVIDIA GeForce ... WDDM  | 00000000:01:00.0 Off |                  N/A |\n",
      "| N/A   49C    P8    12W /  N/A |   6112MiB /  6144MiB |      0%      Default |\n",
      "|                               |                      |                  N/A |\n",
      "+-------------------------------+----------------------+----------------------+\n",
      "                                                                               \n",
      "+-----------------------------------------------------------------------------+\n",
      "| Processes:                                                                  |\n",
      "|  GPU   GI   CI        PID   Type   Process name                  GPU Memory |\n",
      "|        ID   ID                                                   Usage      |\n",
      "|=============================================================================|\n",
      "|    0   N/A  N/A      9428      C   ...da3\\envs\\MuRIL\\python.exe    N/A      |\n",
      "|    0   N/A  N/A     18176      C   ...da3\\envs\\MuRIL\\python.exe    N/A      |\n",
      "|    0   N/A  N/A     19220      C   ...da3\\envs\\MuRIL\\python.exe    N/A      |\n",
      "+-----------------------------------------------------------------------------+\n"
     ]
    }
   ],
   "source": [
    "!nvidia-smi"
   ]
  },
  {
   "cell_type": "code",
   "execution_count": 2,
   "id": "0abc46e6",
   "metadata": {},
   "outputs": [],
   "source": [
    "from WR_LS_Denoising import WR_LS_Denoise\n",
    "import numpy as np"
   ]
  },
  {
   "cell_type": "code",
   "execution_count": 3,
   "id": "61aa4c8a",
   "metadata": {},
   "outputs": [],
   "source": [
    "X_train = np.load('Indice_BERT_X_train.npy')\n",
    "Y_train = np.load('Mal_train_label.npy')\n",
    "X_val = np.load('Indice_BERT_X_val.npy')\n",
    "Y_val = np.load('Mal_val_label.npy')"
   ]
  },
  {
   "cell_type": "code",
   "execution_count": 4,
   "id": "fde6f974",
   "metadata": {},
   "outputs": [],
   "source": [
    "import cupy as cp"
   ]
  },
  {
   "cell_type": "code",
   "execution_count": 5,
   "id": "57d4bea3",
   "metadata": {},
   "outputs": [],
   "source": [
    "X_train = cp.array(X_train)\n",
    "Y_train = cp.array(Y_train)\n",
    "X_val = cp.array(X_val)\n",
    "Y_val = cp.array(Y_val)"
   ]
  },
  {
   "cell_type": "code",
   "execution_count": 6,
   "id": "2e8399c4",
   "metadata": {},
   "outputs": [],
   "source": [
    "import time"
   ]
  },
  {
   "cell_type": "code",
   "execution_count": 7,
   "id": "17b9ee6d",
   "metadata": {},
   "outputs": [
    {
     "name": "stdout",
     "output_type": "stream",
     "text": [
      "Sat Oct 23 10:04:56 2021\n",
      "0 Sat Oct 23 10:04:59 2021\n"
     ]
    }
   ],
   "source": [
    "start = time.ctime(time.time())\n",
    "print(start)\n",
    "for i in range(len(X_train)):\n",
    "    Denoised =  WR_LS_Denoise(X_train[i])\n",
    "    X_train[i] = X_train[i]\n",
    "    if(i%1000 == 0):\n",
    "        print(i, time.ctime(time.time()))"
   ]
  },
  {
   "cell_type": "code",
   "execution_count": 8,
   "id": "76110859",
   "metadata": {},
   "outputs": [
    {
     "name": "stdout",
     "output_type": "stream",
     "text": [
      "Sat Oct 23 10:05:46 2021       \n",
      "+-----------------------------------------------------------------------------+\n",
      "| NVIDIA-SMI 496.13       Driver Version: 496.13       CUDA Version: 11.5     |\n",
      "|-------------------------------+----------------------+----------------------+\n",
      "| GPU  Name            TCC/WDDM | Bus-Id        Disp.A | Volatile Uncorr. ECC |\n",
      "| Fan  Temp  Perf  Pwr:Usage/Cap|         Memory-Usage | GPU-Util  Compute M. |\n",
      "|                               |                      |               MIG M. |\n",
      "|===============================+======================+======================|\n",
      "|   0  NVIDIA GeForce ... WDDM  | 00000000:01:00.0 Off |                  N/A |\n",
      "| N/A   62C    P0    48W /  N/A |   6062MiB /  6144MiB |     48%      Default |\n",
      "|                               |                      |                  N/A |\n",
      "+-------------------------------+----------------------+----------------------+\n",
      "                                                                               \n",
      "+-----------------------------------------------------------------------------+\n",
      "| Processes:                                                                  |\n",
      "|  GPU   GI   CI        PID   Type   Process name                  GPU Memory |\n",
      "|        ID   ID                                                   Usage      |\n",
      "|=============================================================================|\n",
      "|    0   N/A  N/A      9428      C   ...da3\\envs\\MuRIL\\python.exe    N/A      |\n",
      "|    0   N/A  N/A     12764      C   ...da3\\envs\\MuRIL\\python.exe    N/A      |\n",
      "|    0   N/A  N/A     18176      C   ...da3\\envs\\MuRIL\\python.exe    N/A      |\n",
      "|    0   N/A  N/A     19220      C   ...da3\\envs\\MuRIL\\python.exe    N/A      |\n",
      "+-----------------------------------------------------------------------------+\n"
     ]
    }
   ],
   "source": [
    "!nvidia-smi"
   ]
  },
  {
   "cell_type": "code",
   "execution_count": 9,
   "id": "ad3c9df3",
   "metadata": {},
   "outputs": [
    {
     "name": "stdout",
     "output_type": "stream",
     "text": [
      "Sat Oct 23 10:05:46 2021\n",
      "0 Sat Oct 23 10:05:46 2021\n"
     ]
    }
   ],
   "source": [
    "start = time.ctime(time.time())\n",
    "print(start)\n",
    "for i in range(len(X_val)):\n",
    "    Denoised =  WR_LS_Denoise(X_val[i])\n",
    "    X_val[i] = X_val[i]\n",
    "    if(i%1000 == 0):\n",
    "        print(i, time.ctime(time.time()))"
   ]
  },
  {
   "cell_type": "code",
   "execution_count": 10,
   "id": "ee29de82",
   "metadata": {},
   "outputs": [],
   "source": [
    "WR_LS_Denoised_X_train = cp.save('WR_LS_Denoised_Indice_BERT_X_train.npy',X_train)\n",
    "WR_LS_Denoised_X_val = cp.save('WR_LS_Denoised_Indice_BERT_X_val.npy',X_val)"
   ]
  },
  {
   "cell_type": "code",
   "execution_count": 11,
   "id": "019c08db",
   "metadata": {},
   "outputs": [],
   "source": [
    "import cupy as cp\n",
    "import numpy as np"
   ]
  },
  {
   "cell_type": "code",
   "execution_count": 12,
   "id": "e46ef610",
   "metadata": {},
   "outputs": [
    {
     "name": "stdout",
     "output_type": "stream",
     "text": [
      " Volume in drive C is Acer\n",
      " Volume Serial Number is 3818-7542\n",
      "\n",
      " Directory of C:\\Users\\phvpa\\OneDrive - Amrita Vishwa Vidyapeetham\\Amrita-Mtech-CEN\\ProjectWork\\MTech Thesis\\Denoise in Code mix data\\Experiments\\Malyalam\\Indice_BERT\\1000 and 100 dataset\n",
      "\n",
      "23-10-2021  10:05    <DIR>          .\n",
      "23-10-2021  09:49    <DIR>          ..\n",
      "23-10-2021  09:58    <DIR>          .ipynb_checkpoints\n",
      "23-10-2021  10:04    <DIR>          __pycache__\n",
      "23-10-2021  10:03            30,000 Indice_BERT.ipynb\n",
      "23-10-2021  09:58            33,936 Indice_BERT_Denoised_SVM_DT_RF.ipynb\n",
      "23-10-2021  10:02         3,072,128 Indice_BERT_X_train.npy\n",
      "23-10-2021  10:03           307,328 Indice_BERT_X_val.npy\n",
      "23-10-2021  09:17         6,268,128 Mal_train.npy\n",
      "23-10-2021  09:17             8,128 Mal_train_label.npy\n",
      "23-10-2021  09:17            84,128 Mal_val.npy\n",
      "23-10-2021  09:17               928 Mal_val_label.npy\n",
      "23-10-2021  10:05         3,072,128 WR_LS_Denoised_Indice_BERT_X_train.npy\n",
      "23-10-2021  10:05           307,328 WR_LS_Denoised_Indice_BERT_X_val.npy\n",
      "22-10-2021  13:30               360 WR_LS_Denoising.py\n",
      "              11 File(s)     13,184,520 bytes\n",
      "               4 Dir(s)  324,675,592,192 bytes free\n"
     ]
    }
   ],
   "source": [
    "ls"
   ]
  },
  {
   "cell_type": "code",
   "execution_count": 13,
   "id": "636e8ec6",
   "metadata": {},
   "outputs": [],
   "source": [
    "X_train = np.load('WR_LS_Denoised_Indice_BERT_X_train.npy')\n",
    "X_val = np.load('WR_LS_Denoised_Indice_BERT_X_val.npy')"
   ]
  },
  {
   "cell_type": "code",
   "execution_count": 15,
   "id": "d3c1f823",
   "metadata": {},
   "outputs": [],
   "source": [
    "Y_train = np.load('Mal_train_label.npy')\n",
    "Y_val = np.load('Mal_val_label.npy')"
   ]
  },
  {
   "cell_type": "code",
   "execution_count": 16,
   "id": "734694aa",
   "metadata": {},
   "outputs": [],
   "source": [
    "# X_train = cp.asarray(X_train)\n",
    "# Y_train = cp.asarray(Y_train)\n",
    "# X_val = cp.asarray(X_val)\n",
    "# Y_val = cp.asarray(Y_val)"
   ]
  },
  {
   "cell_type": "code",
   "execution_count": 17,
   "id": "a32873c1",
   "metadata": {},
   "outputs": [
    {
     "data": {
      "text/plain": [
       "numpy.ndarray"
      ]
     },
     "execution_count": 17,
     "metadata": {},
     "output_type": "execute_result"
    }
   ],
   "source": [
    "type(X_train)"
   ]
  },
  {
   "cell_type": "code",
   "execution_count": 18,
   "id": "a7c0e51c",
   "metadata": {},
   "outputs": [
    {
     "data": {
      "text/plain": [
       "(1000, 768)"
      ]
     },
     "execution_count": 18,
     "metadata": {},
     "output_type": "execute_result"
    }
   ],
   "source": [
    "X_train.shape"
   ]
  },
  {
   "cell_type": "code",
   "execution_count": 19,
   "id": "85a91e2c",
   "metadata": {},
   "outputs": [
    {
     "data": {
      "text/plain": [
       "(1000,)"
      ]
     },
     "execution_count": 19,
     "metadata": {},
     "output_type": "execute_result"
    }
   ],
   "source": [
    "Y_train.shape"
   ]
  },
  {
   "cell_type": "code",
   "execution_count": 20,
   "id": "02acf09b",
   "metadata": {},
   "outputs": [
    {
     "data": {
      "text/plain": [
       "numpy.ndarray"
      ]
     },
     "execution_count": 20,
     "metadata": {},
     "output_type": "execute_result"
    }
   ],
   "source": [
    "type(Y_train)"
   ]
  },
  {
   "cell_type": "markdown",
   "id": "d345d9a3",
   "metadata": {},
   "source": [
    "# SVM"
   ]
  },
  {
   "cell_type": "code",
   "execution_count": 21,
   "id": "7e0d4127",
   "metadata": {},
   "outputs": [],
   "source": [
    "from sklearn.svm import SVC\n",
    "from sklearn.metrics import confusion_matrix, classification_report"
   ]
  },
  {
   "cell_type": "code",
   "execution_count": 22,
   "id": "72d87abf",
   "metadata": {},
   "outputs": [
    {
     "data": {
      "text/plain": [
       "SVC(decision_function_shape='ovo')"
      ]
     },
     "execution_count": 22,
     "metadata": {},
     "output_type": "execute_result"
    }
   ],
   "source": [
    "svc = SVC(decision_function_shape='ovo')\n",
    "svc.fit(X_train,Y_train)"
   ]
  },
  {
   "cell_type": "code",
   "execution_count": 23,
   "id": "d5c37e8b",
   "metadata": {},
   "outputs": [],
   "source": [
    "pred_svc = svc.predict(X_val)"
   ]
  },
  {
   "cell_type": "code",
   "execution_count": 24,
   "id": "3aac1faa",
   "metadata": {},
   "outputs": [
    {
     "data": {
      "text/plain": [
       "array([[ 0, 19,  0,  0,  1],\n",
       "       [ 0, 18,  0,  1,  1],\n",
       "       [ 1, 18,  0,  0,  1],\n",
       "       [ 1, 18,  0,  1,  0],\n",
       "       [ 0, 20,  0,  0,  0]], dtype=int64)"
      ]
     },
     "execution_count": 24,
     "metadata": {},
     "output_type": "execute_result"
    }
   ],
   "source": [
    "confusion_matrix(Y_val,pred_svc)"
   ]
  },
  {
   "cell_type": "code",
   "execution_count": 25,
   "id": "b3ab3232",
   "metadata": {},
   "outputs": [
    {
     "name": "stdout",
     "output_type": "stream",
     "text": [
      "              precision    recall  f1-score   support\n",
      "\n",
      "           0       0.00      0.00      0.00        20\n",
      "           1       0.19      0.90      0.32        20\n",
      "           2       0.00      0.00      0.00        20\n",
      "           3       0.50      0.05      0.09        20\n",
      "           4       0.00      0.00      0.00        20\n",
      "\n",
      "    accuracy                           0.19       100\n",
      "   macro avg       0.14      0.19      0.08       100\n",
      "weighted avg       0.14      0.19      0.08       100\n",
      "\n"
     ]
    },
    {
     "name": "stderr",
     "output_type": "stream",
     "text": [
      "C:\\Users\\phvpa\\anaconda3\\envs\\MuRIL\\lib\\site-packages\\sklearn\\metrics\\_classification.py:1308: UndefinedMetricWarning: Precision and F-score are ill-defined and being set to 0.0 in labels with no predicted samples. Use `zero_division` parameter to control this behavior.\n",
      "  _warn_prf(average, modifier, msg_start, len(result))\n",
      "C:\\Users\\phvpa\\anaconda3\\envs\\MuRIL\\lib\\site-packages\\sklearn\\metrics\\_classification.py:1308: UndefinedMetricWarning: Precision and F-score are ill-defined and being set to 0.0 in labels with no predicted samples. Use `zero_division` parameter to control this behavior.\n",
      "  _warn_prf(average, modifier, msg_start, len(result))\n",
      "C:\\Users\\phvpa\\anaconda3\\envs\\MuRIL\\lib\\site-packages\\sklearn\\metrics\\_classification.py:1308: UndefinedMetricWarning: Precision and F-score are ill-defined and being set to 0.0 in labels with no predicted samples. Use `zero_division` parameter to control this behavior.\n",
      "  _warn_prf(average, modifier, msg_start, len(result))\n"
     ]
    }
   ],
   "source": [
    "print(classification_report(Y_val,pred_svc))"
   ]
  },
  {
   "cell_type": "markdown",
   "id": "1d52c3b4",
   "metadata": {},
   "source": [
    "## DecisionTree"
   ]
  },
  {
   "cell_type": "code",
   "execution_count": 26,
   "id": "22eaebbc",
   "metadata": {},
   "outputs": [],
   "source": [
    "from sklearn.tree import DecisionTreeClassifier"
   ]
  },
  {
   "cell_type": "code",
   "execution_count": 27,
   "id": "6328e7df",
   "metadata": {},
   "outputs": [],
   "source": [
    "Dtree = DecisionTreeClassifier(criterion='entropy', random_state=10)"
   ]
  },
  {
   "cell_type": "code",
   "execution_count": 28,
   "id": "08dd8070",
   "metadata": {},
   "outputs": [
    {
     "data": {
      "text/plain": [
       "DecisionTreeClassifier(criterion='entropy', random_state=10)"
      ]
     },
     "execution_count": 28,
     "metadata": {},
     "output_type": "execute_result"
    }
   ],
   "source": [
    "Dtree.fit(X_train,Y_train)"
   ]
  },
  {
   "cell_type": "code",
   "execution_count": 29,
   "id": "afb71803",
   "metadata": {},
   "outputs": [],
   "source": [
    "pred_Dtree = Dtree.predict(X_val)"
   ]
  },
  {
   "cell_type": "code",
   "execution_count": 30,
   "id": "e67c6e6b",
   "metadata": {},
   "outputs": [
    {
     "data": {
      "text/plain": [
       "array([[ 0,  1,  0, 19,  0],\n",
       "       [ 0,  0,  2, 18,  0],\n",
       "       [ 0,  0,  3, 17,  0],\n",
       "       [ 0,  0,  3, 17,  0],\n",
       "       [ 0,  0,  1, 19,  0]], dtype=int64)"
      ]
     },
     "execution_count": 30,
     "metadata": {},
     "output_type": "execute_result"
    }
   ],
   "source": [
    "confusion_matrix(Y_val,pred_Dtree)"
   ]
  },
  {
   "cell_type": "code",
   "execution_count": 31,
   "id": "9c525bf7",
   "metadata": {},
   "outputs": [
    {
     "name": "stdout",
     "output_type": "stream",
     "text": [
      "              precision    recall  f1-score   support\n",
      "\n",
      "           0       0.00      0.00      0.00        20\n",
      "           1       0.00      0.00      0.00        20\n",
      "           2       0.33      0.15      0.21        20\n",
      "           3       0.19      0.85      0.31        20\n",
      "           4       0.00      0.00      0.00        20\n",
      "\n",
      "    accuracy                           0.20       100\n",
      "   macro avg       0.10      0.20      0.10       100\n",
      "weighted avg       0.10      0.20      0.10       100\n",
      "\n"
     ]
    },
    {
     "name": "stderr",
     "output_type": "stream",
     "text": [
      "C:\\Users\\phvpa\\anaconda3\\envs\\MuRIL\\lib\\site-packages\\sklearn\\metrics\\_classification.py:1308: UndefinedMetricWarning: Precision and F-score are ill-defined and being set to 0.0 in labels with no predicted samples. Use `zero_division` parameter to control this behavior.\n",
      "  _warn_prf(average, modifier, msg_start, len(result))\n",
      "C:\\Users\\phvpa\\anaconda3\\envs\\MuRIL\\lib\\site-packages\\sklearn\\metrics\\_classification.py:1308: UndefinedMetricWarning: Precision and F-score are ill-defined and being set to 0.0 in labels with no predicted samples. Use `zero_division` parameter to control this behavior.\n",
      "  _warn_prf(average, modifier, msg_start, len(result))\n",
      "C:\\Users\\phvpa\\anaconda3\\envs\\MuRIL\\lib\\site-packages\\sklearn\\metrics\\_classification.py:1308: UndefinedMetricWarning: Precision and F-score are ill-defined and being set to 0.0 in labels with no predicted samples. Use `zero_division` parameter to control this behavior.\n",
      "  _warn_prf(average, modifier, msg_start, len(result))\n"
     ]
    }
   ],
   "source": [
    "print(classification_report(Y_val,pred_Dtree))"
   ]
  },
  {
   "cell_type": "markdown",
   "id": "3a4f41b3",
   "metadata": {},
   "source": [
    "## Random Forest"
   ]
  },
  {
   "cell_type": "code",
   "execution_count": 32,
   "id": "a2260390",
   "metadata": {},
   "outputs": [],
   "source": [
    "from sklearn.ensemble import RandomForestClassifier"
   ]
  },
  {
   "cell_type": "code",
   "execution_count": 33,
   "id": "d878b35a",
   "metadata": {},
   "outputs": [
    {
     "data": {
      "text/plain": [
       "RandomForestClassifier()"
      ]
     },
     "execution_count": 33,
     "metadata": {},
     "output_type": "execute_result"
    }
   ],
   "source": [
    "RFC = RandomForestClassifier()\n",
    "RFC.fit(X_train,Y_train)"
   ]
  },
  {
   "cell_type": "code",
   "execution_count": 34,
   "id": "724ea596",
   "metadata": {},
   "outputs": [],
   "source": [
    "pred_RFC = RFC.predict(X_val)"
   ]
  },
  {
   "cell_type": "code",
   "execution_count": 35,
   "id": "dc4743ed",
   "metadata": {},
   "outputs": [
    {
     "data": {
      "text/plain": [
       "array([[ 0,  1,  0,  0, 19],\n",
       "       [ 0,  0,  0,  1, 19],\n",
       "       [ 0,  1,  0,  0, 19],\n",
       "       [ 0,  2,  0,  1, 17],\n",
       "       [ 0,  0,  0,  0, 20]], dtype=int64)"
      ]
     },
     "execution_count": 35,
     "metadata": {},
     "output_type": "execute_result"
    }
   ],
   "source": [
    "confusion_matrix(Y_val,pred_RFC)"
   ]
  },
  {
   "cell_type": "code",
   "execution_count": 36,
   "id": "6362c92e",
   "metadata": {},
   "outputs": [
    {
     "name": "stdout",
     "output_type": "stream",
     "text": [
      "              precision    recall  f1-score   support\n",
      "\n",
      "           0       0.00      0.00      0.00        20\n",
      "           1       0.00      0.00      0.00        20\n",
      "           2       0.00      0.00      0.00        20\n",
      "           3       0.50      0.05      0.09        20\n",
      "           4       0.21      1.00      0.35        20\n",
      "\n",
      "    accuracy                           0.21       100\n",
      "   macro avg       0.14      0.21      0.09       100\n",
      "weighted avg       0.14      0.21      0.09       100\n",
      "\n"
     ]
    },
    {
     "name": "stderr",
     "output_type": "stream",
     "text": [
      "C:\\Users\\phvpa\\anaconda3\\envs\\MuRIL\\lib\\site-packages\\sklearn\\metrics\\_classification.py:1308: UndefinedMetricWarning: Precision and F-score are ill-defined and being set to 0.0 in labels with no predicted samples. Use `zero_division` parameter to control this behavior.\n",
      "  _warn_prf(average, modifier, msg_start, len(result))\n",
      "C:\\Users\\phvpa\\anaconda3\\envs\\MuRIL\\lib\\site-packages\\sklearn\\metrics\\_classification.py:1308: UndefinedMetricWarning: Precision and F-score are ill-defined and being set to 0.0 in labels with no predicted samples. Use `zero_division` parameter to control this behavior.\n",
      "  _warn_prf(average, modifier, msg_start, len(result))\n",
      "C:\\Users\\phvpa\\anaconda3\\envs\\MuRIL\\lib\\site-packages\\sklearn\\metrics\\_classification.py:1308: UndefinedMetricWarning: Precision and F-score are ill-defined and being set to 0.0 in labels with no predicted samples. Use `zero_division` parameter to control this behavior.\n",
      "  _warn_prf(average, modifier, msg_start, len(result))\n"
     ]
    }
   ],
   "source": [
    "print(classification_report(Y_val,pred_RFC))"
   ]
  }
 ],
 "metadata": {
  "kernelspec": {
   "display_name": "Python 3 (ipykernel)",
   "language": "python",
   "name": "python3"
  },
  "language_info": {
   "codemirror_mode": {
    "name": "ipython",
    "version": 3
   },
   "file_extension": ".py",
   "mimetype": "text/x-python",
   "name": "python",
   "nbconvert_exporter": "python",
   "pygments_lexer": "ipython3",
   "version": "3.8.11"
  }
 },
 "nbformat": 4,
 "nbformat_minor": 5
}
