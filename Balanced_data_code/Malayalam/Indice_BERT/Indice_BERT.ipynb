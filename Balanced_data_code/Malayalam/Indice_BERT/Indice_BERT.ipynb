{
 "cells": [
  {
   "cell_type": "code",
   "execution_count": 1,
   "id": "f57e4ac9",
   "metadata": {},
   "outputs": [],
   "source": [
    "import pandas as pd\n",
    "import numpy as np\n",
    "import re\n",
    "import string\n",
    "import tensorflow as tf\n",
    "from tqdm import tqdm\n",
    " \n",
    "import nltk\n",
    "#en_stop = set(nltk.corpus.<a href=\"https://thinkinfi.com/how-to-remove-stop-words-in-python/\" data-internallinksmanager029f6b8e52c=\"5\" title=\"How To Remove Stop words In Python\" target=\"_blank\" rel=\"noopener\">stopwords</a>.words('english'))\n",
    " \n",
    "from gensim.models import FastText\n",
    " \n",
    "from sklearn.decomposition import PCA\n",
    "from sklearn.manifold import TSNE\n",
    "import seaborn as sns\n",
    "import matplotlib.pyplot as plt\n",
    " \n",
    "# <a href=\"https://thinkinfi.com/difference-between-stemming-and-lemmatizing-and-where-to-use/\" data-internallinksmanager029f6b8e52c=\"7\" title=\"Difference between stemming and lemmatizing and where to use\" target=\"_blank\" rel=\"noopener\">Lemmatization</a>\n",
    "from nltk import WordNetLemmatizer\n",
    "stemmer = WordNetLemmatizer()"
   ]
  },
  {
   "cell_type": "code",
   "execution_count": 2,
   "id": "e73867f3",
   "metadata": {},
   "outputs": [
    {
     "name": "stdout",
     "output_type": "stream",
     "text": [
      "(1000,)\n",
      "(1000,)\n"
     ]
    }
   ],
   "source": [
    "train_text =np.load('Mal_train.npy')\n",
    "print(train_text.shape)\n",
    "train_text = train_text.tolist()\n",
    "#print(train_text)\n",
    "train_label =np.load('Mal_train_label.npy')\n",
    "print(train_label.shape)\n",
    "train_label = train_label.tolist()\n",
    "#print(train_label)"
   ]
  },
  {
   "cell_type": "code",
   "execution_count": 3,
   "id": "f204bdf3",
   "metadata": {},
   "outputs": [
    {
     "name": "stdout",
     "output_type": "stream",
     "text": [
      "(100,)\n",
      "(100,)\n"
     ]
    }
   ],
   "source": [
    "valid_text =np.load('Mal_val.npy')\n",
    "print(valid_text.shape)\n",
    "valid_text = valid_text.tolist()\n",
    "#print(valid_text)\n",
    "valid_label =np.load('Mal_val_label.npy')\n",
    "print(valid_label.shape)\n",
    "valid_label = valid_label.tolist()\n",
    "#print(valid_label)"
   ]
  },
  {
   "cell_type": "code",
   "execution_count": 4,
   "id": "439c3b4c",
   "metadata": {},
   "outputs": [
    {
     "name": "stderr",
     "output_type": "stream",
     "text": [
      "Some layers from the model checkpoint at neuralspace-reverie/indic-transformers-hi-bert were not used when initializing TFBertModel: ['mlm___cls']\n",
      "- This IS expected if you are initializing TFBertModel from the checkpoint of a model trained on another task or with another architecture (e.g. initializing a BertForSequenceClassification model from a BertForPreTraining model).\n",
      "- This IS NOT expected if you are initializing TFBertModel from the checkpoint of a model that you expect to be exactly identical (initializing a BertForSequenceClassification model from a BertForSequenceClassification model).\n",
      "All the layers of TFBertModel were initialized from the model checkpoint at neuralspace-reverie/indic-transformers-hi-bert.\n",
      "If your task is similar to the task the model of the checkpoint was trained on, you can already use TFBertModel for predictions without further training.\n"
     ]
    }
   ],
   "source": [
    "from transformers import TFAutoModel\n",
    "model = TFAutoModel.from_pretrained('neuralspace-reverie/indic-transformers-hi-bert')"
   ]
  },
  {
   "cell_type": "code",
   "execution_count": 5,
   "id": "4f181974",
   "metadata": {},
   "outputs": [],
   "source": [
    "from transformers import AutoTokenizer\n",
    "tokenizer = AutoTokenizer.from_pretrained('neuralspace-reverie/indic-transformers-hi-bert')"
   ]
  },
  {
   "cell_type": "code",
   "execution_count": null,
   "id": "d593c59d",
   "metadata": {},
   "outputs": [],
   "source": []
  },
  {
   "cell_type": "code",
   "execution_count": 6,
   "id": "5f7a9e18",
   "metadata": {
    "scrolled": true
   },
   "outputs": [
    {
     "name": "stderr",
     "output_type": "stream",
     "text": [
      "Asking to truncate to max_length but no maximum length is provided and the model has no predefined maximum length. Default to no truncation.\n"
     ]
    }
   ],
   "source": [
    "input_ids = tokenizer(train_text, return_tensors='tf',truncation=True,padding=True)['input_ids']\n",
    "\n",
    "#input_ids = tokenizer(valid_text, return_tensors='tf',truncation=True,padding=True)['input_ids']"
   ]
  },
  {
   "cell_type": "code",
   "execution_count": 7,
   "id": "3214eafc",
   "metadata": {},
   "outputs": [],
   "source": [
    "import math"
   ]
  },
  {
   "cell_type": "code",
   "execution_count": 8,
   "id": "156424e8",
   "metadata": {},
   "outputs": [],
   "source": [
    "Batch_size = 64\n",
    "start = 0;Endu = Batch_size\n",
    "fullsize = math.floor(len(input_ids)/Batch_size)"
   ]
  },
  {
   "cell_type": "code",
   "execution_count": 9,
   "id": "1bcd4e7c",
   "metadata": {},
   "outputs": [],
   "source": [
    "import time"
   ]
  },
  {
   "cell_type": "code",
   "execution_count": 10,
   "id": "2c732913",
   "metadata": {
    "scrolled": false
   },
   "outputs": [
    {
     "name": "stdout",
     "output_type": "stream",
     "text": [
      "0\n",
      "1\n",
      "2\n",
      "3\n",
      "4\n",
      "5\n",
      "6\n",
      "7\n",
      "8\n",
      "9\n",
      "10\n",
      "11\n",
      "12\n",
      "13\n",
      "14\n"
     ]
    }
   ],
   "source": [
    "for i in range(fullsize):\n",
    "    if i+1 == fullsize:\n",
    "        Endu = len(input_ids)\n",
    "        out = model(input_ids[int(start):int(Endu)])\n",
    "    else:\n",
    "        out = model(input_ids[int(start):int(Endu)])\n",
    "    if i == 0:\n",
    "        total = out.pooler_output \n",
    "    else:\n",
    "        #torch.cat((total,out.last_hidden_state),0)\n",
    "        total = tf.concat([total, out.pooler_output],0)\n",
    "    start = Batch_size * (i+1)\n",
    "    Endu = Batch_size * (i+2)\n",
    "    print(i)"
   ]
  },
  {
   "cell_type": "code",
   "execution_count": 11,
   "id": "73c0c74a",
   "metadata": {},
   "outputs": [
    {
     "data": {
      "text/plain": [
       "1000"
      ]
     },
     "execution_count": 11,
     "metadata": {},
     "output_type": "execute_result"
    }
   ],
   "source": [
    "len(total)"
   ]
  },
  {
   "cell_type": "code",
   "execution_count": 12,
   "id": "deab348e",
   "metadata": {},
   "outputs": [
    {
     "data": {
      "text/plain": [
       "<tf.Tensor: shape=(1000, 768), dtype=float32, numpy=\n",
       "array([[ 0.05744659,  0.8334571 , -0.4579291 , ..., -0.23478337,\n",
       "        -0.31508487, -0.21995133],\n",
       "       [ 0.02108973,  0.8143126 , -0.46389127, ..., -0.2219873 ,\n",
       "        -0.3542156 , -0.24277815],\n",
       "       [ 0.21211018,  0.8828258 , -0.35285172, ..., -0.25310165,\n",
       "        -0.17590131, -0.15937829],\n",
       "       ...,\n",
       "       [ 0.08203451,  0.8455281 , -0.44398186, ..., -0.23515292,\n",
       "        -0.29266575, -0.20290166],\n",
       "       [ 0.25017798,  0.8933832 , -0.31349182, ..., -0.25508717,\n",
       "        -0.12339611, -0.14075027],\n",
       "       [ 0.11087467,  0.856152  , -0.43033743, ..., -0.23592502,\n",
       "        -0.27159697, -0.19086742]], dtype=float32)>"
      ]
     },
     "execution_count": 12,
     "metadata": {},
     "output_type": "execute_result"
    }
   ],
   "source": [
    "total"
   ]
  },
  {
   "cell_type": "code",
   "execution_count": 13,
   "id": "2446fa33",
   "metadata": {
    "scrolled": true
   },
   "outputs": [
    {
     "data": {
      "text/plain": [
       "['last_hidden_state', 'pooler_output']"
      ]
     },
     "execution_count": 13,
     "metadata": {},
     "output_type": "execute_result"
    }
   ],
   "source": [
    "list(out)"
   ]
  },
  {
   "cell_type": "code",
   "execution_count": 14,
   "id": "e5d2c251",
   "metadata": {
    "scrolled": true
   },
   "outputs": [],
   "source": [
    "#out['last_hidden_state']"
   ]
  },
  {
   "cell_type": "code",
   "execution_count": 15,
   "id": "ca761e77",
   "metadata": {},
   "outputs": [],
   "source": [
    "# input_ids."
   ]
  },
  {
   "cell_type": "code",
   "execution_count": 16,
   "id": "b9cee8a7",
   "metadata": {},
   "outputs": [
    {
     "name": "stdout",
     "output_type": "stream",
     "text": [
      "Sat Oct 23 10:02:58 2021       \n",
      "+-----------------------------------------------------------------------------+\n",
      "| NVIDIA-SMI 496.13       Driver Version: 496.13       CUDA Version: 11.5     |\n",
      "|-------------------------------+----------------------+----------------------+\n",
      "| GPU  Name            TCC/WDDM | Bus-Id        Disp.A | Volatile Uncorr. ECC |\n",
      "| Fan  Temp  Perf  Pwr:Usage/Cap|         Memory-Usage | GPU-Util  Compute M. |\n",
      "|                               |                      |               MIG M. |\n",
      "|===============================+======================+======================|\n",
      "|   0  NVIDIA GeForce ... WDDM  | 00000000:01:00.0 Off |                  N/A |\n",
      "| N/A   58C    P0    38W /  N/A |   6112MiB /  6144MiB |     84%      Default |\n",
      "|                               |                      |                  N/A |\n",
      "+-------------------------------+----------------------+----------------------+\n",
      "                                                                               \n",
      "+-----------------------------------------------------------------------------+\n",
      "| Processes:                                                                  |\n",
      "|  GPU   GI   CI        PID   Type   Process name                  GPU Memory |\n",
      "|        ID   ID                                                   Usage      |\n",
      "|=============================================================================|\n",
      "|    0   N/A  N/A      9428      C   ...da3\\envs\\MuRIL\\python.exe    N/A      |\n",
      "|    0   N/A  N/A     18176      C   ...da3\\envs\\MuRIL\\python.exe    N/A      |\n",
      "|    0   N/A  N/A     19220      C   ...da3\\envs\\MuRIL\\python.exe    N/A      |\n",
      "+-----------------------------------------------------------------------------+\n"
     ]
    }
   ],
   "source": [
    "!nvidia-smi"
   ]
  },
  {
   "cell_type": "code",
   "execution_count": 17,
   "id": "6155fd67",
   "metadata": {},
   "outputs": [],
   "source": [
    "X_train = np.array(total)\n",
    "np.save('Indice_BERT_X_train.npy', X_train)"
   ]
  },
  {
   "cell_type": "code",
   "execution_count": 18,
   "id": "31e48b3f",
   "metadata": {},
   "outputs": [
    {
     "name": "stderr",
     "output_type": "stream",
     "text": [
      "Some layers from the model checkpoint at neuralspace-reverie/indic-transformers-hi-bert were not used when initializing TFBertModel: ['mlm___cls']\n",
      "- This IS expected if you are initializing TFBertModel from the checkpoint of a model trained on another task or with another architecture (e.g. initializing a BertForSequenceClassification model from a BertForPreTraining model).\n",
      "- This IS NOT expected if you are initializing TFBertModel from the checkpoint of a model that you expect to be exactly identical (initializing a BertForSequenceClassification model from a BertForSequenceClassification model).\n",
      "All the layers of TFBertModel were initialized from the model checkpoint at neuralspace-reverie/indic-transformers-hi-bert.\n",
      "If your task is similar to the task the model of the checkpoint was trained on, you can already use TFBertModel for predictions without further training.\n"
     ]
    }
   ],
   "source": [
    "from transformers import TFAutoModel\n",
    "model = TFAutoModel.from_pretrained('neuralspace-reverie/indic-transformers-hi-bert')"
   ]
  },
  {
   "cell_type": "code",
   "execution_count": 19,
   "id": "8226c2dc",
   "metadata": {},
   "outputs": [],
   "source": [
    "from transformers import AutoTokenizer\n",
    "tokenizer = AutoTokenizer.from_pretrained('neuralspace-reverie/indic-transformers-hi-bert')"
   ]
  },
  {
   "cell_type": "code",
   "execution_count": 20,
   "id": "b50a79c3",
   "metadata": {},
   "outputs": [
    {
     "name": "stderr",
     "output_type": "stream",
     "text": [
      "Asking to truncate to max_length but no maximum length is provided and the model has no predefined maximum length. Default to no truncation.\n"
     ]
    }
   ],
   "source": [
    "input_ids = tokenizer(valid_text, return_tensors='tf',truncation=True,padding=True)['input_ids']"
   ]
  },
  {
   "cell_type": "code",
   "execution_count": 21,
   "id": "a5d3954a",
   "metadata": {},
   "outputs": [],
   "source": [
    "Batch_size = 64\n",
    "start = 0;Endu = Batch_size\n",
    "fullsize = math.floor(len(input_ids)/Batch_size)"
   ]
  },
  {
   "cell_type": "code",
   "execution_count": 22,
   "id": "5267df3a",
   "metadata": {},
   "outputs": [
    {
     "name": "stdout",
     "output_type": "stream",
     "text": [
      "0\n"
     ]
    }
   ],
   "source": [
    "for i in range(fullsize):\n",
    "    if i+1 == fullsize:\n",
    "        Endu = len(input_ids)\n",
    "        out = model(input_ids[int(start):int(Endu)])\n",
    "    else:\n",
    "        out = model(input_ids[int(start):int(Endu)])\n",
    "    if i == 0:\n",
    "        total = out.pooler_output \n",
    "    else:\n",
    "        #torch.cat((total,out.last_hidden_state),0)\n",
    "        total = tf.concat([total, out.pooler_output],0)\n",
    "    start = Batch_size * (i+1)\n",
    "    Endu = Batch_size * (i+2)\n",
    "    print(i)"
   ]
  },
  {
   "cell_type": "code",
   "execution_count": 23,
   "id": "7400a572",
   "metadata": {},
   "outputs": [],
   "source": [
    "X_valid = np.array(total)\n",
    "np.save('Indice_BERT_X_val.npy', X_valid)"
   ]
  },
  {
   "cell_type": "code",
   "execution_count": 24,
   "id": "85aad341",
   "metadata": {},
   "outputs": [],
   "source": [
    "# Y_train = np.array(train_label)\n",
    "# np.save('Indice_BERT_Y_train.npy',Y_train)\n",
    "\n",
    "# Y_val = np.array(valid_label)\n",
    "# np.save('Indice_BERT_Y_val.npy',Y_val)"
   ]
  },
  {
   "cell_type": "code",
   "execution_count": 25,
   "id": "7711d9e1",
   "metadata": {},
   "outputs": [],
   "source": [
    "X_train = np.load('Indice_BERT_X_train.npy')\n",
    "X_val = np.load('Indice_BERT_X_val.npy')"
   ]
  },
  {
   "cell_type": "code",
   "execution_count": 26,
   "id": "2289f045",
   "metadata": {},
   "outputs": [
    {
     "data": {
      "text/plain": [
       "1000"
      ]
     },
     "execution_count": 26,
     "metadata": {},
     "output_type": "execute_result"
    }
   ],
   "source": [
    "len(X_train)"
   ]
  },
  {
   "cell_type": "code",
   "execution_count": 27,
   "id": "eda05cf6",
   "metadata": {},
   "outputs": [
    {
     "data": {
      "text/plain": [
       "1000"
      ]
     },
     "execution_count": 27,
     "metadata": {},
     "output_type": "execute_result"
    }
   ],
   "source": [
    "len(train_label)"
   ]
  },
  {
   "cell_type": "code",
   "execution_count": 28,
   "id": "c38d3ef4",
   "metadata": {},
   "outputs": [],
   "source": [
    "Y_train = np.array(train_label)\n",
    "Y_val = np.array(valid_label)"
   ]
  },
  {
   "cell_type": "code",
   "execution_count": 29,
   "id": "caf94141",
   "metadata": {},
   "outputs": [
    {
     "name": "stdout",
     "output_type": "stream",
     "text": [
      " Volume in drive C is Acer\n",
      " Volume Serial Number is 3818-7542\n",
      "\n",
      " Directory of C:\\Users\\phvpa\\OneDrive - Amrita Vishwa Vidyapeetham\\Amrita-Mtech-CEN\\ProjectWork\\MTech Thesis\\Denoise in Code mix data\\Experiments\\Malyalam\\Indice_BERT\\1000 and 100 dataset\n",
      "\n",
      "23-10-2021  10:01    <DIR>          .\n",
      "23-10-2021  09:49    <DIR>          ..\n",
      "23-10-2021  09:58    <DIR>          .ipynb_checkpoints\n",
      "23-10-2021  10:01            34,018 Indice_BERT.ipynb\n",
      "23-10-2021  09:58            33,936 Indice_BERT_Denoised_SVM_DT_RF.ipynb\n",
      "23-10-2021  10:02         3,072,128 Indice_BERT_X_train.npy\n",
      "23-10-2021  10:03           307,328 Indice_BERT_X_val.npy\n",
      "23-10-2021  09:17         6,268,128 Mal_train.npy\n",
      "23-10-2021  09:17             8,128 Mal_train_label.npy\n",
      "23-10-2021  09:17            84,128 Mal_val.npy\n",
      "23-10-2021  09:17               928 Mal_val_label.npy\n",
      "22-10-2021  13:30               360 WR_LS_Denoising.py\n",
      "               9 File(s)      9,809,082 bytes\n",
      "               3 Dir(s)  331,885,748,224 bytes free\n"
     ]
    }
   ],
   "source": [
    "ls"
   ]
  },
  {
   "cell_type": "markdown",
   "id": "d345d9a3",
   "metadata": {
    "id": "d345d9a3"
   },
   "source": [
    "# SVM"
   ]
  },
  {
   "cell_type": "code",
   "execution_count": 30,
   "id": "7e0d4127",
   "metadata": {
    "id": "7e0d4127"
   },
   "outputs": [],
   "source": [
    "from sklearn.svm import SVC\n",
    "from sklearn.metrics import confusion_matrix, classification_report"
   ]
  },
  {
   "cell_type": "code",
   "execution_count": 31,
   "id": "72d87abf",
   "metadata": {
    "colab": {
     "base_uri": "https://localhost:8080/"
    },
    "id": "72d87abf",
    "outputId": "75a079e3-a9a5-42ce-89da-cc076c3d46fb"
   },
   "outputs": [
    {
     "data": {
      "text/plain": [
       "SVC(decision_function_shape='ovo')"
      ]
     },
     "execution_count": 31,
     "metadata": {},
     "output_type": "execute_result"
    }
   ],
   "source": [
    "svc = SVC(decision_function_shape='ovo')\n",
    "svc.fit(X_train,Y_train)"
   ]
  },
  {
   "cell_type": "code",
   "execution_count": 32,
   "id": "d5c37e8b",
   "metadata": {
    "id": "d5c37e8b"
   },
   "outputs": [],
   "source": [
    "pred_svc = svc.predict(X_val)"
   ]
  },
  {
   "cell_type": "code",
   "execution_count": 33,
   "id": "3aac1faa",
   "metadata": {
    "colab": {
     "base_uri": "https://localhost:8080/"
    },
    "id": "3aac1faa",
    "outputId": "991a71dd-f341-4da4-bcb1-4181d2252a01"
   },
   "outputs": [
    {
     "data": {
      "text/plain": [
       "array([[ 0, 19,  0,  0,  1],\n",
       "       [ 0, 18,  0,  1,  1],\n",
       "       [ 1, 18,  0,  0,  1],\n",
       "       [ 1, 18,  0,  1,  0],\n",
       "       [ 0, 20,  0,  0,  0]], dtype=int64)"
      ]
     },
     "execution_count": 33,
     "metadata": {},
     "output_type": "execute_result"
    }
   ],
   "source": [
    "confusion_matrix(Y_val,pred_svc)"
   ]
  },
  {
   "cell_type": "code",
   "execution_count": 34,
   "id": "b3ab3232",
   "metadata": {
    "colab": {
     "base_uri": "https://localhost:8080/"
    },
    "id": "b3ab3232",
    "outputId": "90fe8304-70cc-43a0-c8a1-023f89e0fe7d"
   },
   "outputs": [
    {
     "name": "stdout",
     "output_type": "stream",
     "text": [
      "              precision    recall  f1-score   support\n",
      "\n",
      "           0       0.00      0.00      0.00        20\n",
      "           1       0.19      0.90      0.32        20\n",
      "           2       0.00      0.00      0.00        20\n",
      "           3       0.50      0.05      0.09        20\n",
      "           4       0.00      0.00      0.00        20\n",
      "\n",
      "    accuracy                           0.19       100\n",
      "   macro avg       0.14      0.19      0.08       100\n",
      "weighted avg       0.14      0.19      0.08       100\n",
      "\n"
     ]
    },
    {
     "name": "stderr",
     "output_type": "stream",
     "text": [
      "C:\\Users\\phvpa\\anaconda3\\envs\\MuRIL\\lib\\site-packages\\sklearn\\metrics\\_classification.py:1308: UndefinedMetricWarning: Precision and F-score are ill-defined and being set to 0.0 in labels with no predicted samples. Use `zero_division` parameter to control this behavior.\n",
      "  _warn_prf(average, modifier, msg_start, len(result))\n",
      "C:\\Users\\phvpa\\anaconda3\\envs\\MuRIL\\lib\\site-packages\\sklearn\\metrics\\_classification.py:1308: UndefinedMetricWarning: Precision and F-score are ill-defined and being set to 0.0 in labels with no predicted samples. Use `zero_division` parameter to control this behavior.\n",
      "  _warn_prf(average, modifier, msg_start, len(result))\n",
      "C:\\Users\\phvpa\\anaconda3\\envs\\MuRIL\\lib\\site-packages\\sklearn\\metrics\\_classification.py:1308: UndefinedMetricWarning: Precision and F-score are ill-defined and being set to 0.0 in labels with no predicted samples. Use `zero_division` parameter to control this behavior.\n",
      "  _warn_prf(average, modifier, msg_start, len(result))\n"
     ]
    }
   ],
   "source": [
    "print(classification_report(Y_val,pred_svc))"
   ]
  },
  {
   "cell_type": "markdown",
   "id": "1d52c3b4",
   "metadata": {
    "id": "1d52c3b4"
   },
   "source": [
    "## DecisionTree"
   ]
  },
  {
   "cell_type": "code",
   "execution_count": 35,
   "id": "22eaebbc",
   "metadata": {
    "id": "22eaebbc"
   },
   "outputs": [],
   "source": [
    "from sklearn.tree import DecisionTreeClassifier"
   ]
  },
  {
   "cell_type": "code",
   "execution_count": 36,
   "id": "6328e7df",
   "metadata": {
    "id": "6328e7df"
   },
   "outputs": [],
   "source": [
    "Dtree = DecisionTreeClassifier(criterion='entropy', random_state=10)"
   ]
  },
  {
   "cell_type": "code",
   "execution_count": 37,
   "id": "08dd8070",
   "metadata": {
    "colab": {
     "base_uri": "https://localhost:8080/"
    },
    "id": "08dd8070",
    "outputId": "572f420e-98a7-4e50-a8ec-54bebe27b025"
   },
   "outputs": [
    {
     "data": {
      "text/plain": [
       "DecisionTreeClassifier(criterion='entropy', random_state=10)"
      ]
     },
     "execution_count": 37,
     "metadata": {},
     "output_type": "execute_result"
    }
   ],
   "source": [
    "Dtree.fit(X_train,Y_train)"
   ]
  },
  {
   "cell_type": "code",
   "execution_count": 38,
   "id": "afb71803",
   "metadata": {
    "id": "afb71803"
   },
   "outputs": [],
   "source": [
    "pred_Dtree = Dtree.predict(X_val)"
   ]
  },
  {
   "cell_type": "code",
   "execution_count": 39,
   "id": "e67c6e6b",
   "metadata": {
    "colab": {
     "base_uri": "https://localhost:8080/"
    },
    "id": "e67c6e6b",
    "outputId": "eec1f3b1-7ba7-4ba9-9339-28ad6423a6eb"
   },
   "outputs": [
    {
     "data": {
      "text/plain": [
       "array([[ 0,  1,  0, 19,  0],\n",
       "       [ 0,  0,  2, 18,  0],\n",
       "       [ 0,  0,  3, 17,  0],\n",
       "       [ 0,  0,  3, 17,  0],\n",
       "       [ 0,  0,  1, 19,  0]], dtype=int64)"
      ]
     },
     "execution_count": 39,
     "metadata": {},
     "output_type": "execute_result"
    }
   ],
   "source": [
    "confusion_matrix(Y_val,pred_Dtree)"
   ]
  },
  {
   "cell_type": "code",
   "execution_count": 40,
   "id": "9c525bf7",
   "metadata": {
    "colab": {
     "base_uri": "https://localhost:8080/"
    },
    "id": "9c525bf7",
    "outputId": "b15dc9d7-41da-4cd0-c100-789b2f8266d9"
   },
   "outputs": [
    {
     "name": "stdout",
     "output_type": "stream",
     "text": [
      "              precision    recall  f1-score   support\n",
      "\n",
      "           0       0.00      0.00      0.00        20\n",
      "           1       0.00      0.00      0.00        20\n",
      "           2       0.33      0.15      0.21        20\n",
      "           3       0.19      0.85      0.31        20\n",
      "           4       0.00      0.00      0.00        20\n",
      "\n",
      "    accuracy                           0.20       100\n",
      "   macro avg       0.10      0.20      0.10       100\n",
      "weighted avg       0.10      0.20      0.10       100\n",
      "\n"
     ]
    },
    {
     "name": "stderr",
     "output_type": "stream",
     "text": [
      "C:\\Users\\phvpa\\anaconda3\\envs\\MuRIL\\lib\\site-packages\\sklearn\\metrics\\_classification.py:1308: UndefinedMetricWarning: Precision and F-score are ill-defined and being set to 0.0 in labels with no predicted samples. Use `zero_division` parameter to control this behavior.\n",
      "  _warn_prf(average, modifier, msg_start, len(result))\n",
      "C:\\Users\\phvpa\\anaconda3\\envs\\MuRIL\\lib\\site-packages\\sklearn\\metrics\\_classification.py:1308: UndefinedMetricWarning: Precision and F-score are ill-defined and being set to 0.0 in labels with no predicted samples. Use `zero_division` parameter to control this behavior.\n",
      "  _warn_prf(average, modifier, msg_start, len(result))\n",
      "C:\\Users\\phvpa\\anaconda3\\envs\\MuRIL\\lib\\site-packages\\sklearn\\metrics\\_classification.py:1308: UndefinedMetricWarning: Precision and F-score are ill-defined and being set to 0.0 in labels with no predicted samples. Use `zero_division` parameter to control this behavior.\n",
      "  _warn_prf(average, modifier, msg_start, len(result))\n"
     ]
    }
   ],
   "source": [
    "print(classification_report(Y_val,pred_Dtree))"
   ]
  },
  {
   "cell_type": "markdown",
   "id": "3a4f41b3",
   "metadata": {
    "id": "3a4f41b3"
   },
   "source": [
    "## Random Forest"
   ]
  },
  {
   "cell_type": "code",
   "execution_count": 41,
   "id": "a2260390",
   "metadata": {
    "id": "a2260390"
   },
   "outputs": [],
   "source": [
    "from sklearn.ensemble import RandomForestClassifier"
   ]
  },
  {
   "cell_type": "code",
   "execution_count": 42,
   "id": "d878b35a",
   "metadata": {
    "colab": {
     "base_uri": "https://localhost:8080/"
    },
    "id": "d878b35a",
    "outputId": "5f710e96-5956-4dba-8528-43cefa9b0f85"
   },
   "outputs": [
    {
     "data": {
      "text/plain": [
       "RandomForestClassifier()"
      ]
     },
     "execution_count": 42,
     "metadata": {},
     "output_type": "execute_result"
    }
   ],
   "source": [
    "RFC = RandomForestClassifier()\n",
    "RFC.fit(X_train,Y_train)"
   ]
  },
  {
   "cell_type": "code",
   "execution_count": 43,
   "id": "724ea596",
   "metadata": {
    "id": "724ea596"
   },
   "outputs": [],
   "source": [
    "pred_RFC = RFC.predict(X_val)"
   ]
  },
  {
   "cell_type": "code",
   "execution_count": 44,
   "id": "dc4743ed",
   "metadata": {
    "colab": {
     "base_uri": "https://localhost:8080/"
    },
    "id": "dc4743ed",
    "outputId": "101513a7-d020-49d9-d41c-58f4c524d532"
   },
   "outputs": [
    {
     "data": {
      "text/plain": [
       "array([[ 0,  8,  0,  0, 12],\n",
       "       [ 0, 13,  0,  1,  6],\n",
       "       [ 0,  7,  0,  1, 12],\n",
       "       [ 0, 10,  0,  1,  9],\n",
       "       [ 0,  8,  0,  0, 12]], dtype=int64)"
      ]
     },
     "execution_count": 44,
     "metadata": {},
     "output_type": "execute_result"
    }
   ],
   "source": [
    "confusion_matrix(Y_val,pred_RFC)"
   ]
  },
  {
   "cell_type": "code",
   "execution_count": 45,
   "id": "6362c92e",
   "metadata": {
    "colab": {
     "base_uri": "https://localhost:8080/"
    },
    "id": "6362c92e",
    "outputId": "8f6b6387-446e-41ec-f344-173eba1fe0db"
   },
   "outputs": [
    {
     "name": "stdout",
     "output_type": "stream",
     "text": [
      "              precision    recall  f1-score   support\n",
      "\n",
      "           0       0.00      0.00      0.00        20\n",
      "           1       0.28      0.65      0.39        20\n",
      "           2       0.00      0.00      0.00        20\n",
      "           3       0.33      0.05      0.09        20\n",
      "           4       0.24      0.60      0.34        20\n",
      "\n",
      "    accuracy                           0.26       100\n",
      "   macro avg       0.17      0.26      0.16       100\n",
      "weighted avg       0.17      0.26      0.16       100\n",
      "\n"
     ]
    },
    {
     "name": "stderr",
     "output_type": "stream",
     "text": [
      "C:\\Users\\phvpa\\anaconda3\\envs\\MuRIL\\lib\\site-packages\\sklearn\\metrics\\_classification.py:1308: UndefinedMetricWarning: Precision and F-score are ill-defined and being set to 0.0 in labels with no predicted samples. Use `zero_division` parameter to control this behavior.\n",
      "  _warn_prf(average, modifier, msg_start, len(result))\n",
      "C:\\Users\\phvpa\\anaconda3\\envs\\MuRIL\\lib\\site-packages\\sklearn\\metrics\\_classification.py:1308: UndefinedMetricWarning: Precision and F-score are ill-defined and being set to 0.0 in labels with no predicted samples. Use `zero_division` parameter to control this behavior.\n",
      "  _warn_prf(average, modifier, msg_start, len(result))\n",
      "C:\\Users\\phvpa\\anaconda3\\envs\\MuRIL\\lib\\site-packages\\sklearn\\metrics\\_classification.py:1308: UndefinedMetricWarning: Precision and F-score are ill-defined and being set to 0.0 in labels with no predicted samples. Use `zero_division` parameter to control this behavior.\n",
      "  _warn_prf(average, modifier, msg_start, len(result))\n"
     ]
    }
   ],
   "source": [
    "print(classification_report(Y_val,pred_RFC))"
   ]
  },
  {
   "cell_type": "code",
   "execution_count": null,
   "id": "f2fdbe9c",
   "metadata": {},
   "outputs": [],
   "source": []
  }
 ],
 "metadata": {
  "kernelspec": {
   "display_name": "Python 3 (ipykernel)",
   "language": "python",
   "name": "python3"
  },
  "language_info": {
   "codemirror_mode": {
    "name": "ipython",
    "version": 3
   },
   "file_extension": ".py",
   "mimetype": "text/x-python",
   "name": "python",
   "nbconvert_exporter": "python",
   "pygments_lexer": "ipython3",
   "version": "3.8.11"
  }
 },
 "nbformat": 4,
 "nbformat_minor": 5
}
